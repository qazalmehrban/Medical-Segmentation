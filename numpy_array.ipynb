{
  "nbformat": 4,
  "nbformat_minor": 0,
  "metadata": {
    "colab": {
      "name": "Copy of Copy of Untitled1.ipynb",
      "provenance": [],
      "include_colab_link": true
    },
    "kernelspec": {
      "name": "python3",
      "display_name": "Python 3"
    }
  },
  "cells": [
    {
      "cell_type": "markdown",
      "metadata": {
        "id": "view-in-github",
        "colab_type": "text"
      },
      "source": [
        "<a href=\"https://colab.research.google.com/github/qazalmehrban/Medical-Segmentation/blob/ghazal/numpy_array.ipynb\" target=\"_parent\"><img src=\"https://colab.research.google.com/assets/colab-badge.svg\" alt=\"Open In Colab\"/></a>"
      ]
    },
    {
      "cell_type": "code",
      "metadata": {
        "id": "SJeS1cyb1W6E"
      },
      "source": [
        "import tensorflow as tf\n",
        "from skimage.transform import resize\n",
        "import numpy as np\n",
        "import nibabel as nib# for reading nifty files\n",
        "import os \n",
        "\n",
        "\n"
      ],
      "execution_count": 1,
      "outputs": []
    },
    {
      "cell_type": "code",
      "metadata": {
        "id": "7BlRnWBamWiJ"
      },
      "source": [
        ""
      ],
      "execution_count": null,
      "outputs": []
    },
    {
      "cell_type": "code",
      "metadata": {
        "id": "Eayxrfw2oKDF",
        "colab": {
          "base_uri": "https://localhost:8080/"
        },
        "outputId": "68d0cf15-4f68-43a0-bea2-c3997f541cd8"
      },
      "source": [
        "from google.colab import drive\n",
        "drive.mount('/content/drive')"
      ],
      "execution_count": 2,
      "outputs": [
        {
          "output_type": "stream",
          "text": [
            "Mounted at /content/drive\n"
          ],
          "name": "stdout"
        }
      ]
    },
    {
      "cell_type": "code",
      "metadata": {
        "id": "QfR6URnCEmgZ"
      },
      "source": [
        "IMG_HEIGHT, IMG_WIDTH =200,200"
      ],
      "execution_count": 18,
      "outputs": []
    },
    {
      "cell_type": "code",
      "metadata": {
        "id": "KZ1-7XrJyHL9"
      },
      "source": [
        "def gen(filter = True):\n",
        "  batch_i = []\n",
        "  batch_m =[]\n",
        "  samples = '/content/drive/MyDrive/samples/'\n",
        "  patients = next(os.walk(samples))[2]\n",
        "  patients.sort()\n",
        "  labels = '/content/drive/MyDrive/segmentation/'\n",
        "  segmentations =next(os.walk(labels))[2]\n",
        "  segmentations.sort()\n",
        "  for i,j in zip(patients,segmentations):\n",
        "    Images = nib.load((samples + i))\n",
        "    im = np.array(Images.dataobj)\n",
        "    Masks = nib.load((labels + j))    \n",
        "    Masks = np.array(Masks.dataobj)\n",
        "    img_resize = resize(im,\n",
        "               (IMG_HEIGHT, IMG_WIDTH),\n",
        "             mode = 'constant',\n",
        "              anti_aliasing=True,\n",
        "               preserve_range=True)\n",
        "    mask_resize = resize(Masks,\n",
        "               (IMG_HEIGHT, IMG_WIDTH),\n",
        "             mode = 'constant',\n",
        "              anti_aliasing=True,\n",
        "               preserve_range=True)\n",
        "    for k in range(im.shape[2]):\n",
        "      if filter:\n",
        "        if np.all(mask_resize[:,:,k]==0):\n",
        "          continue\n",
        "        else :\n",
        "          im1 = np.expand_dims(img_resize[:,:,k],2)\n",
        "          ma = np.expand_dims(mask_resize[:,:,k],2)\n",
        "          batch_i.append(im1)\n",
        "          batch_m.append(ma)\n",
        "      else :\n",
        "\n",
        "\n",
        "        im1 = np.expand_dims(img_resize[:,:,k],2)\n",
        "        ma = np.expand_dims(mask_resize[:,:,k],2)\n",
        "        batch_i.append(im1)\n",
        "        \n",
        "        batch_m.append(ma)\n",
        "  batch_image = np.stack(batch_i)\n",
        "  batch_mask = np.stack(batch_m)\n",
        "\n",
        "\n",
        "  return batch_image, batch_mask\n"
      ],
      "execution_count": 22,
      "outputs": []
    },
    {
      "cell_type": "code",
      "metadata": {
        "id": "XtMHb-cg62il"
      },
      "source": [
        "total_image , total_mask = gen()"
      ],
      "execution_count": 23,
      "outputs": []
    },
    {
      "cell_type": "code",
      "metadata": {
        "id": "B1Y0NMrEg51f",
        "outputId": "fe961bb2-59ce-450b-b6df-500cd18b10df",
        "colab": {
          "base_uri": "https://localhost:8080/"
        }
      },
      "source": [
        "total_image.shape, total_mask.shape"
      ],
      "execution_count": 24,
      "outputs": [
        {
          "output_type": "execute_result",
          "data": {
            "text/plain": [
              "((421, 200, 200, 1), (421, 200, 200, 1))"
            ]
          },
          "metadata": {
            "tags": []
          },
          "execution_count": 24
        }
      ]
    }
  ]
}