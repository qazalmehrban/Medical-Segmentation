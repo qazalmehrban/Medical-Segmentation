{
  "nbformat": 4,
  "nbformat_minor": 0,
  "metadata": {
    "colab": {
      "name": "Copy of Copy of Untitled1.ipynb",
      "provenance": [],
      "include_colab_link": true
    },
    "kernelspec": {
      "name": "python3",
      "display_name": "Python 3"
    }
  },
  "cells": [
    {
      "cell_type": "markdown",
      "metadata": {
        "id": "view-in-github",
        "colab_type": "text"
      },
      "source": [
        "<a href=\"https://colab.research.google.com/github/qazalmehrban/Medical-Segmentation/blob/ghazal/numpy_array.ipynb\" target=\"_parent\"><img src=\"https://colab.research.google.com/assets/colab-badge.svg\" alt=\"Open In Colab\"/></a>"
      ]
    },
    {
      "cell_type": "code",
      "metadata": {
        "id": "SJeS1cyb1W6E"
      },
      "source": [
        "import tensorflow as tf\n",
        "from skimage.transform import resize\n",
        "import numpy as np\n",
        "import nibabel as nib# for reading nifty files\n",
        "import os \n",
        "\n",
        "\n"
      ],
      "execution_count": 1,
      "outputs": []
    },
    {
      "cell_type": "code",
      "metadata": {
        "id": "7BlRnWBamWiJ"
      },
      "source": [
        ""
      ],
      "execution_count": 1,
      "outputs": []
    },
    {
      "cell_type": "code",
      "metadata": {
        "id": "Eayxrfw2oKDF",
        "colab": {
          "base_uri": "https://localhost:8080/"
        },
        "outputId": "8a7ff0b9-cf5d-4aae-cf6a-f3477a809c86"
      },
      "source": [
        "from google.colab import drive\n",
        "drive.mount('/content/drive')"
      ],
      "execution_count": 3,
      "outputs": [
        {
          "output_type": "stream",
          "text": [
            "Drive already mounted at /content/drive; to attempt to forcibly remount, call drive.mount(\"/content/drive\", force_remount=True).\n"
          ],
          "name": "stdout"
        }
      ]
    },
    {
      "cell_type": "code",
      "metadata": {
        "id": "QfR6URnCEmgZ"
      },
      "source": [
        "IMG_HEIGHT, IMG_WIDTH =300,300"
      ],
      "execution_count": 4,
      "outputs": []
    },
    {
      "cell_type": "code",
      "metadata": {
        "id": "KZ1-7XrJyHL9"
      },
      "source": [
        "def gen(filter = True):\n",
        "  batch_i = []\n",
        "  batch_m =[]\n",
        "  samples = '/content/drive/MyDrive/samples/'\n",
        "  patients = next(os.walk(samples))[2]\n",
        "  patients.sort()\n",
        "  labels = '/content/drive/MyDrive/segmentation/'\n",
        "  segmentations =next(os.walk(labels))[2]\n",
        "  segmentations.sort()\n",
        "  for i,j in zip(patients,segmentations):\n",
        "    Images = nib.load((samples + i))\n",
        "    im = np.array(Images.dataobj)\n",
        "    Masks = nib.load((labels + j))    \n",
        "    Masks = np.array(Masks.dataobj)\n",
        "    img_resize = resize(im,\n",
        "               (IMG_HEIGHT, IMG_WIDTH),\n",
        "             mode = 'constant',\n",
        "              anti_aliasing=True,\n",
        "               preserve_range=True)\n",
        "    mask_resize = resize(Masks,\n",
        "               (IMG_HEIGHT, IMG_WIDTH),\n",
        "             mode = 'constant',\n",
        "              anti_aliasing=True,\n",
        "               preserve_range=True)\n",
        "    for k in range(im.shape[2]):\n",
        "      if filter:\n",
        "        if np.all(mask_resize[:,:,k]==0):\n",
        "          continue\n",
        "        else :\n",
        "          im1 = np.expand_dims(img_resize[:,:,k],2)\n",
        "          ma = np.expand_dims(mask_resize[:,:,k],2)\n",
        "          batch_i.append(im1)\n",
        "          batch_m.append(ma)\n",
        "      else :\n",
        "\n",
        "\n",
        "        im1 = np.expand_dims(img_resize[:,:,k],2)\n",
        "        ma = np.expand_dims(mask_resize[:,:,k],2)\n",
        "        batch_i.append(im1)\n",
        "        \n",
        "        batch_m.append(ma)\n",
        "  batch_image = np.stack(batch_i)\n",
        "  batch_mask = np.stack(batch_m)\n",
        "\n",
        "\n",
        "  return batch_image, batch_mask\n"
      ],
      "execution_count": 5,
      "outputs": []
    },
    {
      "cell_type": "code",
      "metadata": {
        "id": "XtMHb-cg62il"
      },
      "source": [
        "total_image , total_mask = gen()"
      ],
      "execution_count": 6,
      "outputs": []
    },
    {
      "cell_type": "code",
      "metadata": {
        "id": "B1Y0NMrEg51f",
        "colab": {
          "base_uri": "https://localhost:8080/"
        },
        "outputId": "df1c8255-7130-4616-d3f8-4a8b4f5612db"
      },
      "source": [
        "total_image.shape, total_mask.shape"
      ],
      "execution_count": 7,
      "outputs": [
        {
          "output_type": "execute_result",
          "data": {
            "text/plain": [
              "((608, 300, 300, 1), (608, 300, 300, 1))"
            ]
          },
          "metadata": {
            "tags": []
          },
          "execution_count": 7
        }
      ]
    },
    {
      "cell_type": "code",
      "metadata": {
        "id": "M2eHtJJ9NCQl"
      },
      "source": [
        "dataset = tf.data.Dataset.from_tensor_slices((total_image, total_mask))"
      ],
      "execution_count": 8,
      "outputs": []
    },
    {
      "cell_type": "code",
      "metadata": {
        "id": "xT3lfDq7NbVt",
        "outputId": "fb942280-5dc2-46ed-ada3-5576cdaed504",
        "colab": {
          "base_uri": "https://localhost:8080/"
        }
      },
      "source": [
        "dataset.element_spec"
      ],
      "execution_count": 9,
      "outputs": [
        {
          "output_type": "execute_result",
          "data": {
            "text/plain": [
              "(TensorSpec(shape=(300, 300, 1), dtype=tf.float64, name=None),\n",
              " TensorSpec(shape=(300, 300, 1), dtype=tf.float64, name=None))"
            ]
          },
          "metadata": {
            "tags": []
          },
          "execution_count": 9
        }
      ]
    },
    {
      "cell_type": "code",
      "metadata": {
        "id": "ZIsAGwgSNds8"
      },
      "source": [
        ""
      ],
      "execution_count": null,
      "outputs": []
    }
  ]
}