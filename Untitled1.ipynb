{
  "nbformat": 4,
  "nbformat_minor": 0,
  "metadata": {
    "colab": {
      "name": "Untitled1.ipynb",
      "provenance": [],
      "include_colab_link": true
    },
    "kernelspec": {
      "name": "python3",
      "display_name": "Python 3"
    }
  },
  "cells": [
    {
      "cell_type": "markdown",
      "metadata": {
        "id": "view-in-github",
        "colab_type": "text"
      },
      "source": [
        "<a href=\"https://colab.research.google.com/github/qazalmehrban/Medical-Segmentation/blob/ghazal/Untitled1.ipynb\" target=\"_parent\"><img src=\"https://colab.research.google.com/assets/colab-badge.svg\" alt=\"Open In Colab\"/></a>"
      ]
    },
    {
      "cell_type": "code",
      "metadata": {
        "id": "rMFBaf92c1S5"
      },
      "source": [
        "import torch\n",
        "from torch.utils.data import Dataset, DataLoader\n",
        "from torchvision import transforms, utils\n"
      ],
      "execution_count": 22,
      "outputs": []
    },
    {
      "cell_type": "code",
      "metadata": {
        "id": "31DttFLNcse1"
      },
      "source": [
        "class dataset(Dataset):\n",
        "\n",
        "  def __init__(self, root, transform = None):\n",
        "    super().__init__()\n",
        "    self.root = root\n",
        "    self.transform = transform\n",
        "  def __getitem__(self, value):\n",
        "    samples = self.root + 'samples/'\n",
        "    patients = next(os.walk(samples))[2]\n",
        "    patients.sort()\n",
        "    labels = self.root + 'segmentation/'\n",
        "    segmentations =next(os.walk(labels))[2]\n",
        "\n",
        "    Images = nib.load((samples + patients[value]))\n",
        "    im = np.array(Images.dataobj)\n",
        "    im = resize_1()(im)\n",
        "    Masks = nib.load((labels + segmentations[value]))    \n",
        "    Masks = np.array(Masks.dataobj)\n",
        "\n",
        "    return { 'sample':im}\n",
        "\n",
        "    \n",
        "  def __len__(self):\n",
        "    return len(next(os.walk(self.root + 'samples/'))[2])\n"
      ],
      "execution_count": 23,
      "outputs": []
    },
    {
      "cell_type": "code",
      "metadata": {
        "id": "79adVmUkjZaf"
      },
      "source": [
        "IMG_HEIGHT_RESIZED = 383\n",
        "IMG_WIDTH_RESIZED = 383\n",
        "IMG_CHANNELS_RESIZED = 20\n",
        "\n",
        "class resize_1(object):\n",
        "  def __init__(self):\n",
        "    pass\n",
        "  def __call__(self,inp):\n",
        "    return resize(inp, (IMG_HEIGHT_RESIZED, IMG_WIDTH_RESIZED), preserve_range=True)"
      ],
      "execution_count": 24,
      "outputs": []
    },
    {
      "cell_type": "code",
      "metadata": {
        "id": "7KODNUl2jx6r"
      },
      "source": [
        "#class crop():\n",
        "#  pass"
      ],
      "execution_count": 25,
      "outputs": []
    },
    {
      "cell_type": "code",
      "metadata": {
        "id": "1azXiawdjgin"
      },
      "source": [
        "#transform = transforms.Compose([resize(),crop(),transforms.ToTensor()])"
      ],
      "execution_count": 26,
      "outputs": []
    },
    {
      "cell_type": "code",
      "metadata": {
        "id": "6Pe0lAevfrJo"
      },
      "source": [
        "h = dataset('/content/drive/MyDrive/', transform=None)"
      ],
      "execution_count": 27,
      "outputs": []
    },
    {
      "cell_type": "code",
      "metadata": {
        "id": "61C9IK0Rf2iU"
      },
      "source": [
        "dataloader = DataLoader(h, 4)"
      ],
      "execution_count": 28,
      "outputs": []
    },
    {
      "cell_type": "code",
      "metadata": {
        "id": "7BlRnWBamWiJ"
      },
      "source": [
        ""
      ],
      "execution_count": 28,
      "outputs": []
    },
    {
      "cell_type": "code",
      "metadata": {
        "id": "Eayxrfw2oKDF",
        "colab": {
          "base_uri": "https://localhost:8080/"
        },
        "outputId": "335fb0f2-5239-4c0f-9e09-ebe31ef819c4"
      },
      "source": [
        "from google.colab import drive\n",
        "drive.mount('/content/drive')"
      ],
      "execution_count": 29,
      "outputs": [
        {
          "output_type": "stream",
          "text": [
            "Drive already mounted at /content/drive; to attempt to forcibly remount, call drive.mount(\"/content/drive\", force_remount=True).\n"
          ],
          "name": "stdout"
        }
      ]
    }
  ]
}