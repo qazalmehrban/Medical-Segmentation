{
  "nbformat": 4,
  "nbformat_minor": 0,
  "metadata": {
    "colab": {
      "name": "Untitled1.ipynb",
      "provenance": [],
      "include_colab_link": true
    },
    "kernelspec": {
      "name": "python3",
      "display_name": "Python 3"
    }
  },
  "cells": [
    {
      "cell_type": "markdown",
      "metadata": {
        "id": "view-in-github",
        "colab_type": "text"
      },
      "source": [
        "<a href=\"https://colab.research.google.com/github/qazalmehrban/Medical-Segmentation/blob/ghazal/Untitled1.ipynb\" target=\"_parent\"><img src=\"https://colab.research.google.com/assets/colab-badge.svg\" alt=\"Open In Colab\"/></a>"
      ]
    },
    {
      "cell_type": "code",
      "metadata": {
        "id": "2CpdafWVAE3i"
      },
      "source": [
        "import nibabel as nib# for reading nifty files\n",
        "import os # for doing directory operations \n",
        "import pandas as pd # for some simple data analysis (right now, just to load in the labels data and quickly reference it)\n",
        "import numpy as np\n",
        "import sys\n",
        "import glob\n",
        "import random\n",
        "from tqdm import tqdm\n",
        "from PIL import Image\n",
        "import matplotlib.pyplot as plt\n",
        "from keras.preprocessing import image\n",
        "from skimage.transform import resize\n",
        "from skimage.io import imread, imshow, imsave\n",
        "from skimage.viewer import ImageViewer\n",
        "\n",
        "img_height=255\n",
        "img_wieght=255\n",
        "img_channal=20\n",
        "\n",
        "samples = '/content/drive/MyDrive/samples/'\n",
        "patients = next(os.walk(samples))[2]\n",
        "labels = '/content/drive/MyDrive/segmentation/'\n",
        "segmentations =next(os.walk(labels))[2]\n"
      ],
      "execution_count": 32,
      "outputs": []
    },
    {
      "cell_type": "code",
      "metadata": {
        "colab": {
          "base_uri": "https://localhost:8080/"
        },
        "id": "Uzsye7RUkJrr",
        "outputId": "1a0f19f5-1aa1-4c9f-d52b-a2076051f8aa"
      },
      "source": [
        "inputs= np.zeros((len(patients), img_height , img_wieght , img_channal) , dtype = np.uint8)\n",
        "ground_truth = np.zeros((len(segmentations), img_height , img_wieght , 2) , dtype = np.bool)\n",
        "print('loading samples and masks , please wait')\n",
        "sys.stdout.flush()\n",
        "stack = []\n",
        "for f , n in tqdm(enumerate(patients) , total=(len(patients))):\n",
        "    #Images = nib.load((samples + f))[:,:,:img_channal]\n",
        "    Images = nib.load((samples + n))\n",
        "\n",
        "    stack.append(np.array(Images.dataobj))\n",
        "#np.stack(stack,0)\n",
        "for f , n in enumerate(segmentations):\n",
        "\n",
        "    Masks = nib.load((labels + n))    \n",
        "    Masks = np.array(Masks.dataobj).astype(np.bool)\n",
        "    print(Masks.shape)\n",
        "    #Ground_Truth[f, :, :, 0] = ~Masks\n",
        "    #Ground_Truth[f, :, :, 1] = Masks\n",
        "\n",
        "#Ground_Truth[n, :, :, 0] = ~Masks\n",
        "#Ground_Truth[n, :, :, 1] = Masks\n"
      ],
      "execution_count": 44,
      "outputs": [
        {
          "output_type": "stream",
          "text": [
            "loading samples and masks , please wait\n"
          ],
          "name": "stdout"
        },
        {
          "output_type": "stream",
          "text": [
            "100%|██████████| 53/53 [00:06<00:00,  7.66it/s]\n"
          ],
          "name": "stderr"
        },
        {
          "output_type": "stream",
          "text": [
            "(384, 384, 24)\n",
            "(384, 384, 20)\n",
            "(384, 384, 20)\n",
            "(384, 384, 20)\n",
            "(384, 384, 15)\n",
            "(384, 384, 20)\n",
            "(384, 384, 20)\n",
            "(384, 384, 20)\n",
            "(384, 384, 17)\n",
            "(384, 384, 15)\n",
            "(384, 384, 15)\n",
            "(384, 384, 20)\n",
            "(384, 384, 20)\n",
            "(384, 384, 20)\n",
            "(384, 384, 20)\n",
            "(384, 384, 20)\n",
            "(384, 384, 20)\n",
            "(384, 384, 19)\n",
            "(384, 384, 20)\n",
            "(384, 384, 20)\n",
            "(384, 384, 20)\n",
            "(384, 384, 18)\n",
            "(384, 384, 20)\n",
            "(384, 384, 20)\n",
            "(384, 384, 15)\n",
            "(384, 384, 20)\n",
            "(384, 384, 20)\n",
            "(384, 384, 20)\n",
            "(384, 384, 20)\n",
            "(384, 384, 20)\n",
            "(512, 512, 29)\n",
            "(320, 320, 15)\n",
            "(320, 320, 20)\n",
            "(320, 320, 20)\n",
            "(320, 320, 20)\n",
            "(320, 320, 20)\n",
            "(320, 320, 17)\n",
            "(320, 320, 20)\n",
            "(320, 320, 20)\n",
            "(320, 320, 20)\n",
            "(320, 320, 20)\n",
            "(320, 320, 20)\n",
            "(256, 256, 18)\n",
            "(512, 512, 23)\n",
            "(512, 512, 23)\n",
            "(512, 512, 23)\n",
            "(512, 512, 23)\n",
            "(512, 512, 23)\n",
            "(512, 512, 23)\n",
            "(512, 512, 23)\n",
            "(512, 512, 23)\n",
            "(256, 256, 23)\n",
            "(384, 384, 28)\n"
          ],
          "name": "stdout"
        }
      ]
    },
    {
      "cell_type": "code",
      "metadata": {
        "id": "0NSpO968AOUc"
      },
      "source": [
        ""
      ],
      "execution_count": null,
      "outputs": []
    }
  ]
}