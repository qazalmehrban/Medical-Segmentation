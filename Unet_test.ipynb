{
  "nbformat": 4,
  "nbformat_minor": 0,
  "metadata": {
    "colab": {
      "name": "Copy of Untitled1.ipynb",
      "provenance": [],
      "include_colab_link": true
    },
    "kernelspec": {
      "display_name": "Python 3",
      "language": "python",
      "name": "python3"
    },
    "language_info": {
      "codemirror_mode": {
        "name": "ipython",
        "version": 3
      },
      "file_extension": ".py",
      "mimetype": "text/x-python",
      "name": "python",
      "nbconvert_exporter": "python",
      "pygments_lexer": "ipython3",
      "version": "3.8.5"
    },
    "accelerator": "GPU"
  },
  "cells": [
    {
      "cell_type": "markdown",
      "metadata": {
        "id": "view-in-github",
        "colab_type": "text"
      },
      "source": [
        "<a href=\"https://colab.research.google.com/github/qazalmehrban/Medical-Segmentation/blob/ghazal/Unet_test.ipynb\" target=\"_parent\"><img src=\"https://colab.research.google.com/assets/colab-badge.svg\" alt=\"Open In Colab\"/></a>"
      ]
    },
    {
      "cell_type": "code",
      "metadata": {
        "id": "SJeS1cyb1W6E"
      },
      "source": [
        "import numpy as np\n",
        "import nibabel as nib\n",
        "import os \n",
        "import glob\n",
        "\n",
        "import tensorflow as tf\n",
        "from tensorflow import keras\n",
        "from tensorflow.keras import layers\n",
        "from skimage.transform import resize\n",
        "\n",
        "import torch\n",
        "import torch.nn as nn\n",
        "\n",
        "import plotly.express as px\n",
        "import plotly.graph_objects as go\n",
        "import matplotlib.pyplot as plt\n"
      ],
      "execution_count": 3,
      "outputs": []
    },
    {
      "cell_type": "code",
      "metadata": {
        "id": "wrCxsKNFlhqX",
        "colab": {
          "base_uri": "https://localhost:8080/"
        },
        "outputId": "b1e5436c-d38b-4f5d-8b96-cd663d72b9f8"
      },
      "source": [
        "from google.colab import drive\n",
        "drive.mount('/content/drive')"
      ],
      "execution_count": 4,
      "outputs": [
        {
          "output_type": "stream",
          "text": [
            "Mounted at /content/drive\n"
          ],
          "name": "stdout"
        }
      ]
    },
    {
      "cell_type": "code",
      "metadata": {
        "id": "Z-zMk0jg6Dla"
      },
      "source": [
        "samples = '/content/drive/MyDrive/samples/'\n",
        "labels = '/content/drive/MyDrive/segmentation/'\n",
        "mix = '/content/drive/MyDrive/New folder/'\n",
        "#patients = next(os.walk(samples))[2]\n",
        "\n",
        "#segmentations =next(os.walk(labels))[2]\n"
      ],
      "execution_count": 5,
      "outputs": []
    },
    {
      "cell_type": "code",
      "metadata": {
        "id": "un4n53f0NGXh"
      },
      "source": [
        "#patients_object = os.scandir(samples)\n",
        "#patients_list = [i.path for i in patients_object]\n",
        "patients_list = glob.glob(mix + '*[0-9].*')\n",
        "patients_list.sort()\n",
        "\n",
        "#segment_object = os.scandir(labels)\n",
        "#segment_list = [i.path for i in segment_object]\n",
        "segment_list = glob.glob(mix + '*n.*')\n",
        "segment_list.sort()\n",
        "\n",
        "\n",
        "\n",
        "\n",
        "\n",
        "\n",
        "\n",
        "\n"
      ],
      "execution_count": 6,
      "outputs": []
    },
    {
      "cell_type": "code",
      "metadata": {
        "id": "4_747rKG6Dlb"
      },
      "source": [
        "def make_box(mask):\n",
        "    '''\n",
        "    this function return dict object contain bounding box of each pixel label and bbox of true value in bolean array\n",
        "    '''\n",
        "    box = []\n",
        "    box_bool=[]\n",
        "    obj_ids = np.unique(mask)\n",
        "    if mask.dtype == bool:\n",
        "        if len(np.unique(mask))==2:\n",
        "            \n",
        "            y_min = np.nonzero(mask)[0].min()\n",
        "            y_max = np.nonzero(mask)[0].max()\n",
        "            x_min = np.nonzero(mask)[1].min()\n",
        "            x_max = np.nonzero(mask)[1].max()\n",
        "            box=[x_min, y_min, x_max, y_max]\n",
        "    else :\n",
        "        mask_bool = mask.astype(np.bool)\n",
        "        if len(np.unique(mask_bool))==2:\n",
        "            \n",
        "            y_min = np.nonzero(mask_bool)[0].min()\n",
        "            y_max = np.nonzero(mask_bool)[0].max()\n",
        "            x_min = np.nonzero(mask_bool)[1].min()\n",
        "            x_max = np.nonzero(mask_bool)[1].max()\n",
        "            box_bool=[x_min, y_min, x_max, y_max]\n",
        "        \n",
        "        for i in  obj_ids[1:]:\n",
        "            y_min = np.nonzero(mask==i)[0].min()\n",
        "            y_max = np.nonzero(mask==i)[0].max()\n",
        "            x_min = np.nonzero(mask==i)[1].min()\n",
        "            x_max = np.nonzero(mask==i)[1].max()\n",
        "            box.append([x_min, y_min, x_max, y_max])\n",
        "    return_object = {'bbox_bool': box} if mask.dtype ==bool else {'bbox_label': dict(zip([f\"label{int(i)}\" for i in obj_ids[1:]],box)), 'bbox_bool' : box_bool}\n",
        "    return return_object"
      ],
      "execution_count": 7,
      "outputs": []
    },
    {
      "cell_type": "code",
      "metadata": {
        "id": "ECG9I6T4JN1e"
      },
      "source": [
        "def slice_label(masks):\n",
        "\n",
        "  l0 = []\n",
        "  l1 =[]\n",
        "  l2 = []\n",
        "  for i in range(masks.shape[-1]):\n",
        "    if len(np.unique(masks[:,:,i])) ==1:\n",
        "      l0.append(i)\n",
        "    elif len(np.unique(masks[:,:,i])) ==2:\n",
        "      l1.append(i)\n",
        "    elif len(np.unique(masks[:,:,i])) ==3:\n",
        "      l2.append(i)\n",
        "  return {'label_0':l0, 'label_1':l1,'label_2': l2}"
      ],
      "execution_count": 8,
      "outputs": []
    },
    {
      "cell_type": "code",
      "metadata": {
        "id": "bqPPikDP2Ce6",
        "colab": {
          "base_uri": "https://localhost:8080/"
        },
        "outputId": "aa9bc7ae-be13-4bb6-a642-77c2085b6f0b"
      },
      "source": [
        "masks = nib.load(segment_list[67])\n",
        "masks = np.array(masks.dataobj)\n",
        "slice_label(masks)"
      ],
      "execution_count": null,
      "outputs": [
        {
          "output_type": "execute_result",
          "data": {
            "text/plain": [
              "{'label_0': [0, 1, 18, 19],\n",
              " 'label_1': [2, 11, 12, 13, 14, 15, 16, 17],\n",
              " 'label_2': [3, 4, 5, 6, 7, 8, 9, 10]}"
            ]
          },
          "metadata": {
            "tags": []
          },
          "execution_count": 95
        }
      ]
    },
    {
      "cell_type": "code",
      "metadata": {
        "id": "2iv1RZR4pS8d"
      },
      "source": [
        "def bounding_box_plot(Masks_2d):\n",
        "  \n",
        "  print(f'labels_slice_{slices}', np.unique(Masks_2d))\n",
        "  print('bounding_box', make_box(Masks_2d.astype(bool)))\n",
        "\n",
        "  fig=px.imshow(Masks_2d)\n",
        "\n",
        "  li = make_box(Masks_2d.astype(bool))\n",
        "\n",
        "  k = dict(x0= li[0], x1= li[2], y0= li[1], y1= li[3])\n",
        "  fig.add_shape(\n",
        "    type='rect',\n",
        "    **k,\n",
        "    xref='x', yref='y',\n",
        "    line_color='cyan'\n",
        "  )\n",
        "  fig.show()"
      ],
      "execution_count": 9,
      "outputs": []
    },
    {
      "cell_type": "code",
      "metadata": {
        "id": "a1TUX6dj6U4z"
      },
      "source": [
        "def crop_specific(im, mask, crop_size):\n",
        "        \n",
        "        k=make_box(mask.astype(np.bool))\n",
        "        if len(k['bbox_bool'])!=0:\n",
        "            b_list = k['bbox_bool']\n",
        "            x_min, y_min, x_max, y_max = b_list\n",
        "            \n",
        "            length_x = x_max -x_min + 1\n",
        "            length_y = y_max - y_min + 1\n",
        "            del_x = crop_size - length_x \n",
        "            del_y = crop_size - length_y \n",
        "\n",
        "            if del_x%2==0:\n",
        "                kx = del_x//2\n",
        "                sx=0\n",
        "            else:\n",
        "                kx = del_x//2\n",
        "\n",
        "                sx = 1\n",
        "            if del_y%2==0:\n",
        "                ky = del_y//2\n",
        "                sy=0\n",
        "            else:\n",
        "                ky = del_y//2\n",
        "                sy = 1\n",
        "            \n",
        "            crop = mask[ y_min - ky - sy : y_max + ky + 1, x_min - kx - sx : x_max + kx  + 1]\n",
        "            crop_im = im[ y_min - ky - sy : y_max + ky + 1, x_min - kx - sx : x_max + kx  + 1]\n",
        "            return crop_im, crop, \n"
      ],
      "execution_count": 10,
      "outputs": []
    },
    {
      "cell_type": "code",
      "metadata": {
        "id": "N3h1lZMG6U7r"
      },
      "source": [
        "crop_size = 192\n",
        "p_seg = []\n",
        "p_im = []\n",
        "for patient_file, segment_file in zip( patients_list[:60], segment_list[:60]):\n",
        "    im = nib.load(patient_file)    \n",
        "    im = np.array(im.dataobj)\n",
        "\n",
        "    Masks = nib.load(segment_file)    \n",
        "    Masks = np.array(Masks.dataobj)\n",
        "    Masks.shape\n",
        "    for  j in range(Masks.shape[2]):\n",
        "      k=make_box(Masks[:,:,j].astype(np.bool))\n",
        "      if len(k['bbox_bool'])!=0:\n",
        "        crop_im , crop = crop_specific(im[:,:,j], Masks[:,:,j], crop_size= crop_size)\n",
        "        p_seg.append(crop)\n",
        "        p_im.append(crop_im)\n",
        "\n",
        "\n",
        "    \n",
        "   "
      ],
      "execution_count": 11,
      "outputs": []
    },
    {
      "cell_type": "code",
      "metadata": {
        "id": "SQrg3Z4cad1j"
      },
      "source": [
        "crop_size = 192\n",
        "p_seg_t = []\n",
        "p_im_t = []\n",
        "for patient_file, segment_file in zip( patients_list[60:], segment_list[60:]):\n",
        "    im = nib.load(patient_file)    \n",
        "    im = np.array(im.dataobj)\n",
        "\n",
        "    Masks = nib.load(segment_file)    \n",
        "    Masks = np.array(Masks.dataobj)\n",
        "    Masks.shape\n",
        "    for  j in range(Masks.shape[2]):\n",
        "      k=make_box(Masks[:,:,j].astype(np.bool))\n",
        "      if len(k['bbox_bool'])!=0:\n",
        "        crop_im , crop = crop_specific(im[:,:,j], Masks[:,:,j], crop_size= crop_size)\n",
        "        p_seg_t.append(crop)\n",
        "        p_im_t.append(crop_im)\n",
        "\n"
      ],
      "execution_count": 12,
      "outputs": []
    },
    {
      "cell_type": "code",
      "metadata": {
        "id": "IDUY2DLw6Dld"
      },
      "source": [
        "segment_numpy = np.stack(p_seg,0)\n",
        "image_numpy = np.stack(p_im, 0)\n",
        "\n",
        "segment_numpy_t = np.stack(p_seg_t,0)\n",
        "image_numpy_t = np.stack(p_im_t, 0)"
      ],
      "execution_count": 13,
      "outputs": []
    },
    {
      "cell_type": "code",
      "metadata": {
        "id": "S_mcwDyL6Dld"
      },
      "source": [
        "train = image_numpy/image_numpy.max()\n",
        "test = image_numpy_t/image_numpy.max()"
      ],
      "execution_count": 14,
      "outputs": []
    },
    {
      "cell_type": "code",
      "metadata": {
        "id": "PftZTqrl6Dle"
      },
      "source": [
        "train_seg_bolean = segment_numpy.astype(bool)\n",
        "test_seg_bolean = segment_numpy_t.astype(bool)"
      ],
      "execution_count": 15,
      "outputs": []
    },
    {
      "cell_type": "code",
      "metadata": {
        "id": "9fiHgm90TbbG"
      },
      "source": [
        "test_seg_f = np.float32(test_seg_bolean)\n",
        "train_seg_f = np.float32(train_seg_bolean)"
      ],
      "execution_count": 16,
      "outputs": []
    },
    {
      "cell_type": "markdown",
      "metadata": {
        "id": "ejmgY4FAojSc"
      },
      "source": [
        "# Pytorch"
      ]
    },
    {
      "cell_type": "code",
      "metadata": {
        "id": "1rxoyUEtpmKL"
      },
      "source": [
        "train_image_torch = np.expand_dims(train,1)\n",
        "train_seg_torch  = np.expand_dims(train_seg_f,1)"
      ],
      "execution_count": 29,
      "outputs": []
    },
    {
      "cell_type": "code",
      "metadata": {
        "id": "I9NJ_iPypm0Q",
        "colab": {
          "base_uri": "https://localhost:8080/"
        },
        "outputId": "2363f14f-a57d-4203-c508-a14b6b0dc9a9"
      },
      "source": [
        "train_image_torch.shape"
      ],
      "execution_count": 30,
      "outputs": [
        {
          "output_type": "execute_result",
          "data": {
            "text/plain": [
              "(824, 1, 192, 192)"
            ]
          },
          "metadata": {
            "tags": []
          },
          "execution_count": 30
        }
      ]
    },
    {
      "cell_type": "code",
      "metadata": {
        "id": "ODZSxdP-omWt"
      },
      "source": [
        "def conv3x3_bn_relu(inp_activation, output_activation, BN=True, activation = True):\n",
        "    \"con 3x3 + Batchnormalization + relu\"\n",
        "    layer = [nn.Conv2d(inp_activation, output_activation, 3, padding = 1)]\n",
        "    for i, j in zip([nn.BatchNorm2d(output_activation), nn.ReLU(inplace=True)],[BN, activation]):\n",
        "        if j==True:\n",
        "            layer.append(i)\n",
        "    return nn.Sequential(*layer)\n",
        "    \n",
        "    \n",
        "    \n",
        "class conv_block(nn.Module):\n",
        "    \n",
        "    def __init__(self, inp_activation, list_filter, BN = False):\n",
        "        super().__init__()\n",
        "        self.conv3x3_1 = conv3x3_bn_relu(inp_activation, list_filter, BN=BN)\n",
        "        self.conv3x3_2 = conv3x3_bn_relu(list_filter, list_filter, BN=BN)\n",
        "    def forward(self , inp):\n",
        "        c = self.conv3x3_1(inp)\n",
        "        c = self.conv3x3_2(c)\n",
        "        return c\n",
        "        \n",
        "class Unet(nn.Module):\n",
        "    def __init__(self, n_class):\n",
        "        \n",
        "        super().__init__()\n",
        "        self.en_block1 = conv_block(1,32)\n",
        "        self.en_block2 = conv_block(32,64)\n",
        "        self.en_block3 = conv_block(64,128)\n",
        "        self.en_block4 = conv_block(128,256)\n",
        "        self.en_block5 = conv_block(256,512)\n",
        "        self.en_block6 = conv_block(512, 1024)\n",
        "\n",
        "        \n",
        "        self.transpose5 = nn.ConvTranspose2d(1024,512,2,2)\n",
        "        self.transpose4 = nn.ConvTranspose2d(512,256,2,2)\n",
        "\n",
        "        self.transpose3 = nn.ConvTranspose2d(256,128,2,2)\n",
        "        self.transpose2 = nn.ConvTranspose2d(128,64,2,2)\n",
        "        self.transpose1 = nn.ConvTranspose2d(64,32,2,2)\n",
        "        \n",
        "        self.de_block1 = conv_block(64,32)\n",
        "        self.de_block2 = conv_block(128,64)\n",
        "        self.de_block3 = conv_block(256,128)\n",
        "\n",
        "        self.de_block4 = conv_block(512, 256)\n",
        "        self.de_block5 = conv_block(1024, 512)\n",
        "        self.out_conv = nn.Conv2d(32, 1, 1)\n",
        "\n",
        "        \n",
        "    \n",
        "\n",
        "    def forward(self, inp):\n",
        "        el1 = self.en_block1(inp) #  (32,h,w)\n",
        "        #print('el1',el1.shape)\n",
        "        max1 = nn.MaxPool2d(2)(el1) # (32,h//2, w//2)\n",
        "        #print('max1',max1.shape)\n",
        "\n",
        "        el2 = self.en_block2(max1)    #(64, h//2, w//2)\n",
        "        #print('el2',el2.shape)\n",
        "\n",
        "        max2 = nn.MaxPool2d(2)(el2)  #(64, h//4, w//4)\n",
        "        #print('max2',max2.shape)\n",
        "\n",
        "        el3 = self.en_block3(max2)    #(128, h//4, w//4)\n",
        "        #print('el3',el3.shape)\n",
        "\n",
        "        max3 = nn.MaxPool2d(2)(el3)  #(128, h//8, w//8)\n",
        "        #print('max3',max3.shape)\n",
        "\n",
        "\n",
        "        el4 = self.en_block4(max3)    #(256, h//8, w//8)\n",
        "        #print('el4',el4.shape)\n",
        "\n",
        "        max4 = nn.MaxPool2d(2)(el4)  #(256, h//16, w//16)\n",
        "        #print('max4',max4.shape)\n",
        "\n",
        "        el5 = self.en_block5(max4)  #(512, h//16, w//16)\n",
        "        #print('el5',el5.shape)\n",
        "\n",
        "        max5 = nn.MaxPool2d(2)(el5)  #(512, h//32, w//32)\n",
        "        #print('max5',max5.shape)\n",
        "\n",
        "        \n",
        "        el6 = self.en_block6(max5)  #(1024, h//32, w//32)\n",
        "        #print('el6',el6.shape)\n",
        "\n",
        "\n",
        "        tl5 = self.transpose5(el6)  #(512, h//16, w//16)\n",
        "        #print('tl5',tl5.shape)\n",
        "\n",
        "        cat5 = torch.cat([tl5, el5], 1) #(1024, h//16, h//16 )\n",
        "        #print('cat5',cat5.shape)\n",
        "\n",
        "        d5 =  self.de_block5(cat5)      #(512, h//16, w//16\n",
        "        #print('d5',d5.shape)\n",
        "\n",
        "        \n",
        "        tl4 = self.transpose4(d5)       #(256, h//8, w//8)\n",
        "        cat4 = torch.cat([tl4, el4], 1) #(512, h//8, w//8)\n",
        "        d4 =  self.de_block4(cat4)     #(256, h//8, w//8)\n",
        "        \n",
        "        tl3 = self.transpose3(d4)        #(128, h//4, w//4)\n",
        "        cat3 = torch.cat([tl3, el3], 1)  #(256, h//4, w//4)\n",
        "        d3 =  self.de_block3(cat3)        #(128, h//4, w//4)\n",
        "        \n",
        "        \n",
        "        tl2 = self.transpose2(d3)          #(64, h//2, w//2)\n",
        "        cat2 = torch.cat([tl2, el2], 1)   #(128, h//2, w//2)\n",
        "        d2 =  self.de_block2(cat2)         #(64, h//2, w//2)\n",
        "        \n",
        "        tl1 = self.transpose1(d2)          #(32, h, w)\n",
        "        cat1 = torch.cat([tl1, el1], 1) #(64, h, w)\n",
        "        d1 =  self.de_block1(cat1)        #(32, h, w)\n",
        "        output = self.out_conv(d1) \n",
        "\n",
        "        return output\n"
      ],
      "execution_count": 47,
      "outputs": []
    },
    {
      "cell_type": "code",
      "metadata": {
        "id": "RVa5_ABxomZA"
      },
      "source": [
        "m = Unet(2)"
      ],
      "execution_count": 48,
      "outputs": []
    },
    {
      "cell_type": "code",
      "metadata": {
        "id": "GjAqSjH3afAY"
      },
      "source": [
        "X = torch.rand(1,1,192,192)"
      ],
      "execution_count": 49,
      "outputs": []
    },
    {
      "cell_type": "code",
      "metadata": {
        "id": "vzRz9ZnHafCx",
        "colab": {
          "base_uri": "https://localhost:8080/"
        },
        "outputId": "b5bc5838-3b97-44df-aa9a-dad96a2c32f0"
      },
      "source": [
        "m(X)"
      ],
      "execution_count": 50,
      "outputs": [
        {
          "output_type": "execute_result",
          "data": {
            "text/plain": [
              "tensor([[[[-0.1344, -0.1392, -0.1307,  ..., -0.1320, -0.1340, -0.1433],\n",
              "          [-0.1382, -0.1350, -0.1361,  ..., -0.1387, -0.1396, -0.1495],\n",
              "          [-0.1391, -0.1379, -0.1313,  ..., -0.1365, -0.1444, -0.1456],\n",
              "          ...,\n",
              "          [-0.1391, -0.1452, -0.1383,  ..., -0.1386, -0.1427, -0.1476],\n",
              "          [-0.1410, -0.1392, -0.1372,  ..., -0.1354, -0.1429, -0.1489],\n",
              "          [-0.1492, -0.1427, -0.1415,  ..., -0.1418, -0.1440, -0.1477]]]],\n",
              "       grad_fn=<ThnnConv2DBackward>)"
            ]
          },
          "metadata": {
            "tags": []
          },
          "execution_count": 50
        }
      ]
    },
    {
      "cell_type": "code",
      "metadata": {
        "id": "zgkKIAeyafFC"
      },
      "source": [
        ""
      ],
      "execution_count": null,
      "outputs": []
    },
    {
      "cell_type": "code",
      "metadata": {
        "id": "-n2VxIr2afHb"
      },
      "source": [
        ""
      ],
      "execution_count": null,
      "outputs": []
    },
    {
      "cell_type": "code",
      "metadata": {
        "id": "SqhsugxLafJ_"
      },
      "source": [
        ""
      ],
      "execution_count": null,
      "outputs": []
    },
    {
      "cell_type": "code",
      "metadata": {
        "id": "wROsnyqJRERc",
        "colab": {
          "base_uri": "https://localhost:8080/"
        },
        "outputId": "ef9a5b42-de88-4b87-fb25-8da4997309b9"
      },
      "source": [
        "m.to(torch.device('cuda'))"
      ],
      "execution_count": 51,
      "outputs": [
        {
          "output_type": "execute_result",
          "data": {
            "text/plain": [
              "Unet(\n",
              "  (en_block1): conv_block(\n",
              "    (conv3x3_1): Sequential(\n",
              "      (0): Conv2d(1, 32, kernel_size=(3, 3), stride=(1, 1), padding=(1, 1))\n",
              "      (1): ReLU(inplace=True)\n",
              "    )\n",
              "    (conv3x3_2): Sequential(\n",
              "      (0): Conv2d(32, 32, kernel_size=(3, 3), stride=(1, 1), padding=(1, 1))\n",
              "      (1): ReLU(inplace=True)\n",
              "    )\n",
              "  )\n",
              "  (en_block2): conv_block(\n",
              "    (conv3x3_1): Sequential(\n",
              "      (0): Conv2d(32, 64, kernel_size=(3, 3), stride=(1, 1), padding=(1, 1))\n",
              "      (1): ReLU(inplace=True)\n",
              "    )\n",
              "    (conv3x3_2): Sequential(\n",
              "      (0): Conv2d(64, 64, kernel_size=(3, 3), stride=(1, 1), padding=(1, 1))\n",
              "      (1): ReLU(inplace=True)\n",
              "    )\n",
              "  )\n",
              "  (en_block3): conv_block(\n",
              "    (conv3x3_1): Sequential(\n",
              "      (0): Conv2d(64, 128, kernel_size=(3, 3), stride=(1, 1), padding=(1, 1))\n",
              "      (1): ReLU(inplace=True)\n",
              "    )\n",
              "    (conv3x3_2): Sequential(\n",
              "      (0): Conv2d(128, 128, kernel_size=(3, 3), stride=(1, 1), padding=(1, 1))\n",
              "      (1): ReLU(inplace=True)\n",
              "    )\n",
              "  )\n",
              "  (en_block4): conv_block(\n",
              "    (conv3x3_1): Sequential(\n",
              "      (0): Conv2d(128, 256, kernel_size=(3, 3), stride=(1, 1), padding=(1, 1))\n",
              "      (1): ReLU(inplace=True)\n",
              "    )\n",
              "    (conv3x3_2): Sequential(\n",
              "      (0): Conv2d(256, 256, kernel_size=(3, 3), stride=(1, 1), padding=(1, 1))\n",
              "      (1): ReLU(inplace=True)\n",
              "    )\n",
              "  )\n",
              "  (en_block5): conv_block(\n",
              "    (conv3x3_1): Sequential(\n",
              "      (0): Conv2d(256, 512, kernel_size=(3, 3), stride=(1, 1), padding=(1, 1))\n",
              "      (1): ReLU(inplace=True)\n",
              "    )\n",
              "    (conv3x3_2): Sequential(\n",
              "      (0): Conv2d(512, 512, kernel_size=(3, 3), stride=(1, 1), padding=(1, 1))\n",
              "      (1): ReLU(inplace=True)\n",
              "    )\n",
              "  )\n",
              "  (en_block6): conv_block(\n",
              "    (conv3x3_1): Sequential(\n",
              "      (0): Conv2d(512, 1024, kernel_size=(3, 3), stride=(1, 1), padding=(1, 1))\n",
              "      (1): ReLU(inplace=True)\n",
              "    )\n",
              "    (conv3x3_2): Sequential(\n",
              "      (0): Conv2d(1024, 1024, kernel_size=(3, 3), stride=(1, 1), padding=(1, 1))\n",
              "      (1): ReLU(inplace=True)\n",
              "    )\n",
              "  )\n",
              "  (transpose5): ConvTranspose2d(1024, 512, kernel_size=(2, 2), stride=(2, 2))\n",
              "  (transpose4): ConvTranspose2d(512, 256, kernel_size=(2, 2), stride=(2, 2))\n",
              "  (transpose3): ConvTranspose2d(256, 128, kernel_size=(2, 2), stride=(2, 2))\n",
              "  (transpose2): ConvTranspose2d(128, 64, kernel_size=(2, 2), stride=(2, 2))\n",
              "  (transpose1): ConvTranspose2d(64, 32, kernel_size=(2, 2), stride=(2, 2))\n",
              "  (de_block1): conv_block(\n",
              "    (conv3x3_1): Sequential(\n",
              "      (0): Conv2d(64, 32, kernel_size=(3, 3), stride=(1, 1), padding=(1, 1))\n",
              "      (1): ReLU(inplace=True)\n",
              "    )\n",
              "    (conv3x3_2): Sequential(\n",
              "      (0): Conv2d(32, 32, kernel_size=(3, 3), stride=(1, 1), padding=(1, 1))\n",
              "      (1): ReLU(inplace=True)\n",
              "    )\n",
              "  )\n",
              "  (de_block2): conv_block(\n",
              "    (conv3x3_1): Sequential(\n",
              "      (0): Conv2d(128, 64, kernel_size=(3, 3), stride=(1, 1), padding=(1, 1))\n",
              "      (1): ReLU(inplace=True)\n",
              "    )\n",
              "    (conv3x3_2): Sequential(\n",
              "      (0): Conv2d(64, 64, kernel_size=(3, 3), stride=(1, 1), padding=(1, 1))\n",
              "      (1): ReLU(inplace=True)\n",
              "    )\n",
              "  )\n",
              "  (de_block3): conv_block(\n",
              "    (conv3x3_1): Sequential(\n",
              "      (0): Conv2d(256, 128, kernel_size=(3, 3), stride=(1, 1), padding=(1, 1))\n",
              "      (1): ReLU(inplace=True)\n",
              "    )\n",
              "    (conv3x3_2): Sequential(\n",
              "      (0): Conv2d(128, 128, kernel_size=(3, 3), stride=(1, 1), padding=(1, 1))\n",
              "      (1): ReLU(inplace=True)\n",
              "    )\n",
              "  )\n",
              "  (de_block4): conv_block(\n",
              "    (conv3x3_1): Sequential(\n",
              "      (0): Conv2d(512, 256, kernel_size=(3, 3), stride=(1, 1), padding=(1, 1))\n",
              "      (1): ReLU(inplace=True)\n",
              "    )\n",
              "    (conv3x3_2): Sequential(\n",
              "      (0): Conv2d(256, 256, kernel_size=(3, 3), stride=(1, 1), padding=(1, 1))\n",
              "      (1): ReLU(inplace=True)\n",
              "    )\n",
              "  )\n",
              "  (de_block5): conv_block(\n",
              "    (conv3x3_1): Sequential(\n",
              "      (0): Conv2d(1024, 512, kernel_size=(3, 3), stride=(1, 1), padding=(1, 1))\n",
              "      (1): ReLU(inplace=True)\n",
              "    )\n",
              "    (conv3x3_2): Sequential(\n",
              "      (0): Conv2d(512, 512, kernel_size=(3, 3), stride=(1, 1), padding=(1, 1))\n",
              "      (1): ReLU(inplace=True)\n",
              "    )\n",
              "  )\n",
              "  (out_conv): Conv2d(32, 1, kernel_size=(1, 1), stride=(1, 1))\n",
              ")"
            ]
          },
          "metadata": {
            "tags": []
          },
          "execution_count": 51
        }
      ]
    },
    {
      "cell_type": "code",
      "metadata": {
        "id": "s3uVtkvdo5R3"
      },
      "source": [
        "d_tr = torch.utils.data.DataLoader(train_image_torch,32)\n",
        "d_seg = torch.utils.data.DataLoader(train_seg_torch,32)"
      ],
      "execution_count": 52,
      "outputs": []
    },
    {
      "cell_type": "code",
      "metadata": {
        "id": "CpmNmtNoo5VP"
      },
      "source": [
        "device = torch.device('cuda')"
      ],
      "execution_count": 53,
      "outputs": []
    },
    {
      "cell_type": "code",
      "metadata": {
        "id": "eMHst6GdRwWl"
      },
      "source": [
        "opt = torch.optim.Adam(m.parameters())"
      ],
      "execution_count": 54,
      "outputs": []
    },
    {
      "cell_type": "code",
      "metadata": {
        "id": "juKjnCuSR_53"
      },
      "source": [
        "loss = torch.nn.BCELoss()"
      ],
      "execution_count": 55,
      "outputs": []
    },
    {
      "cell_type": "code",
      "metadata": {
        "id": "WoebZa4ZWN0m"
      },
      "source": [
        "im = im.to(device=device)\n"
      ],
      "execution_count": 56,
      "outputs": []
    },
    {
      "cell_type": "code",
      "metadata": {
        "id": "R8jctKgaq30l"
      },
      "source": [
        ""
      ],
      "execution_count": 59,
      "outputs": []
    },
    {
      "cell_type": "code",
      "metadata": {
        "id": "xtvE06B4o5bg",
        "colab": {
          "base_uri": "https://localhost:8080/",
          "height": 231
        },
        "outputId": "2edc8151-af41-4756-aaac-215f0b2b4a4d"
      },
      "source": [
        "for im , segi in zip(d_tr, d_seg):\n",
        "  im = im.to(device=device)\n",
        "  segi =segi.to(device)\n",
        "  yh = m(im)\n",
        "  l = loss(yh, segi)\n",
        "  print(l)\n",
        "  opt.zero_grad()\n",
        "  l.backward()\n",
        "  opt.step\n",
        "  "
      ],
      "execution_count": 60,
      "outputs": [
        {
          "output_type": "error",
          "ename": "RuntimeError",
          "evalue": "ignored",
          "traceback": [
            "\u001b[0;31m---------------------------------------------------------------------------\u001b[0m",
            "\u001b[0;31mRuntimeError\u001b[0m                              Traceback (most recent call last)",
            "\u001b[0;32m<ipython-input-60-803c98cbf603>\u001b[0m in \u001b[0;36m<module>\u001b[0;34m()\u001b[0m\n\u001b[1;32m      1\u001b[0m \u001b[0;32mfor\u001b[0m \u001b[0mim\u001b[0m \u001b[0;34m,\u001b[0m \u001b[0msegi\u001b[0m \u001b[0;32min\u001b[0m \u001b[0mzip\u001b[0m\u001b[0;34m(\u001b[0m\u001b[0md_tr\u001b[0m\u001b[0;34m,\u001b[0m \u001b[0md_seg\u001b[0m\u001b[0;34m)\u001b[0m\u001b[0;34m:\u001b[0m\u001b[0;34m\u001b[0m\u001b[0;34m\u001b[0m\u001b[0m\n\u001b[0;32m----> 2\u001b[0;31m   \u001b[0mim\u001b[0m \u001b[0;34m=\u001b[0m \u001b[0mim\u001b[0m\u001b[0;34m.\u001b[0m\u001b[0mto\u001b[0m\u001b[0;34m(\u001b[0m\u001b[0mdevice\u001b[0m\u001b[0;34m=\u001b[0m\u001b[0mdevice\u001b[0m\u001b[0;34m)\u001b[0m\u001b[0;34m\u001b[0m\u001b[0;34m\u001b[0m\u001b[0m\n\u001b[0m\u001b[1;32m      3\u001b[0m   \u001b[0msegi\u001b[0m \u001b[0;34m=\u001b[0m\u001b[0msegi\u001b[0m\u001b[0;34m.\u001b[0m\u001b[0mto\u001b[0m\u001b[0;34m(\u001b[0m\u001b[0mdevice\u001b[0m\u001b[0;34m)\u001b[0m\u001b[0;34m\u001b[0m\u001b[0;34m\u001b[0m\u001b[0m\n\u001b[1;32m      4\u001b[0m   \u001b[0myh\u001b[0m \u001b[0;34m=\u001b[0m \u001b[0mm\u001b[0m\u001b[0;34m(\u001b[0m\u001b[0mim\u001b[0m\u001b[0;34m)\u001b[0m\u001b[0;34m\u001b[0m\u001b[0;34m\u001b[0m\u001b[0m\n\u001b[1;32m      5\u001b[0m   \u001b[0ml\u001b[0m \u001b[0;34m=\u001b[0m \u001b[0mloss\u001b[0m\u001b[0;34m(\u001b[0m\u001b[0myh\u001b[0m\u001b[0;34m,\u001b[0m \u001b[0msegi\u001b[0m\u001b[0;34m)\u001b[0m\u001b[0;34m\u001b[0m\u001b[0;34m\u001b[0m\u001b[0m\n",
            "\u001b[0;31mRuntimeError\u001b[0m: CUDA error: device-side assert triggered"
          ]
        }
      ]
    },
    {
      "cell_type": "code",
      "metadata": {
        "id": "PGq2CgdbgKmk",
        "colab": {
          "base_uri": "https://localhost:8080/"
        },
        "outputId": "3634e88e-bfc7-42be-e757-b40f16ae2cd6"
      },
      "source": [
        "torch.cuda.current_device()\n"
      ],
      "execution_count": null,
      "outputs": [
        {
          "output_type": "execute_result",
          "data": {
            "text/plain": [
              "0"
            ]
          },
          "metadata": {
            "tags": []
          },
          "execution_count": 135
        }
      ]
    },
    {
      "cell_type": "code",
      "metadata": {
        "id": "OgJM2fMjg-sd",
        "colab": {
          "base_uri": "https://localhost:8080/"
        },
        "outputId": "736de1fa-6905-449a-de7d-bff2045ce5ec"
      },
      "source": [
        "torch.cuda.is_available()"
      ],
      "execution_count": null,
      "outputs": [
        {
          "output_type": "execute_result",
          "data": {
            "text/plain": [
              "True"
            ]
          },
          "metadata": {
            "tags": []
          },
          "execution_count": 138
        }
      ]
    },
    {
      "cell_type": "code",
      "metadata": {
        "id": "pjTmUmKOhDiq",
        "colab": {
          "base_uri": "https://localhost:8080/"
        },
        "outputId": "10afa6c8-95c1-41a5-c47d-224fd1e465fc"
      },
      "source": [
        "torch.cuda.device_count()"
      ],
      "execution_count": null,
      "outputs": [
        {
          "output_type": "execute_result",
          "data": {
            "text/plain": [
              "1"
            ]
          },
          "metadata": {
            "tags": []
          },
          "execution_count": 137
        }
      ]
    },
    {
      "cell_type": "markdown",
      "metadata": {
        "id": "TXx7-kecQufp"
      },
      "source": [
        "# tensorflow"
      ]
    },
    {
      "cell_type": "code",
      "metadata": {
        "id": "oswpYrSC_yyS"
      },
      "source": [
        "IMG_HEIGHT, IMG_WIDTH, IMG_CHANNELS  =crop_size, crop_size, 1"
      ],
      "execution_count": null,
      "outputs": []
    },
    {
      "cell_type": "code",
      "metadata": {
        "id": "11C8uTN4B-vx"
      },
      "source": [
        "def conv_block(channel, drop = None, l2 = True):\n",
        "  seq = keras.Sequential()\n",
        "  seq.add(layers.Conv2D(channel, (3,3), activation='relu',kernel_regularizer='l2', kernel_initializer='he_normal',\n",
        "                padding='same'))\n",
        "  if drop!= None:\n",
        "    seq.add(\n",
        "    layers.Dropout(drop))\n",
        "  seq.add(layers.Conv2D(channel, (3,3), activation='relu', kernel_initializer='he_normal',\n",
        "                padding='same'))\n",
        "    \n",
        "  return seq\n"
      ],
      "execution_count": null,
      "outputs": []
    },
    {
      "cell_type": "code",
      "metadata": {
        "id": "R64Qgwthibtq"
      },
      "source": [
        "def conv_block(channel, drop = None, l2 = True):\n",
        "  seq = keras.Sequential()\n",
        "  seq.add(layers.Conv2D(channel, (1,1), activation='relu',kernel_regularizer='l2', kernel_initializer='he_normal',\n",
        "                padding='same'))\n",
        "  if drop!= None:\n",
        "    seq.add(\n",
        "    layers.Dropout(drop))\n",
        "  seq.add(layers.Conv2D(channel, (3,3), activation='relu', kernel_initializer='he_normal',\n",
        "                padding='same'))\n",
        "  seq.add(layers.Conv2D(channel, (1,1), activation='relu', kernel_initializer='he_normal',\n",
        "                padding='same'))\n",
        "    \n",
        "  return seq\n"
      ],
      "execution_count": null,
      "outputs": []
    },
    {
      "cell_type": "code",
      "metadata": {
        "id": "SqqSO_STlAuq"
      },
      "source": [
        "del conv_block"
      ],
      "execution_count": null,
      "outputs": []
    },
    {
      "cell_type": "code",
      "metadata": {
        "id": "xWAxDkhxixV_"
      },
      "source": [
        "class conv_block(tf.keras.layers.Layer):\n",
        "\n",
        "  def __init__(self, channel, **kwargs):\n",
        "        super(conv_block, self).__init__(**kwargs)\n",
        "        self.c1x1 = layers.Conv2D(channel, (1,1), activation='relu', kernel_initializer='he_normal',\n",
        "                padding='same')\n",
        "        self.c3x3 = layers.Conv2D(channel, (3,3), activation='relu', kernel_initializer='he_normal',\n",
        "                padding='same')\n",
        "        self.c1x1_2 = layers.Conv2D(channel, (1,1), activation='relu', kernel_initializer='he_normal',\n",
        "                padding='same')\n",
        "        self.co =  layers.Conv2D(channel, (1,1), activation='relu', kernel_initializer='he_normal',\n",
        "                padding='same')\n",
        "\n",
        "\n",
        "  def call(self, inputs, training=None):\n",
        "    l1 = self.c1x1(inputs)\n",
        "    l1 = self.c3x3(l1)\n",
        "    l1 = self.c1x1_2(l1)\n",
        "    inp_mod = self.co(inputs)\n",
        "    out = l1 + inp_mod\n",
        "    return out\n",
        "        "
      ],
      "execution_count": null,
      "outputs": []
    },
    {
      "cell_type": "code",
      "metadata": {
        "id": "k5uMExEjkw47"
      },
      "source": [
        "j = conv_block(34)"
      ],
      "execution_count": null,
      "outputs": []
    },
    {
      "cell_type": "code",
      "metadata": {
        "id": "dccobyPvMyHS"
      },
      "source": [
        "x = tf.random.normal((20, 39,39,7))"
      ],
      "execution_count": null,
      "outputs": []
    },
    {
      "cell_type": "code",
      "metadata": {
        "id": "n3CXhrnTM7Ar",
        "colab": {
          "base_uri": "https://localhost:8080/"
        },
        "outputId": "a4b582ff-398b-42ca-9cd3-063d974041e4"
      },
      "source": [
        "j(x).shape"
      ],
      "execution_count": null,
      "outputs": [
        {
          "output_type": "execute_result",
          "data": {
            "text/plain": [
              "TensorShape([20, 39, 39, 34])"
            ]
          },
          "metadata": {
            "tags": []
          },
          "execution_count": 43
        }
      ]
    },
    {
      "cell_type": "code",
      "metadata": {
        "id": "D2eY8nr2k2fk",
        "colab": {
          "base_uri": "https://localhost:8080/"
        },
        "outputId": "aa73f6c7-b2ec-4e6f-a0b6-9a8f5be1bc39"
      },
      "source": [
        "j.weights"
      ],
      "execution_count": null,
      "outputs": [
        {
          "output_type": "execute_result",
          "data": {
            "text/plain": [
              "[<tf.Variable 'conv_block/conv2d/kernel:0' shape=(1, 1, 7, 34) dtype=float32, numpy=\n",
              " array([[[[ 0.18898271,  0.12308799, -0.54893154, -0.1241494 ,\n",
              "           -0.37455314, -1.0088806 , -0.6304177 , -0.24309856,\n",
              "            0.19132558, -0.26737952,  0.46904823, -0.09880245,\n",
              "            0.3646544 , -0.00380567,  0.44892928,  0.3510273 ,\n",
              "           -0.5715696 , -0.7293777 ,  0.8677972 , -0.7628788 ,\n",
              "            0.12446189,  0.6364381 , -0.61884373,  0.30701858,\n",
              "           -0.27084935, -0.14688165,  0.64134467,  0.8640915 ,\n",
              "            0.53316945, -0.02910644,  0.19152763, -0.5253446 ,\n",
              "            1.1006019 , -0.35633865],\n",
              "          [ 0.5701611 ,  0.32584712,  0.0824834 , -0.3183823 ,\n",
              "            0.24500835,  0.8653678 ,  0.23654236,  0.7921695 ,\n",
              "           -0.28913406,  0.06652728,  0.13462755, -0.5874828 ,\n",
              "            0.19102852,  0.34682623, -0.10692296, -0.3625548 ,\n",
              "            0.08602098, -0.61241925,  0.31464577,  0.29911372,\n",
              "           -1.2067946 ,  0.20869462,  0.13763489,  0.4982966 ,\n",
              "            0.48381472, -0.64686793, -0.6398929 ,  0.43487498,\n",
              "           -0.94647366, -0.06521121,  0.5797995 ,  0.09611774,\n",
              "           -0.1770403 , -1.0163671 ],\n",
              "          [ 0.44122183,  0.02452079, -0.31569332, -0.38603112,\n",
              "           -0.09983263,  0.93768156,  0.37477022,  0.1729591 ,\n",
              "           -0.8658314 , -0.1502126 , -0.31354734, -0.26031715,\n",
              "           -0.32070073,  0.55486226, -0.6244123 ,  0.33205298,\n",
              "            0.56280375,  0.07663114,  0.40784723,  1.1494697 ,\n",
              "           -0.30935174, -0.47867906, -0.39589688, -0.6488696 ,\n",
              "            0.33423704,  0.5140422 , -0.07697094, -0.01034186,\n",
              "           -0.3995043 ,  0.21430793, -0.55225116,  0.7601503 ,\n",
              "            0.16670787,  0.06228261],\n",
              "          [-1.1273202 , -0.56133276,  0.11687676,  0.03959   ,\n",
              "           -0.3560334 , -0.49844784, -0.4432439 , -0.42647335,\n",
              "           -0.03605249,  0.5648765 ,  0.69944113,  0.20613761,\n",
              "            0.05232684,  0.1728167 , -0.2073393 ,  0.1498347 ,\n",
              "           -0.42767748, -0.83364123, -0.17461003,  0.24179628,\n",
              "            0.05903319,  0.34543684,  0.6877822 , -0.6709795 ,\n",
              "           -0.12533134,  0.16157393,  0.05170065,  0.22843036,\n",
              "            0.43942872,  0.28884947,  0.20298006,  0.6715051 ,\n",
              "           -0.41414523,  0.37705714],\n",
              "          [-0.8981634 , -0.1444518 ,  1.0450848 ,  0.67412686,\n",
              "            0.10286976, -0.44676092, -0.151954  , -0.66779935,\n",
              "            0.7637174 , -0.3900636 ,  0.47359145, -0.667629  ,\n",
              "            0.16902494, -0.10099398,  0.26114565, -1.1500572 ,\n",
              "           -0.41946346,  0.3121413 ,  0.25734863, -0.5608629 ,\n",
              "           -0.27938816, -0.7016929 , -1.1521678 , -0.43324754,\n",
              "           -0.13551067,  0.8782422 ,  0.12440415,  0.23620684,\n",
              "            0.23756732,  0.12046069, -0.38519767, -1.1977283 ,\n",
              "            0.49982774, -0.9511987 ],\n",
              "          [ 0.45464793, -0.51081735, -0.04509577, -0.3465178 ,\n",
              "           -0.92123926, -0.4001721 ,  0.42176476,  0.01057406,\n",
              "           -0.9169113 , -0.5789002 , -0.07000957, -0.85364974,\n",
              "            0.9435675 , -0.61738557, -0.11854319, -0.13774231,\n",
              "           -0.07364593,  0.2763968 ,  0.3391244 ,  0.340246  ,\n",
              "           -0.3385329 ,  1.0684395 ,  0.19857629, -0.18418498,\n",
              "            0.2451708 ,  1.0748543 , -0.00307092, -0.64022386,\n",
              "           -0.09551997, -0.38872588,  0.11292195,  0.43657398,\n",
              "            0.08921732,  0.1344311 ],\n",
              "          [ 0.57319367, -0.6543398 ,  0.45491558,  0.43583193,\n",
              "           -0.22903118,  0.2271911 ,  0.01574519,  0.41990846,\n",
              "            0.9396701 , -0.53518194,  0.09568407,  0.5431436 ,\n",
              "            0.06847289,  0.02137569, -0.06354608,  1.1013584 ,\n",
              "           -0.30211326, -0.6157498 , -0.9439483 , -0.01695834,\n",
              "            0.06407197,  1.0150473 ,  0.92388815, -1.0223227 ,\n",
              "            0.3228063 ,  0.80538076, -0.02381405, -0.21560669,\n",
              "           -0.40040827, -0.8755143 ,  0.3182744 ,  0.00910631,\n",
              "            0.8028475 , -0.21970543]]]], dtype=float32)>,\n",
              " <tf.Variable 'conv_block/conv2d/bias:0' shape=(34,) dtype=float32, numpy=\n",
              " array([0., 0., 0., 0., 0., 0., 0., 0., 0., 0., 0., 0., 0., 0., 0., 0., 0.,\n",
              "        0., 0., 0., 0., 0., 0., 0., 0., 0., 0., 0., 0., 0., 0., 0., 0., 0.],\n",
              "       dtype=float32)>,\n",
              " <tf.Variable 'conv_block/conv2d_1/kernel:0' shape=(3, 3, 34, 34) dtype=float32, numpy=\n",
              " array([[[[ 0.05254512, -0.00824754,  0.04903167, ...,  0.00061236,\n",
              "            0.05587196, -0.07329004],\n",
              "          [ 0.11504892, -0.09188436, -0.0833474 , ...,  0.03259471,\n",
              "            0.07570758,  0.07655105],\n",
              "          [-0.00892277,  0.05478966, -0.10603837, ...,  0.04956742,\n",
              "            0.06185189,  0.06504697],\n",
              "          ...,\n",
              "          [-0.09165813,  0.07198892, -0.05594569, ...,  0.0655895 ,\n",
              "           -0.12156802,  0.11505478],\n",
              "          [-0.1111    , -0.00454591,  0.00931643, ..., -0.1637977 ,\n",
              "            0.04857815,  0.10004234],\n",
              "          [ 0.10276691,  0.06193013, -0.06934585, ..., -0.04079694,\n",
              "            0.04332515, -0.00505202]],\n",
              " \n",
              "         [[ 0.05589081, -0.07492974, -0.11612127, ..., -0.06506831,\n",
              "            0.0794501 ,  0.06890145],\n",
              "          [-0.01141581, -0.05352757, -0.14867456, ...,  0.06919469,\n",
              "           -0.06394684,  0.02907191],\n",
              "          [ 0.16215804,  0.01145933, -0.1229765 , ..., -0.09639538,\n",
              "           -0.03581408, -0.13766041],\n",
              "          ...,\n",
              "          [ 0.06523537, -0.01148654, -0.08531497, ...,  0.12717922,\n",
              "           -0.16721053, -0.01291109],\n",
              "          [-0.13677089, -0.07027931, -0.15873268, ...,  0.02964889,\n",
              "           -0.09350601, -0.07531819],\n",
              "          [ 0.02746211, -0.05569012, -0.07991701, ...,  0.14391662,\n",
              "           -0.0510845 ,  0.10848557]],\n",
              " \n",
              "         [[ 0.05855161, -0.15683748, -0.03085285, ...,  0.16351902,\n",
              "            0.03358995,  0.0350079 ],\n",
              "          [ 0.05089659,  0.099584  ,  0.10951327, ..., -0.13703518,\n",
              "           -0.01775532,  0.07145307],\n",
              "          [-0.10005118,  0.10324625,  0.02316121, ...,  0.07453477,\n",
              "            0.04974555, -0.1135856 ],\n",
              "          ...,\n",
              "          [-0.05061268,  0.01103305,  0.02135253, ..., -0.1551823 ,\n",
              "           -0.09387081, -0.03066601],\n",
              "          [-0.001658  ,  0.02199633, -0.04200823, ..., -0.01579585,\n",
              "            0.09790219, -0.05274973],\n",
              "          [-0.14689246, -0.16739623,  0.1059214 , ...,  0.11539785,\n",
              "            0.11152784,  0.05351982]]],\n",
              " \n",
              " \n",
              "        [[[ 0.09288193,  0.03775286,  0.14782466, ..., -0.07197842,\n",
              "            0.12455907, -0.0283887 ],\n",
              "          [-0.0850271 , -0.09414052, -0.04325155, ...,  0.10449543,\n",
              "            0.10443339, -0.0147849 ],\n",
              "          [-0.14685771, -0.07826431,  0.1381891 , ..., -0.10076691,\n",
              "           -0.1438461 , -0.00363535],\n",
              "          ...,\n",
              "          [-0.01930797, -0.00601736, -0.1278288 , ...,  0.00053718,\n",
              "           -0.06949671, -0.06491019],\n",
              "          [ 0.0068874 ,  0.05150414, -0.03886952, ...,  0.0794694 ,\n",
              "           -0.01826734, -0.13565533],\n",
              "          [ 0.00058712, -0.09091329, -0.13589582, ...,  0.01998384,\n",
              "           -0.04095648,  0.0065689 ]],\n",
              " \n",
              "         [[-0.0267173 ,  0.00096003,  0.00425175, ..., -0.05054904,\n",
              "            0.16038069, -0.11853657],\n",
              "          [ 0.14477842,  0.04122928, -0.07605269, ..., -0.11630027,\n",
              "            0.07627657, -0.01868218],\n",
              "          [-0.05859743,  0.04500608,  0.092867  , ..., -0.17239633,\n",
              "            0.13216445,  0.01113055],\n",
              "          ...,\n",
              "          [ 0.05790966, -0.05098337, -0.03124473, ..., -0.12578088,\n",
              "           -0.04197295, -0.05241721],\n",
              "          [-0.08944483,  0.03229284,  0.08432963, ...,  0.06265078,\n",
              "            0.04219824, -0.02555773],\n",
              "          [-0.16306011, -0.03149155,  0.00476761, ...,  0.0522423 ,\n",
              "           -0.0388817 ,  0.13098708]],\n",
              " \n",
              "         [[-0.00373105, -0.00046174,  0.03676279, ...,  0.08399332,\n",
              "           -0.11437166, -0.14570199],\n",
              "          [ 0.12331732, -0.16683653,  0.00212783, ...,  0.13529064,\n",
              "            0.03730548, -0.01438326],\n",
              "          [-0.06373693,  0.01912442,  0.06919798, ..., -0.12424892,\n",
              "            0.01245809, -0.07728474],\n",
              "          ...,\n",
              "          [-0.03785908,  0.05167782,  0.15574615, ...,  0.07751843,\n",
              "           -0.12691495,  0.01608001],\n",
              "          [-0.08710061,  0.06729213,  0.0080274 , ..., -0.01368402,\n",
              "           -0.01683274,  0.05805739],\n",
              "          [-0.05597144,  0.03802561,  0.13838516, ..., -0.02709091,\n",
              "            0.06594232,  0.04900008]]],\n",
              " \n",
              " \n",
              "        [[[ 0.09966321,  0.02865036, -0.08811531, ..., -0.00592182,\n",
              "            0.01790132,  0.01292368],\n",
              "          [ 0.10777786,  0.03224771,  0.14648996, ...,  0.02272442,\n",
              "           -0.01139406,  0.08811909],\n",
              "          [ 0.05689763,  0.00103   ,  0.05505292, ...,  0.10291979,\n",
              "           -0.04035102,  0.12021731],\n",
              "          ...,\n",
              "          [-0.08369968,  0.02332887,  0.06663464, ...,  0.01174754,\n",
              "            0.03857945,  0.06905377],\n",
              "          [-0.04974186,  0.11700515, -0.06248092, ...,  0.01224194,\n",
              "            0.01143456,  0.03328765],\n",
              "          [-0.03803423, -0.04274567,  0.08431475, ..., -0.13012923,\n",
              "            0.09825572, -0.02450496]],\n",
              " \n",
              "         [[ 0.02174122,  0.07841709,  0.03094486, ..., -0.07931656,\n",
              "            0.08895216, -0.09151906],\n",
              "          [-0.03967928,  0.10341194,  0.01938757, ...,  0.04272023,\n",
              "           -0.05445493, -0.11020064],\n",
              "          [-0.01157328, -0.08431523, -0.05238345, ..., -0.1627601 ,\n",
              "            0.0723405 , -0.0589972 ],\n",
              "          ...,\n",
              "          [-0.05995962, -0.04617554,  0.10247515, ...,  0.07425894,\n",
              "            0.12421042,  0.05419035],\n",
              "          [-0.03117983,  0.0172636 , -0.01320354, ...,  0.00612966,\n",
              "           -0.06769533, -0.10010905],\n",
              "          [-0.13591109,  0.10528085,  0.02283187, ..., -0.10735844,\n",
              "           -0.10445374,  0.06164839]],\n",
              " \n",
              "         [[-0.13058957,  0.12088269, -0.09172326, ..., -0.05625589,\n",
              "           -0.15359583, -0.01643781],\n",
              "          [ 0.13624227,  0.16071554,  0.10538536, ...,  0.03368329,\n",
              "           -0.03726167,  0.03319775],\n",
              "          [ 0.04447541,  0.11256687, -0.0598341 , ..., -0.07417888,\n",
              "            0.1227241 ,  0.09105231],\n",
              "          ...,\n",
              "          [ 0.08972579, -0.04184283,  0.11002437, ...,  0.06196759,\n",
              "           -0.13230948,  0.07763414],\n",
              "          [-0.09994406, -0.12770657,  0.0329428 , ...,  0.09367629,\n",
              "            0.12528035,  0.02888093],\n",
              "          [-0.02501128,  0.137711  , -0.06651126, ..., -0.01765975,\n",
              "           -0.07978237,  0.02090037]]]], dtype=float32)>,\n",
              " <tf.Variable 'conv_block/conv2d_1/bias:0' shape=(34,) dtype=float32, numpy=\n",
              " array([0., 0., 0., 0., 0., 0., 0., 0., 0., 0., 0., 0., 0., 0., 0., 0., 0.,\n",
              "        0., 0., 0., 0., 0., 0., 0., 0., 0., 0., 0., 0., 0., 0., 0., 0., 0.],\n",
              "       dtype=float32)>,\n",
              " <tf.Variable 'conv_block/conv2d_2/kernel:0' shape=(1, 1, 34, 34) dtype=float32, numpy=\n",
              " array([[[[-0.36382985, -0.07378531,  0.18676555, ...,  0.2016653 ,\n",
              "           -0.3797381 , -0.09289438],\n",
              "          [ 0.00601722,  0.12120696,  0.02934826, ...,  0.02174477,\n",
              "            0.12809342,  0.16729528],\n",
              "          [ 0.28089845, -0.41992426,  0.39048678, ...,  0.2399107 ,\n",
              "           -0.04208869,  0.46380648],\n",
              "          ...,\n",
              "          [ 0.00182608,  0.5445244 ,  0.14041872, ..., -0.15444857,\n",
              "            0.42998445,  0.08964632],\n",
              "          [-0.0814385 , -0.45711806,  0.21413553, ...,  0.15608335,\n",
              "           -0.2006931 , -0.22781163],\n",
              "          [-0.20508549, -0.10410205, -0.02304479, ..., -0.23668675,\n",
              "            0.09473127,  0.38870347]]]], dtype=float32)>,\n",
              " <tf.Variable 'conv_block/conv2d_2/bias:0' shape=(34,) dtype=float32, numpy=\n",
              " array([0., 0., 0., 0., 0., 0., 0., 0., 0., 0., 0., 0., 0., 0., 0., 0., 0.,\n",
              "        0., 0., 0., 0., 0., 0., 0., 0., 0., 0., 0., 0., 0., 0., 0., 0., 0.],\n",
              "       dtype=float32)>,\n",
              " <tf.Variable 'conv_block/conv2d_3/kernel:0' shape=(1, 1, 7, 34) dtype=float32, numpy=\n",
              " array([[[[-1.0704209 , -0.75831723, -0.13491496,  0.73852915,\n",
              "            0.3619492 ,  0.552357  , -0.3060759 , -0.8306646 ,\n",
              "            0.68703157,  0.54066426, -0.49276587, -0.25833744,\n",
              "           -0.7255053 , -0.85034907,  0.5195711 ,  0.2261558 ,\n",
              "            0.10870434, -0.5769765 , -1.1250813 ,  0.27120814,\n",
              "           -0.8302537 , -0.523934  , -1.0635371 , -0.7738062 ,\n",
              "            0.29626304,  0.1776717 ,  0.5794234 , -0.8951165 ,\n",
              "            0.8350726 , -0.74773633,  0.48721907,  0.85627574,\n",
              "            0.22031128, -0.61860645],\n",
              "          [-0.04450909, -0.2356032 , -0.1036449 , -0.32297906,\n",
              "           -0.8352725 ,  0.313999  , -0.06135731, -0.5112077 ,\n",
              "            1.205048  ,  0.0742512 , -0.64381826, -0.5095428 ,\n",
              "            0.27655658,  0.926269  ,  0.20162705,  0.26571602,\n",
              "           -0.26867563, -0.16958043,  0.20047125, -0.86548126,\n",
              "            0.5831791 , -0.5571554 , -0.13387354,  0.4364881 ,\n",
              "            0.21646821,  0.6359083 ,  0.21593128, -0.20700201,\n",
              "           -0.2730347 ,  0.00569404,  0.5786602 , -0.5988648 ,\n",
              "            0.3307259 ,  0.74107635],\n",
              "          [ 0.43653008,  0.9304246 ,  1.093067  , -1.2049651 ,\n",
              "            0.17727812, -1.1426892 , -0.02878359,  0.1349613 ,\n",
              "           -0.1404214 , -0.02295656, -0.67976063, -1.0219059 ,\n",
              "           -1.192462  ,  0.6029733 , -0.45985305, -0.10248412,\n",
              "           -0.18812163, -0.64569414,  0.47147703, -0.31588423,\n",
              "           -0.9406438 , -0.51380384,  0.5991365 , -0.1086112 ,\n",
              "            0.32250118, -0.33361915,  0.6863739 ,  0.5832164 ,\n",
              "            0.02588128, -0.2427937 ,  0.1015009 ,  0.9971539 ,\n",
              "            0.26592317,  0.17780319],\n",
              "          [-0.8589674 ,  0.25468975,  0.39988798,  0.59388006,\n",
              "           -0.36114293, -0.42957252, -0.70715094, -0.61936826,\n",
              "           -0.14857152, -0.154589  ,  0.11906569,  0.73206055,\n",
              "           -0.15438297, -0.9185367 ,  0.44610903,  0.33672112,\n",
              "            0.49420443, -0.5573765 ,  0.458245  ,  0.37084833,\n",
              "           -0.01321663, -0.2696855 ,  0.01036905,  0.57832116,\n",
              "            0.18601485,  1.1251038 , -0.6432504 , -0.90034926,\n",
              "            0.28652754,  0.07542036, -0.38765076,  0.71698594,\n",
              "            0.10437856, -0.05326228],\n",
              "          [-0.2666943 ,  0.4452299 ,  0.12543152,  0.5258767 ,\n",
              "            0.6289865 , -0.07285874,  0.48948714,  0.8734365 ,\n",
              "           -0.449477  ,  0.03752596, -0.94854486, -0.6475721 ,\n",
              "           -0.7443087 ,  0.30953607, -0.26351213,  0.23875442,\n",
              "           -0.1031855 ,  0.11424445, -0.26488683,  0.9943162 ,\n",
              "           -0.5014733 , -0.38520876,  0.8802118 , -0.7825156 ,\n",
              "            0.4817215 ,  0.21317421,  1.008751  , -1.1510938 ,\n",
              "            0.6825075 ,  0.31565052,  0.8025722 , -0.58856803,\n",
              "           -0.3398701 ,  1.1950922 ],\n",
              "          [-0.7629468 , -0.5137232 ,  1.0585196 , -0.32482758,\n",
              "           -0.5081947 , -0.12424264, -0.71338993,  0.29057205,\n",
              "            0.10140817,  0.02510933,  0.81281024, -0.14636381,\n",
              "            0.15032366,  0.6888414 , -0.16846356,  0.02200759,\n",
              "            0.5375484 , -0.8615276 , -0.14902595, -0.39079198,\n",
              "            0.21553823, -0.08593755, -0.7235602 , -0.46210244,\n",
              "           -0.68931496,  0.6307876 , -1.0752009 , -1.0771958 ,\n",
              "           -0.2418408 ,  0.65976995,  0.15815608,  0.3705748 ,\n",
              "            0.14213887,  0.85620666],\n",
              "          [-0.88884556,  0.233228  , -0.22277938, -0.5920038 ,\n",
              "            0.586683  , -0.3201308 , -0.14021575, -0.20519312,\n",
              "            0.3069561 , -0.4961017 , -0.18681796,  0.81970865,\n",
              "            0.24357544, -0.8656247 ,  1.0104457 , -0.47872883,\n",
              "            0.50259787, -0.35910088,  0.25369972, -0.2187018 ,\n",
              "            0.6696713 , -0.0635188 ,  0.79081124,  0.8666536 ,\n",
              "            0.66790843, -0.9714796 , -0.36635354,  0.30335557,\n",
              "            0.7295235 , -0.1712792 ,  0.24339353, -0.04849244,\n",
              "            0.00470827, -0.0140673 ]]]], dtype=float32)>,\n",
              " <tf.Variable 'conv_block/conv2d_3/bias:0' shape=(34,) dtype=float32, numpy=\n",
              " array([0., 0., 0., 0., 0., 0., 0., 0., 0., 0., 0., 0., 0., 0., 0., 0., 0.,\n",
              "        0., 0., 0., 0., 0., 0., 0., 0., 0., 0., 0., 0., 0., 0., 0., 0., 0.],\n",
              "       dtype=float32)>]"
            ]
          },
          "metadata": {
            "tags": []
          },
          "execution_count": 46
        }
      ]
    },
    {
      "cell_type": "code",
      "metadata": {
        "id": "2HwKB9ujk2iL"
      },
      "source": [
        ""
      ],
      "execution_count": null,
      "outputs": []
    },
    {
      "cell_type": "code",
      "metadata": {
        "id": "KSbqTxXRk2ke"
      },
      "source": [
        ""
      ],
      "execution_count": null,
      "outputs": []
    },
    {
      "cell_type": "code",
      "metadata": {
        "id": "ukefGLzYWZMd"
      },
      "source": [
        "def U_Net_Segmentation(input_size=(IMG_HEIGHT, IMG_WIDTH, IMG_CHANNELS), drop = None, l2 = True):\n",
        "    \n",
        "    inputs = tf.keras.Input(input_size)\n",
        "    \n",
        "    \n",
        "    c1=conv_block(16, drop=drop, l2=l2)(inputs)\n",
        "    p1 = layers.MaxPooling2D((2,2))(c1)\n",
        "\n",
        "\n",
        "    c2 = conv_block(32, drop=drop, l2=l2)(p1)\n",
        "    p2 = layers.MaxPooling2D((2,2))(c2)\n",
        "\n",
        "\n",
        "    c3 = conv_block(64, drop=drop, l2=l2)(p2)\n",
        "    p3 = layers.MaxPooling2D((2,2))(c3)\n",
        "\n",
        "\n",
        "    c4 = conv_block(128, drop=drop, l2=l2)(p3)\n",
        "    p4 = layers.MaxPooling2D((2,2))(c4)\n",
        "\n",
        "\n",
        "    c5 = conv_block(256, drop=drop, l2=l2)(p4)\n",
        "    p5 = layers.MaxPooling2D((2,2))(c5)\n",
        "\n",
        "    c6 = conv_block(256, drop=drop, l2=l2)(p5)\n",
        "\n",
        "\n",
        "\n",
        "    u7 = layers.Conv2DTranspose(256, (2,2), strides=(2,2), padding='same')(c6)\n",
        "    u7 = layers.concatenate([u7, c5])\n",
        "    c7 = layers.Conv2D(256, (3,3), activation='relu', kernel_initializer='he_normal',\n",
        "                padding='same')(u7)\n",
        "\n",
        "    c7 = layers.Dropout(0.2)(c7)\n",
        "    c7 = layers.Conv2D(256, (3,3), activation='relu', kernel_initializer='he_normal',\n",
        "                padding='same')(c7)   \n",
        "\n",
        "    u6 = layers.Conv2DTranspose(128, (2,2), strides=(2,2), padding='same')(c5)\n",
        "    u6 = layers.concatenate([u6, c4])\n",
        "    c6 = layers.Conv2D(128, (3,3), activation='relu', kernel_initializer='he_normal',\n",
        "                padding='same')(u6)\n",
        "    c6 = layers.Dropout(0.2)(c6)\n",
        "    c6 = layers.Conv2D(128, (3,3), activation='relu', kernel_initializer='he_normal',\n",
        "                padding='same')(c6)   \n",
        "\n",
        "\n",
        "    u7 = layers.Conv2DTranspose(64, (2,2), strides=(2,2), padding='same')(c6)\n",
        "    u7 = layers.concatenate([u7, c3])\n",
        "    c7 = layers.Conv2D(64, (3,3), activation='relu', kernel_initializer='he_normal',\n",
        "                padding='same')(u7)\n",
        "    c7 = layers.Dropout(0.2)(c7)\n",
        "    c7 = layers.Conv2D(64, (3,3), activation='relu', kernel_initializer='he_normal',\n",
        "                padding='same')(c7) \n",
        "\n",
        "    u8 = layers.Conv2DTranspose(32, (2,2), strides=(2,2), padding='same')(c7)\n",
        "    u8 = layers.concatenate([u8, c2])\n",
        "    c8 = layers.Conv2D(32, (3,3), activation='relu', kernel_initializer='he_normal',\n",
        "                padding='same')(u8)\n",
        "    c8 = layers.Dropout(0.1)(c8)\n",
        "    c8 = layers.Conv2D(32, (3,3), activation='relu', kernel_initializer='he_normal',\n",
        "                padding='same')(c8) \n",
        "    \n",
        "    \n",
        "    u9 = layers.Conv2DTranspose(16, (2,2), strides=(2,2), padding='same')(c8)\n",
        "    u9 = layers.concatenate([u9, c1], axis = 3)\n",
        "    c9 = layers.Conv2D(16, (3,3), activation='relu', kernel_initializer='he_normal',\n",
        "                padding='same')(u9)\n",
        "    c9 = layers.Dropout(0.1)(c9)\n",
        "    c9 = layers.Conv2D(16, (3,3), activation='relu', kernel_initializer='he_normal',\n",
        "                padding='same')(c9) \n",
        "    \n",
        "    outputs = layers.Conv2D(2,(1,1), activation=\"softmax\",)(c9)\n",
        "    \n",
        "    model = tf.keras.Model(inputs=[inputs], outputs=[outputs])\n",
        "    \n",
        "    return model"
      ],
      "execution_count": null,
      "outputs": []
    },
    {
      "cell_type": "code",
      "metadata": {
        "id": "CjIL8qN3UTzC"
      },
      "source": [
        "def Dice(y_true, y_pred):\n",
        "\n",
        "    \n",
        "    \n",
        "  mask1 = tf.math.argmax(y_pred, axis=-1)\n",
        "\n",
        "  y_pred= tf.cast(mask1, tf.float32)\n",
        "  inter = tf.reduce_sum(y_pred * y_true, [1,2])\n",
        "  uni = tf.reduce_sum(y_pred , [1,2])+ tf.reduce_sum( y_true, [1,2])\n",
        "\n",
        "  des = tf.reduce_mean(2*inter/uni)\n",
        "       \n",
        "  return des\n",
        "\n"
      ],
      "execution_count": null,
      "outputs": []
    },
    {
      "cell_type": "code",
      "metadata": {
        "id": "dAdi8upuQCYd",
        "colab": {
          "base_uri": "https://localhost:8080/",
          "height": 323
        },
        "outputId": "d630dd69-ba87-42b8-b10a-8c9ed9d0f278"
      },
      "source": [
        "model = U_Net_Segmentation()\n",
        "model.summary()"
      ],
      "execution_count": null,
      "outputs": [
        {
          "output_type": "error",
          "ename": "TypeError",
          "evalue": "ignored",
          "traceback": [
            "\u001b[0;31m---------------------------------------------------------------------------\u001b[0m",
            "\u001b[0;31mTypeError\u001b[0m                                 Traceback (most recent call last)",
            "\u001b[0;32m<ipython-input-49-a848e8db9350>\u001b[0m in \u001b[0;36m<module>\u001b[0;34m()\u001b[0m\n\u001b[0;32m----> 1\u001b[0;31m \u001b[0mmodel\u001b[0m \u001b[0;34m=\u001b[0m \u001b[0mU_Net_Segmentation\u001b[0m\u001b[0;34m(\u001b[0m\u001b[0;34m)\u001b[0m\u001b[0;34m\u001b[0m\u001b[0;34m\u001b[0m\u001b[0m\n\u001b[0m\u001b[1;32m      2\u001b[0m \u001b[0mmodel\u001b[0m\u001b[0;34m.\u001b[0m\u001b[0msummary\u001b[0m\u001b[0;34m(\u001b[0m\u001b[0;34m)\u001b[0m\u001b[0;34m\u001b[0m\u001b[0;34m\u001b[0m\u001b[0m\n",
            "\u001b[0;32m<ipython-input-47-6300895381b0>\u001b[0m in \u001b[0;36mU_Net_Segmentation\u001b[0;34m(input_size, drop, l2)\u001b[0m\n\u001b[1;32m      4\u001b[0m \u001b[0;34m\u001b[0m\u001b[0m\n\u001b[1;32m      5\u001b[0m \u001b[0;34m\u001b[0m\u001b[0m\n\u001b[0;32m----> 6\u001b[0;31m     \u001b[0mc1\u001b[0m\u001b[0;34m=\u001b[0m\u001b[0mconv_block\u001b[0m\u001b[0;34m(\u001b[0m\u001b[0;36m16\u001b[0m\u001b[0;34m,\u001b[0m \u001b[0mdrop\u001b[0m\u001b[0;34m=\u001b[0m\u001b[0mdrop\u001b[0m\u001b[0;34m,\u001b[0m \u001b[0ml2\u001b[0m\u001b[0;34m=\u001b[0m\u001b[0ml2\u001b[0m\u001b[0;34m)\u001b[0m\u001b[0;34m(\u001b[0m\u001b[0minputs\u001b[0m\u001b[0;34m)\u001b[0m\u001b[0;34m\u001b[0m\u001b[0;34m\u001b[0m\u001b[0m\n\u001b[0m\u001b[1;32m      7\u001b[0m     \u001b[0mp1\u001b[0m \u001b[0;34m=\u001b[0m \u001b[0mlayers\u001b[0m\u001b[0;34m.\u001b[0m\u001b[0mMaxPooling2D\u001b[0m\u001b[0;34m(\u001b[0m\u001b[0;34m(\u001b[0m\u001b[0;36m2\u001b[0m\u001b[0;34m,\u001b[0m\u001b[0;36m2\u001b[0m\u001b[0;34m)\u001b[0m\u001b[0;34m)\u001b[0m\u001b[0;34m(\u001b[0m\u001b[0mc1\u001b[0m\u001b[0;34m)\u001b[0m\u001b[0;34m\u001b[0m\u001b[0;34m\u001b[0m\u001b[0m\n\u001b[1;32m      8\u001b[0m \u001b[0;34m\u001b[0m\u001b[0m\n",
            "\u001b[0;32m<ipython-input-33-e4d83ce7ef77>\u001b[0m in \u001b[0;36m__init__\u001b[0;34m(self, channel, **kwargs)\u001b[0m\n\u001b[1;32m      2\u001b[0m \u001b[0;34m\u001b[0m\u001b[0m\n\u001b[1;32m      3\u001b[0m   \u001b[0;32mdef\u001b[0m \u001b[0m__init__\u001b[0m\u001b[0;34m(\u001b[0m\u001b[0mself\u001b[0m\u001b[0;34m,\u001b[0m \u001b[0mchannel\u001b[0m\u001b[0;34m,\u001b[0m \u001b[0;34m**\u001b[0m\u001b[0mkwargs\u001b[0m\u001b[0;34m)\u001b[0m\u001b[0;34m:\u001b[0m\u001b[0;34m\u001b[0m\u001b[0;34m\u001b[0m\u001b[0m\n\u001b[0;32m----> 4\u001b[0;31m         \u001b[0msuper\u001b[0m\u001b[0;34m(\u001b[0m\u001b[0mconv_block\u001b[0m\u001b[0;34m,\u001b[0m \u001b[0mself\u001b[0m\u001b[0;34m)\u001b[0m\u001b[0;34m.\u001b[0m\u001b[0m__init__\u001b[0m\u001b[0;34m(\u001b[0m\u001b[0;34m**\u001b[0m\u001b[0mkwargs\u001b[0m\u001b[0;34m)\u001b[0m\u001b[0;34m\u001b[0m\u001b[0;34m\u001b[0m\u001b[0m\n\u001b[0m\u001b[1;32m      5\u001b[0m         self.c1x1 = layers.Conv2D(channel, (1,1), activation='relu', kernel_initializer='he_normal',\n\u001b[1;32m      6\u001b[0m                 padding='same')\n",
            "\u001b[0;32m/usr/local/lib/python3.7/dist-packages/tensorflow/python/training/tracking/base.py\u001b[0m in \u001b[0;36m_method_wrapper\u001b[0;34m(self, *args, **kwargs)\u001b[0m\n\u001b[1;32m    515\u001b[0m     \u001b[0mself\u001b[0m\u001b[0;34m.\u001b[0m\u001b[0m_self_setattr_tracking\u001b[0m \u001b[0;34m=\u001b[0m \u001b[0;32mFalse\u001b[0m  \u001b[0;31m# pylint: disable=protected-access\u001b[0m\u001b[0;34m\u001b[0m\u001b[0;34m\u001b[0m\u001b[0m\n\u001b[1;32m    516\u001b[0m     \u001b[0;32mtry\u001b[0m\u001b[0;34m:\u001b[0m\u001b[0;34m\u001b[0m\u001b[0;34m\u001b[0m\u001b[0m\n\u001b[0;32m--> 517\u001b[0;31m       \u001b[0mresult\u001b[0m \u001b[0;34m=\u001b[0m \u001b[0mmethod\u001b[0m\u001b[0;34m(\u001b[0m\u001b[0mself\u001b[0m\u001b[0;34m,\u001b[0m \u001b[0;34m*\u001b[0m\u001b[0margs\u001b[0m\u001b[0;34m,\u001b[0m \u001b[0;34m**\u001b[0m\u001b[0mkwargs\u001b[0m\u001b[0;34m)\u001b[0m\u001b[0;34m\u001b[0m\u001b[0;34m\u001b[0m\u001b[0m\n\u001b[0m\u001b[1;32m    518\u001b[0m     \u001b[0;32mfinally\u001b[0m\u001b[0;34m:\u001b[0m\u001b[0;34m\u001b[0m\u001b[0;34m\u001b[0m\u001b[0m\n\u001b[1;32m    519\u001b[0m       \u001b[0mself\u001b[0m\u001b[0;34m.\u001b[0m\u001b[0m_self_setattr_tracking\u001b[0m \u001b[0;34m=\u001b[0m \u001b[0mprevious_value\u001b[0m  \u001b[0;31m# pylint: disable=protected-access\u001b[0m\u001b[0;34m\u001b[0m\u001b[0;34m\u001b[0m\u001b[0m\n",
            "\u001b[0;32m/usr/local/lib/python3.7/dist-packages/tensorflow/python/keras/engine/base_layer.py\u001b[0m in \u001b[0;36m__init__\u001b[0;34m(self, trainable, name, dtype, dynamic, **kwargs)\u001b[0m\n\u001b[1;32m    338\u001b[0m     }\n\u001b[1;32m    339\u001b[0m     \u001b[0;31m# Validate optional keyword arguments.\u001b[0m\u001b[0;34m\u001b[0m\u001b[0;34m\u001b[0m\u001b[0;34m\u001b[0m\u001b[0m\n\u001b[0;32m--> 340\u001b[0;31m     \u001b[0mgeneric_utils\u001b[0m\u001b[0;34m.\u001b[0m\u001b[0mvalidate_kwargs\u001b[0m\u001b[0;34m(\u001b[0m\u001b[0mkwargs\u001b[0m\u001b[0;34m,\u001b[0m \u001b[0mallowed_kwargs\u001b[0m\u001b[0;34m)\u001b[0m\u001b[0;34m\u001b[0m\u001b[0;34m\u001b[0m\u001b[0m\n\u001b[0m\u001b[1;32m    341\u001b[0m \u001b[0;34m\u001b[0m\u001b[0m\n\u001b[1;32m    342\u001b[0m     \u001b[0;31m# Mutable properties\u001b[0m\u001b[0;34m\u001b[0m\u001b[0;34m\u001b[0m\u001b[0;34m\u001b[0m\u001b[0m\n",
            "\u001b[0;32m/usr/local/lib/python3.7/dist-packages/tensorflow/python/keras/utils/generic_utils.py\u001b[0m in \u001b[0;36mvalidate_kwargs\u001b[0;34m(kwargs, allowed_kwargs, error_message)\u001b[0m\n\u001b[1;32m    806\u001b[0m   \u001b[0;32mfor\u001b[0m \u001b[0mkwarg\u001b[0m \u001b[0;32min\u001b[0m \u001b[0mkwargs\u001b[0m\u001b[0;34m:\u001b[0m\u001b[0;34m\u001b[0m\u001b[0;34m\u001b[0m\u001b[0m\n\u001b[1;32m    807\u001b[0m     \u001b[0;32mif\u001b[0m \u001b[0mkwarg\u001b[0m \u001b[0;32mnot\u001b[0m \u001b[0;32min\u001b[0m \u001b[0mallowed_kwargs\u001b[0m\u001b[0;34m:\u001b[0m\u001b[0;34m\u001b[0m\u001b[0;34m\u001b[0m\u001b[0m\n\u001b[0;32m--> 808\u001b[0;31m       \u001b[0;32mraise\u001b[0m \u001b[0mTypeError\u001b[0m\u001b[0;34m(\u001b[0m\u001b[0merror_message\u001b[0m\u001b[0;34m,\u001b[0m \u001b[0mkwarg\u001b[0m\u001b[0;34m)\u001b[0m\u001b[0;34m\u001b[0m\u001b[0;34m\u001b[0m\u001b[0m\n\u001b[0m\u001b[1;32m    809\u001b[0m \u001b[0;34m\u001b[0m\u001b[0m\n\u001b[1;32m    810\u001b[0m \u001b[0;34m\u001b[0m\u001b[0m\n",
            "\u001b[0;31mTypeError\u001b[0m: ('Keyword argument not understood:', 'drop')"
          ]
        }
      ]
    },
    {
      "cell_type": "code",
      "metadata": {
        "id": "BhGKRs6ffUAk"
      },
      "source": [
        ""
      ],
      "execution_count": null,
      "outputs": []
    },
    {
      "cell_type": "code",
      "metadata": {
        "id": "_0n1dij5Xvd0"
      },
      "source": [
        "optimizer = tf.keras.optimizers.Adam()\n"
      ],
      "execution_count": null,
      "outputs": []
    },
    {
      "cell_type": "code",
      "metadata": {
        "id": "v_CY0xwtXvgg"
      },
      "source": [
        "model.compile(optimizer=optimizer, loss=\"sparse_categorical_crossentropy\", metrics=[Dice])\n",
        "                 "
      ],
      "execution_count": null,
      "outputs": []
    },
    {
      "cell_type": "code",
      "metadata": {
        "id": "q8o9U5SBAznQ"
      },
      "source": [
        "# This function keeps the initial learning rate for the first ten epochs\n",
        "# and decreases it exponentially after that.\n",
        "def scheduler(epoch, lr):\n",
        "  if epoch < 30:\n",
        "    return lr\n",
        "  else:\n",
        "    return lr * 0.1\n",
        "\n"
      ],
      "execution_count": null,
      "outputs": []
    },
    {
      "cell_type": "code",
      "metadata": {
        "id": "rAFB8l7DBAWv"
      },
      "source": [
        "callback = tf.keras.callbacks.LearningRateScheduler(scheduler)\n"
      ],
      "execution_count": null,
      "outputs": []
    },
    {
      "cell_type": "code",
      "metadata": {
        "id": "dS7V2D1KXvin",
        "colab": {
          "base_uri": "https://localhost:8080/"
        },
        "outputId": "846b7617-06ea-4d94-c4cc-b95ceebd08a1"
      },
      "source": [
        "results = model.fit(train, train_seg_f,\n",
        "                    shuffle = True,\n",
        "                    validation_split = 0.1,\n",
        "                    batch_size=32,\n",
        "                    epochs=70)"
      ],
      "execution_count": null,
      "outputs": [
        {
          "output_type": "stream",
          "text": [
            "Epoch 1/70\n",
            "24/24 [==============================] - 6s 196ms/step - loss: 0.5122 - Dice: 0.0136 - val_loss: 0.3897 - val_Dice: 0.0000e+00\n",
            "Epoch 2/70\n",
            "24/24 [==============================] - 4s 180ms/step - loss: 0.3501 - Dice: 0.0000e+00 - val_loss: 0.2719 - val_Dice: 0.0000e+00\n",
            "Epoch 3/70\n",
            "24/24 [==============================] - 4s 181ms/step - loss: 0.2496 - Dice: 0.0000e+00 - val_loss: 0.2343 - val_Dice: 0.0000e+00\n",
            "Epoch 4/70\n",
            "24/24 [==============================] - 4s 182ms/step - loss: 0.2261 - Dice: 2.2721e-07 - val_loss: 0.2240 - val_Dice: 0.0000e+00\n",
            "Epoch 5/70\n",
            "24/24 [==============================] - 4s 184ms/step - loss: 0.2172 - Dice: 0.0022 - val_loss: 0.2156 - val_Dice: 3.9042e-04\n",
            "Epoch 6/70\n",
            "24/24 [==============================] - 4s 183ms/step - loss: 0.2077 - Dice: 0.0597 - val_loss: 0.2087 - val_Dice: 0.6065\n",
            "Epoch 7/70\n",
            "24/24 [==============================] - 4s 185ms/step - loss: 0.1929 - Dice: 0.3896 - val_loss: 0.2258 - val_Dice: 0.4855\n",
            "Epoch 8/70\n",
            "24/24 [==============================] - 4s 187ms/step - loss: 0.1773 - Dice: 0.6013 - val_loss: 0.2142 - val_Dice: 0.6220\n",
            "Epoch 9/70\n",
            "24/24 [==============================] - 4s 188ms/step - loss: 0.1579 - Dice: 0.6741 - val_loss: 0.1615 - val_Dice: 0.7123\n",
            "Epoch 10/70\n",
            "24/24 [==============================] - 5s 190ms/step - loss: 0.1352 - Dice: 0.7096 - val_loss: 0.1662 - val_Dice: 0.7415\n",
            "Epoch 11/70\n",
            "24/24 [==============================] - 5s 190ms/step - loss: 0.1339 - Dice: 0.7149 - val_loss: 0.1856 - val_Dice: 0.7288\n",
            "Epoch 12/70\n",
            "24/24 [==============================] - 5s 192ms/step - loss: 0.1347 - Dice: 0.7148 - val_loss: 0.1427 - val_Dice: 0.7438\n",
            "Epoch 13/70\n",
            "24/24 [==============================] - 5s 193ms/step - loss: 0.1270 - Dice: 0.7300 - val_loss: 0.1481 - val_Dice: 0.7541\n",
            "Epoch 14/70\n",
            "24/24 [==============================] - 5s 194ms/step - loss: 0.1213 - Dice: 0.7385 - val_loss: 0.1430 - val_Dice: 0.7502\n",
            "Epoch 15/70\n",
            "24/24 [==============================] - 5s 193ms/step - loss: 0.1132 - Dice: 0.7525 - val_loss: 0.1518 - val_Dice: 0.7512\n",
            "Epoch 16/70\n",
            "24/24 [==============================] - 5s 192ms/step - loss: 0.1060 - Dice: 0.7680 - val_loss: 0.1349 - val_Dice: 0.7741\n",
            "Epoch 17/70\n",
            "24/24 [==============================] - 5s 191ms/step - loss: 0.0964 - Dice: 0.7659 - val_loss: 0.1336 - val_Dice: 0.7700\n",
            "Epoch 18/70\n",
            "24/24 [==============================] - 5s 191ms/step - loss: 0.0999 - Dice: 0.7692 - val_loss: 0.1414 - val_Dice: 0.7634\n",
            "Epoch 19/70\n",
            "24/24 [==============================] - 5s 189ms/step - loss: 0.1025 - Dice: 0.7793 - val_loss: 0.1331 - val_Dice: 0.7794\n",
            "Epoch 20/70\n",
            "24/24 [==============================] - 5s 189ms/step - loss: 0.0867 - Dice: 0.8032 - val_loss: 0.1207 - val_Dice: 0.7930\n",
            "Epoch 21/70\n",
            "24/24 [==============================] - 5s 189ms/step - loss: 0.0860 - Dice: 0.7966 - val_loss: 0.1899 - val_Dice: 0.6994\n",
            "Epoch 22/70\n",
            "24/24 [==============================] - 5s 188ms/step - loss: 0.0885 - Dice: 0.7998 - val_loss: 0.1303 - val_Dice: 0.7825\n",
            "Epoch 23/70\n",
            "24/24 [==============================] - 5s 188ms/step - loss: 0.0774 - Dice: 0.8269 - val_loss: 0.1168 - val_Dice: 0.8107\n",
            "Epoch 24/70\n",
            "24/24 [==============================] - 5s 188ms/step - loss: 0.0770 - Dice: 0.8241 - val_loss: 0.1145 - val_Dice: 0.8101\n",
            "Epoch 25/70\n",
            "24/24 [==============================] - 5s 188ms/step - loss: 0.0638 - Dice: 0.8441 - val_loss: 0.1448 - val_Dice: 0.7786\n",
            "Epoch 26/70\n",
            "24/24 [==============================] - 5s 188ms/step - loss: 0.0739 - Dice: 0.8213 - val_loss: 0.1460 - val_Dice: 0.7809\n",
            "Epoch 27/70\n",
            "24/24 [==============================] - 5s 189ms/step - loss: 0.0693 - Dice: 0.8264 - val_loss: 0.1095 - val_Dice: 0.8207\n",
            "Epoch 28/70\n",
            "24/24 [==============================] - 5s 189ms/step - loss: 0.0614 - Dice: 0.8555 - val_loss: 0.1404 - val_Dice: 0.7919\n",
            "Epoch 29/70\n",
            "24/24 [==============================] - 5s 196ms/step - loss: 0.0628 - Dice: 0.8502 - val_loss: 0.1062 - val_Dice: 0.8290\n",
            "Epoch 30/70\n",
            "24/24 [==============================] - 5s 190ms/step - loss: 0.0576 - Dice: 0.8663 - val_loss: 0.1065 - val_Dice: 0.8155\n",
            "Epoch 31/70\n",
            "24/24 [==============================] - 5s 190ms/step - loss: 0.0551 - Dice: 0.8670 - val_loss: 0.1257 - val_Dice: 0.8209\n",
            "Epoch 32/70\n",
            "24/24 [==============================] - 5s 190ms/step - loss: 0.0492 - Dice: 0.8815 - val_loss: 0.1021 - val_Dice: 0.8403\n",
            "Epoch 33/70\n",
            "24/24 [==============================] - 5s 190ms/step - loss: 0.0458 - Dice: 0.8936 - val_loss: 0.1139 - val_Dice: 0.8306\n",
            "Epoch 34/70\n",
            "24/24 [==============================] - 5s 191ms/step - loss: 0.0469 - Dice: 0.8868 - val_loss: 0.1129 - val_Dice: 0.8321\n",
            "Epoch 35/70\n",
            "24/24 [==============================] - 5s 190ms/step - loss: 0.0409 - Dice: 0.8984 - val_loss: 0.1433 - val_Dice: 0.7985\n",
            "Epoch 36/70\n",
            "24/24 [==============================] - 5s 190ms/step - loss: 0.0409 - Dice: 0.8960 - val_loss: 0.1433 - val_Dice: 0.8150\n",
            "Epoch 37/70\n",
            "24/24 [==============================] - 5s 190ms/step - loss: 0.0376 - Dice: 0.9060 - val_loss: 0.0995 - val_Dice: 0.8313\n",
            "Epoch 38/70\n",
            "24/24 [==============================] - 5s 190ms/step - loss: 0.0402 - Dice: 0.9029 - val_loss: 0.1330 - val_Dice: 0.8142\n",
            "Epoch 39/70\n",
            "24/24 [==============================] - 5s 190ms/step - loss: 0.0368 - Dice: 0.9032 - val_loss: 0.1124 - val_Dice: 0.8364\n",
            "Epoch 40/70\n",
            "24/24 [==============================] - 5s 190ms/step - loss: 0.0352 - Dice: 0.9149 - val_loss: 0.1442 - val_Dice: 0.8239\n",
            "Epoch 41/70\n",
            "24/24 [==============================] - 5s 189ms/step - loss: 0.0366 - Dice: 0.9054 - val_loss: 0.1095 - val_Dice: 0.8489\n",
            "Epoch 42/70\n",
            "24/24 [==============================] - 5s 189ms/step - loss: 0.0324 - Dice: 0.9234 - val_loss: 0.1245 - val_Dice: 0.8196\n",
            "Epoch 43/70\n",
            "24/24 [==============================] - 5s 190ms/step - loss: 0.0356 - Dice: 0.9175 - val_loss: 0.1268 - val_Dice: 0.8399\n",
            "Epoch 44/70\n",
            "24/24 [==============================] - 5s 189ms/step - loss: 0.0296 - Dice: 0.9249 - val_loss: 0.1364 - val_Dice: 0.8330\n",
            "Epoch 45/70\n",
            "24/24 [==============================] - 5s 189ms/step - loss: 0.0303 - Dice: 0.9238 - val_loss: 0.1596 - val_Dice: 0.8162\n",
            "Epoch 46/70\n",
            "24/24 [==============================] - 5s 190ms/step - loss: 0.0316 - Dice: 0.9249 - val_loss: 0.1430 - val_Dice: 0.8401\n",
            "Epoch 47/70\n",
            "24/24 [==============================] - 5s 190ms/step - loss: 0.0275 - Dice: 0.9314 - val_loss: 0.1368 - val_Dice: 0.8357\n",
            "Epoch 48/70\n",
            "24/24 [==============================] - 5s 189ms/step - loss: 0.0261 - Dice: 0.9363 - val_loss: 0.1250 - val_Dice: 0.8392\n",
            "Epoch 49/70\n",
            "24/24 [==============================] - 5s 189ms/step - loss: 0.0255 - Dice: 0.9366 - val_loss: 0.1363 - val_Dice: 0.8404\n",
            "Epoch 50/70\n",
            "24/24 [==============================] - 5s 189ms/step - loss: 0.0269 - Dice: 0.9354 - val_loss: 0.1526 - val_Dice: 0.8252\n",
            "Epoch 51/70\n",
            "24/24 [==============================] - 5s 190ms/step - loss: 0.0225 - Dice: 0.9445 - val_loss: 0.1355 - val_Dice: 0.8414\n",
            "Epoch 52/70\n",
            "24/24 [==============================] - 5s 190ms/step - loss: 0.0229 - Dice: 0.9452 - val_loss: 0.1540 - val_Dice: 0.8329\n",
            "Epoch 53/70\n",
            "24/24 [==============================] - 5s 190ms/step - loss: 0.0233 - Dice: 0.9431 - val_loss: 0.1592 - val_Dice: 0.8361\n",
            "Epoch 54/70\n",
            "24/24 [==============================] - 5s 190ms/step - loss: 0.0214 - Dice: 0.9462 - val_loss: 0.1504 - val_Dice: 0.8315\n",
            "Epoch 55/70\n",
            "24/24 [==============================] - 5s 189ms/step - loss: 0.0221 - Dice: 0.9476 - val_loss: 0.1545 - val_Dice: 0.8378\n",
            "Epoch 56/70\n",
            "24/24 [==============================] - 5s 190ms/step - loss: 0.0212 - Dice: 0.9456 - val_loss: 0.1521 - val_Dice: 0.8391\n",
            "Epoch 57/70\n",
            "24/24 [==============================] - 5s 190ms/step - loss: 0.0210 - Dice: 0.9488 - val_loss: 0.1495 - val_Dice: 0.8377\n",
            "Epoch 58/70\n",
            "24/24 [==============================] - 5s 190ms/step - loss: 0.0219 - Dice: 0.9495 - val_loss: 0.1383 - val_Dice: 0.8500\n",
            "Epoch 59/70\n",
            "24/24 [==============================] - 5s 190ms/step - loss: 0.0202 - Dice: 0.9503 - val_loss: 0.1639 - val_Dice: 0.8330\n",
            "Epoch 60/70\n",
            "24/24 [==============================] - 5s 190ms/step - loss: 0.0201 - Dice: 0.9527 - val_loss: 0.1514 - val_Dice: 0.8451\n",
            "Epoch 61/70\n",
            "24/24 [==============================] - 5s 189ms/step - loss: 0.0198 - Dice: 0.9485 - val_loss: 0.1365 - val_Dice: 0.8406\n",
            "Epoch 62/70\n",
            "24/24 [==============================] - 5s 190ms/step - loss: 0.0213 - Dice: 0.9503 - val_loss: 0.1433 - val_Dice: 0.8457\n",
            "Epoch 63/70\n",
            "24/24 [==============================] - 5s 190ms/step - loss: 0.0203 - Dice: 0.9538 - val_loss: 0.1677 - val_Dice: 0.8398\n",
            "Epoch 64/70\n",
            "24/24 [==============================] - 5s 190ms/step - loss: 0.0176 - Dice: 0.9549 - val_loss: 0.1555 - val_Dice: 0.8434\n",
            "Epoch 65/70\n",
            "24/24 [==============================] - 5s 189ms/step - loss: 0.0182 - Dice: 0.9579 - val_loss: 0.1676 - val_Dice: 0.8406\n",
            "Epoch 66/70\n",
            "24/24 [==============================] - 5s 190ms/step - loss: 0.0178 - Dice: 0.9552 - val_loss: 0.1561 - val_Dice: 0.8432\n",
            "Epoch 67/70\n",
            "24/24 [==============================] - 5s 189ms/step - loss: 0.0169 - Dice: 0.9595 - val_loss: 0.1719 - val_Dice: 0.8382\n",
            "Epoch 68/70\n",
            "24/24 [==============================] - 5s 189ms/step - loss: 0.0166 - Dice: 0.9610 - val_loss: 0.1806 - val_Dice: 0.8468\n",
            "Epoch 69/70\n",
            "24/24 [==============================] - 5s 189ms/step - loss: 0.0153 - Dice: 0.9617 - val_loss: 0.1903 - val_Dice: 0.8391\n",
            "Epoch 70/70\n",
            "24/24 [==============================] - 5s 195ms/step - loss: 0.0168 - Dice: 0.9609 - val_loss: 0.1698 - val_Dice: 0.8367\n"
          ],
          "name": "stdout"
        }
      ]
    },
    {
      "cell_type": "code",
      "metadata": {
        "id": "77alWyEURNWv"
      },
      "source": [
        "loss = results.history['loss']\n",
        "val_loss = results.history['val_Dice']\n",
        "\n",
        "epochs = range(70)\n",
        "\n",
        "plt.figure()\n",
        "plt.plot(epochs, loss, 'r', label='Training loss Cross entropy')\n",
        "plt.plot(epochs, val_loss, 'bo', label='Validation Dice Metric')\n",
        "plt.title('Training and Validation Loss')\n",
        "plt.xlabel('Epoch')\n",
        "plt.ylabel('Loss Value')\n",
        "plt.ylim([0, 1])\n",
        "plt.legend()\n",
        "plt.show()"
      ],
      "execution_count": null,
      "outputs": []
    },
    {
      "cell_type": "code",
      "metadata": {
        "id": "m759RpTUXvlA"
      },
      "source": [
        "def display_mask(i):\n",
        "    \"\"\"Quick utility to display a model's prediction.\"\"\"\n",
        "    mask = np.argmax(val_preds[i], axis=-1)\n",
        "    mask = np.expand_dims(mask, axis=-1)\n",
        "    img = PIL.ImageOps.autocontrast(keras.preprocessing.image.array_to_img(mask))\n",
        "    display(img)\n",
        "\n",
        "pr = model.predict(test_image[:7])"
      ],
      "execution_count": null,
      "outputs": []
    },
    {
      "cell_type": "code",
      "metadata": {
        "id": "6TEFnQPlXvnp"
      },
      "source": [
        "mask1 = np.argmax(pr[2], axis=-1)\n",
        "plt.imshow(mask1)\n"
      ],
      "execution_count": null,
      "outputs": []
    },
    {
      "cell_type": "code",
      "metadata": {
        "id": "NghUE-MYeDwM"
      },
      "source": [
        "plt.imshow(test_seg_f[2])\n"
      ],
      "execution_count": null,
      "outputs": []
    }
  ]
}