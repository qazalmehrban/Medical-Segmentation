{
  "nbformat": 4,
  "nbformat_minor": 0,
  "metadata": {
    "colab": {
      "name": "Copy of Untitled1.ipynb",
      "provenance": [],
      "include_colab_link": true
    },
    "kernelspec": {
      "display_name": "Python 3",
      "language": "python",
      "name": "python3"
    },
    "language_info": {
      "codemirror_mode": {
        "name": "ipython",
        "version": 3
      },
      "file_extension": ".py",
      "mimetype": "text/x-python",
      "name": "python",
      "nbconvert_exporter": "python",
      "pygments_lexer": "ipython3",
      "version": "3.8.5"
    },
    "accelerator": "GPU"
  },
  "cells": [
    {
      "cell_type": "markdown",
      "metadata": {
        "id": "view-in-github",
        "colab_type": "text"
      },
      "source": [
        "<a href=\"https://colab.research.google.com/github/qazalmehrban/Medical-Segmentation/blob/ghazal/Unet_test.ipynb\" target=\"_parent\"><img src=\"https://colab.research.google.com/assets/colab-badge.svg\" alt=\"Open In Colab\"/></a>"
      ]
    },
    {
      "cell_type": "code",
      "metadata": {
        "id": "SJeS1cyb1W6E"
      },
      "source": [
        "import tensorflow as tf\n",
        "from tensorflow import keras\n",
        "from tensorflow.keras import layers\n",
        "from skimage.transform import resize\n",
        "import numpy as np\n",
        "import nibabel as nib\n",
        "import os \n",
        "import glob\n",
        "\n",
        "import torch\n",
        "import torch.nn as nn\n",
        "import plotly.express as px\n",
        "import plotly.graph_objects as go\n",
        "import matplotlib.pyplot as plt\n"
      ],
      "execution_count": 1,
      "outputs": []
    },
    {
      "cell_type": "code",
      "metadata": {
        "id": "wrCxsKNFlhqX",
        "colab": {
          "base_uri": "https://localhost:8080/"
        },
        "outputId": "6360aa65-b283-4176-ac03-6ad5a6f058dd"
      },
      "source": [
        "from google.colab import drive\n",
        "drive.mount('/content/drive')"
      ],
      "execution_count": 2,
      "outputs": [
        {
          "output_type": "stream",
          "text": [
            "Mounted at /content/drive\n"
          ],
          "name": "stdout"
        }
      ]
    },
    {
      "cell_type": "code",
      "metadata": {
        "id": "Z-zMk0jg6Dla"
      },
      "source": [
        "samples = '/content/drive/MyDrive/samples/'\n",
        "labels = '/content/drive/MyDrive/segmentation/'\n",
        "mix = '/content/drive/MyDrive/New folder/'\n",
        "#patients = next(os.walk(samples))[2]\n",
        "\n",
        "#segmentations =next(os.walk(labels))[2]\n"
      ],
      "execution_count": 3,
      "outputs": []
    },
    {
      "cell_type": "code",
      "metadata": {
        "id": "un4n53f0NGXh"
      },
      "source": [
        "#patients_object = os.scandir(samples)\n",
        "#patients_list = [i.path for i in patients_object]\n",
        "patients_list = glob.glob(mix + '*[0-9].*')\n",
        "patients_list.sort()\n",
        "\n",
        "#segment_object = os.scandir(labels)\n",
        "#segment_list = [i.path for i in segment_object]\n",
        "segment_list = glob.glob(mix + '*n.*')\n",
        "segment_list.sort()\n",
        "\n",
        "\n",
        "\n",
        "\n",
        "\n",
        "\n",
        "\n",
        "\n"
      ],
      "execution_count": 4,
      "outputs": []
    },
    {
      "cell_type": "code",
      "metadata": {
        "id": "LDl9zmEWWZMT"
      },
      "source": [
        "def description(samples):\n",
        "  unique_spational = set()\n",
        "  all_spational_slice = []\n",
        "  patients = os.listdir(samples)\n",
        "  patients.sort()\n",
        "  for number_file, image_id  in enumerate(patients):\n",
        "    im = nib.load(os.path.join(samples, image_id))    \n",
        "    im = np.array(im.dataobj)\n",
        "    unique_spational.add(im.shape[:2])\n",
        "    for slices in range(im.shape[2]):\n",
        "\n",
        "      all_spational_slice.append(im.shape[:2])\n",
        "  print(f\"there are {len(unique_spational)} unique spational dimension\")\n",
        "  print(f\"there are {number_file} patient image\")\n",
        "  for i in unique_spational:\n",
        "   print(f'there are {all_spational_slice.count(i)} slice with shape {i}')\n"
      ],
      "execution_count": 5,
      "outputs": []
    },
    {
      "cell_type": "code",
      "metadata": {
        "id": "58UGaI2hlxpL"
      },
      "source": [
        "description(samples)"
      ],
      "execution_count": null,
      "outputs": []
    },
    {
      "cell_type": "code",
      "metadata": {
        "id": "8wnwEJNNWZMU"
      },
      "source": [
        "def description_mask(labels):\n",
        "  segmentations = os.listdir(labels)\n",
        "  segmentations.sort()\n",
        "\n",
        "  k = set()\n",
        "  num = []\n",
        "  for i1 in segmentations:\n",
        "    \n",
        "    Masks = nib.load(os.path.join(labels, i1))    \n",
        "    Masks = np.array(Masks.dataobj)\n",
        "    for  j in range(Masks.shape[2]):\n",
        "      u = np.unique(Masks[:,:,j])\n",
        "      u = tuple(u.astype(np.int))\n",
        "      k.add(u)\n",
        "      num.append(u)\n",
        "  for i in k :\n",
        "    print(f'there are {num.count(i)} slice with label {i}')\n",
        "\n"
      ],
      "execution_count": 6,
      "outputs": []
    },
    {
      "cell_type": "code",
      "metadata": {
        "id": "4Vpm8PzMl5b7"
      },
      "source": [
        "description_mask(labels)"
      ],
      "execution_count": null,
      "outputs": []
    },
    {
      "cell_type": "code",
      "metadata": {
        "id": "4_747rKG6Dlb"
      },
      "source": [
        "def make_box(mask):\n",
        "    box = []\n",
        "    box_bool=[]\n",
        "    obj_ids = np.unique(mask)\n",
        "    if mask.dtype == bool:\n",
        "        if len(np.unique(mask))==2:\n",
        "            \n",
        "            y_min = np.nonzero(mask)[0].min()\n",
        "            y_max = np.nonzero(mask)[0].max()\n",
        "            x_min = np.nonzero(mask)[1].min()\n",
        "            x_max = np.nonzero(mask)[1].max()\n",
        "            box=[x_min, y_min, x_max, y_max]\n",
        "    else :\n",
        "        mask_bool = mask.astype(np.bool)\n",
        "        if len(np.unique(mask_bool))==2:\n",
        "            \n",
        "            y_min = np.nonzero(mask_bool)[0].min()\n",
        "            y_max = np.nonzero(mask_bool)[0].max()\n",
        "            x_min = np.nonzero(mask_bool)[1].min()\n",
        "            x_max = np.nonzero(mask_bool)[1].max()\n",
        "            box_bool=[x_min, y_min, x_max, y_max]\n",
        "        \n",
        "        for i in  obj_ids[1:]:\n",
        "            y_min = np.nonzero(mask==i)[0].min()\n",
        "            y_max = np.nonzero(mask==i)[0].max()\n",
        "            x_min = np.nonzero(mask==i)[1].min()\n",
        "            x_max = np.nonzero(mask==i)[1].max()\n",
        "            box.append([x_min, y_min, x_max, y_max])\n",
        "    return_object = box if mask.dtype ==bool else (dict(zip([f\"label{int(i)}\" for i in obj_ids[1:]],box)), box_bool)\n",
        "    return return_object"
      ],
      "execution_count": 7,
      "outputs": []
    },
    {
      "cell_type": "code",
      "metadata": {
        "id": "kjzwsGAh4zVO"
      },
      "source": [
        ""
      ],
      "execution_count": null,
      "outputs": []
    },
    {
      "cell_type": "code",
      "metadata": {
        "id": "d8iDrx8Lpg-b",
        "colab": {
          "base_uri": "https://localhost:8080/"
        },
        "outputId": "75de1f65-c959-4c4b-8550-6974bba90150"
      },
      "source": [
        "Masks = nib.load(segment_list[79])   \n",
        "Masks = np.array(Masks.dataobj)\n",
        "print('shape', Masks.shape)\n",
        "Masks_2d = Masks[:,:,slices]\n"
      ],
      "execution_count": 16,
      "outputs": [
        {
          "output_type": "stream",
          "text": [
            "shape (384, 384, 32)\n"
          ],
          "name": "stdout"
        }
      ]
    },
    {
      "cell_type": "code",
      "metadata": {
        "id": "w2oxjcJD6NAB",
        "outputId": "3c085041-da41-4fbc-9776-23e3af130029",
        "colab": {
          "base_uri": "https://localhost:8080/"
        }
      },
      "source": [
        "for i in range(Masks.shape[-1]):\n",
        "  f = make_box(Masks[:,:,i])\n",
        "  print(f)"
      ],
      "execution_count": 17,
      "outputs": [
        {
          "output_type": "stream",
          "text": [
            "({}, [])\n",
            "({}, [])\n",
            "({}, [])\n",
            "({}, [])\n",
            "({}, [])\n",
            "({}, [])\n",
            "({}, [])\n",
            "({'label1': [180, 164, 207, 221]}, [180, 164, 207, 221])\n",
            "({'label1': [173, 151, 213, 232]}, [173, 151, 213, 232])\n",
            "({'label1': [169, 143, 213, 244], 'label2': [164, 160, 201, 222]}, [164, 143, 213, 244])\n",
            "({'label1': [161, 129, 216, 250], 'label2': [150, 146, 203, 226]}, [150, 129, 216, 250])\n",
            "({'label1': [156, 127, 216, 252], 'label2': [145, 142, 206, 231]}, [145, 127, 216, 252])\n",
            "({'label1': [152, 124, 219, 255], 'label2': [138, 140, 206, 235]}, [138, 124, 219, 255])\n",
            "({'label1': [157, 123, 217, 254], 'label2': [133, 138, 207, 238]}, [133, 123, 217, 254])\n",
            "({'label1': [156, 127, 217, 252], 'label2': [132, 143, 208, 235]}, [132, 127, 217, 252])\n",
            "({'label1': [152, 132, 217, 247], 'label2': [129, 140, 206, 235]}, [129, 132, 217, 247])\n",
            "({'label1': [141, 135, 215, 244], 'label2': [130, 143, 203, 231]}, [130, 135, 215, 244])\n",
            "({'label1': [144, 138, 212, 240], 'label2': [132, 146, 200, 232]}, [132, 138, 212, 240])\n",
            "({'label1': [178, 147, 203, 224], 'label2': [132, 151, 192, 224]}, [132, 147, 203, 224])\n",
            "({'label2': [139, 151, 186, 218]}, [139, 151, 186, 218])\n",
            "({'label2': [152, 157, 188, 223]}, [152, 157, 188, 223])\n",
            "({'label2': [153, 162, 179, 208]}, [153, 162, 179, 208])\n",
            "({}, [])\n",
            "({}, [])\n",
            "({}, [])\n",
            "({}, [])\n",
            "({}, [])\n",
            "({}, [])\n",
            "({}, [])\n",
            "({}, [])\n",
            "({}, [])\n",
            "({}, [])\n"
          ],
          "name": "stdout"
        }
      ]
    },
    {
      "cell_type": "code",
      "metadata": {
        "id": "bqPPikDP2Ce6"
      },
      "source": [
        ""
      ],
      "execution_count": null,
      "outputs": []
    },
    {
      "cell_type": "code",
      "metadata": {
        "id": "2iv1RZR4pS8d"
      },
      "source": [
        "def bounding_box_plot(Masks_2d):\n",
        "  \n",
        "  print(f'labels_slice_{slices}', np.unique(Masks_2d))\n",
        "  print('bounding_box', make_box(Masks_2d.astype(bool)))\n",
        "\n",
        "  fig=px.imshow(Masks_2d)\n",
        "\n",
        "  li = make_box(Masks_2d.astype(bool))\n",
        "\n",
        "  k = dict(x0= li[0], x1= li[2], y0= li[1], y1= li[3])\n",
        "  fig.add_shape(\n",
        "    type='rect',\n",
        "    **k,\n",
        "    xref='x', yref='y',\n",
        "    line_color='cyan'\n",
        "  )\n",
        "  fig.show()"
      ],
      "execution_count": 18,
      "outputs": []
    },
    {
      "cell_type": "code",
      "metadata": {
        "id": "a1TUX6dj6U4z"
      },
      "source": [
        "def crop_specific(im, mask, crop_size):\n",
        "        \n",
        "        k=make_box(mask.astype(np.bool))\n",
        "        if len(k)!=0:\n",
        "            b_list = k\n",
        "            x_min, y_min, x_max, y_max = b_list\n",
        "            \n",
        "            length_x = x_max -x_min + 1\n",
        "            length_y = y_max - y_min + 1\n",
        "            del_x = crop_size - length_x \n",
        "            del_y = crop_size - length_y \n",
        "\n",
        "            if del_x%2==0:\n",
        "                kx = del_x//2\n",
        "                sx=0\n",
        "            else:\n",
        "                kx = del_x//2\n",
        "\n",
        "                sx = 1\n",
        "            if del_y%2==0:\n",
        "                ky = del_y//2\n",
        "                sy=0\n",
        "            else:\n",
        "                ky = del_y//2\n",
        "                sy = 1\n",
        "            \n",
        "            crop = mask[ y_min - ky - sy : y_max + ky + 1, x_min - kx - sx : x_max + kx  + 1]\n",
        "            crop_im = im[ y_min - ky - sy : y_max + ky + 1, x_min - kx - sx : x_max + kx  + 1]\n",
        "            return crop_im, crop, \n"
      ],
      "execution_count": 19,
      "outputs": []
    },
    {
      "cell_type": "code",
      "metadata": {
        "id": "N3h1lZMG6U7r"
      },
      "source": [
        "crop_size = 192\n",
        "p_seg = []\n",
        "p_im = []\n",
        "for patient_file, segment_file in zip( patients_list[:60], segment_list[:60]):\n",
        "    im = nib.load(patient_file)    \n",
        "    im = np.array(im.dataobj)\n",
        "\n",
        "    Masks = nib.load(segment_file)    \n",
        "    Masks = np.array(Masks.dataobj)\n",
        "    Masks.shape\n",
        "    for  j in range(Masks.shape[2]):\n",
        "      k=make_box(Masks[:,:,j].astype(np.bool))\n",
        "      if len(k)!=0:\n",
        "        crop_im , crop = crop_specific(im[:,:,j], Masks[:,:,j], crop_size= crop_size)\n",
        "        p_seg.append(crop)\n",
        "        p_im.append(crop_im)\n",
        "\n",
        "\n",
        "    \n",
        "   "
      ],
      "execution_count": 20,
      "outputs": []
    },
    {
      "cell_type": "code",
      "metadata": {
        "id": "SQrg3Z4cad1j"
      },
      "source": [
        "crop_size = 192\n",
        "p_seg_t = []\n",
        "p_im_t = []\n",
        "for patient_file, segment_file in zip( patients_list[60:], segment_list[60:]):\n",
        "    im = nib.load(patient_file)    \n",
        "    im = np.array(im.dataobj)\n",
        "\n",
        "    Masks = nib.load(segment_file)    \n",
        "    Masks = np.array(Masks.dataobj)\n",
        "    Masks.shape\n",
        "    for  j in range(Masks.shape[2]):\n",
        "      k=make_box(Masks[:,:,j].astype(np.bool))\n",
        "      if len(k)!=0:\n",
        "        crop_im , crop = crop_specific(im[:,:,j], Masks[:,:,j], crop_size= crop_size)\n",
        "        p_seg_t.append(crop)\n",
        "        p_im_t.append(crop_im)\n",
        "\n"
      ],
      "execution_count": 21,
      "outputs": []
    },
    {
      "cell_type": "code",
      "metadata": {
        "id": "IDUY2DLw6Dld"
      },
      "source": [
        "segment_numpy = np.stack(p_seg,0)\n",
        "image_numpy = np.stack(p_im, 0)\n",
        "\n",
        "segment_numpy_t = np.stack(p_seg_t,0)\n",
        "image_numpy_t = np.stack(p_im_t, 0)"
      ],
      "execution_count": 22,
      "outputs": []
    },
    {
      "cell_type": "code",
      "metadata": {
        "id": "Yem_k8no-UnI"
      },
      "source": [
        "segment_numpy_t.shape"
      ],
      "execution_count": null,
      "outputs": []
    },
    {
      "cell_type": "code",
      "metadata": {
        "id": "S_mcwDyL6Dld"
      },
      "source": [
        "train = image_numpy/image_numpy.max()\n",
        "test = image_numpy_t/image_numpy.max()"
      ],
      "execution_count": 23,
      "outputs": []
    },
    {
      "cell_type": "code",
      "metadata": {
        "id": "X1lgmcp--dnq"
      },
      "source": [
        "train.dtype, segment_numpy.dtype"
      ],
      "execution_count": null,
      "outputs": []
    },
    {
      "cell_type": "code",
      "metadata": {
        "id": "PftZTqrl6Dle"
      },
      "source": [
        "train_seg_bolean = segment_numpy.astype(bool)\n",
        "test_seg_bolean = segment_numpy_t.astype(bool)"
      ],
      "execution_count": 24,
      "outputs": []
    },
    {
      "cell_type": "code",
      "metadata": {
        "id": "N-0r6wXQ-umx"
      },
      "source": [
        "train_seg_bolean.dtype"
      ],
      "execution_count": null,
      "outputs": []
    },
    {
      "cell_type": "code",
      "metadata": {
        "id": "9fiHgm90TbbG"
      },
      "source": [
        "test_seg_f = np.float32(test_seg_bolean)\n",
        "train_seg_f = np.float32(train_seg_bolean)"
      ],
      "execution_count": 25,
      "outputs": []
    },
    {
      "cell_type": "code",
      "metadata": {
        "id": "1qfNgbO9TbjF"
      },
      "source": [
        "test_seg_f.dtype"
      ],
      "execution_count": null,
      "outputs": []
    },
    {
      "cell_type": "markdown",
      "metadata": {
        "id": "ejmgY4FAojSc"
      },
      "source": [
        "# Pytorch"
      ]
    },
    {
      "cell_type": "code",
      "metadata": {
        "id": "1rxoyUEtpmKL"
      },
      "source": [
        "train_image_torch = np.expand_dims(train_image,1)\n",
        "train_seg_torch  = np.expand_dims(train_seg_f,1)"
      ],
      "execution_count": null,
      "outputs": []
    },
    {
      "cell_type": "code",
      "metadata": {
        "id": "I9NJ_iPypm0Q"
      },
      "source": [
        "train_image_torch.shape"
      ],
      "execution_count": null,
      "outputs": []
    },
    {
      "cell_type": "code",
      "metadata": {
        "id": "vQOqF9i5omM8"
      },
      "source": [
        "def conv1x1_bn_relu(inp_activation, output_activation, BN=True, activation = True):\n",
        "    \"con 1x1 + Batchnormalization + relu\"\n",
        "    layer = [nn.Conv2d(inp_activation, output_activation, 1)]\n",
        "    for i, j in zip([nn.BatchNorm2d(output_activation), nn.ReLU(inplace=True)],[BN, activation]):\n",
        "        if j==True:\n",
        "            layer.append(i)\n",
        "    return nn.Sequential(*layer)"
      ],
      "execution_count": null,
      "outputs": []
    },
    {
      "cell_type": "code",
      "metadata": {
        "id": "lVM7soCsomPv"
      },
      "source": [
        "def conv3x3_bn_relu(inp_activation, output_activation, BN=True, activation = True):\n",
        "    \"con 3x3 + Batchnormalization + relu\"\n",
        "    layer = [nn.Conv2d(inp_activation, output_activation, 3, padding = 1)]\n",
        "    for i, j in zip([nn.BatchNorm2d(output_activation), nn.ReLU(inplace=True)],[BN, activation]):\n",
        "        if j==True:\n",
        "            layer.append(i)\n",
        "    return nn.Sequential(*layer)"
      ],
      "execution_count": null,
      "outputs": []
    },
    {
      "cell_type": "code",
      "metadata": {
        "id": "vxQ_uWWDomSO"
      },
      "source": [
        "class bottleneck_block(nn.Module):\n",
        "    \n",
        "    def __init__(self, input_activation, list_filter=[256, 64, 256], down = None):\n",
        "        super().__init__()\n",
        "        self.conv1x1_1 = conv1x1_bn_relu(input_activation, list_filter[0])\n",
        "        self.conv3x3 = conv3x3_bn_relu(list_filter[0], list_filter[1])\n",
        "        self.conv1x1_2 = conv1x1_bn_relu(list_filter[1], list_filter[2])\n",
        "        self.down = down\n",
        "        if down!=None:\n",
        "            self.contract_conv = down\n",
        "    def forward(self , inp):\n",
        "        x = inp\n",
        "        c = self.conv1x1_1(inp)\n",
        "        c = self.conv3x3(c)\n",
        "        result = self.conv1x1_2(c)\n",
        "        if self.down!=None:\n",
        "            x = self.contract_conv(inp)\n",
        "        \n",
        "        out = result + x\n",
        "        \n",
        "        return out\n",
        "            \n"
      ],
      "execution_count": null,
      "outputs": []
    },
    {
      "cell_type": "code",
      "metadata": {
        "id": "HZ0anol1omUc"
      },
      "source": [
        "class conv_block(nn.Module):\n",
        "    \n",
        "    def __init__(self, inp_activation, list_filter ,resnet_block = False, downsample= None ):\n",
        "        super().__init__()\n",
        "        self.conv3x3_1 = conv3x3_bn_relu(inp_activation, list_filter)\n",
        "        self.conv3x3_2 = conv3x3_bn_relu(list_filter, list_filter)\n",
        "        self.down = downsample\n",
        "    def forward(self , inp):\n",
        "        c = self.conv3x3_1(inp)\n",
        "        c = self.conv3x3_2(c)\n",
        "        return c"
      ],
      "execution_count": null,
      "outputs": []
    },
    {
      "cell_type": "code",
      "metadata": {
        "id": "ODZSxdP-omWt"
      },
      "source": [
        "class Unet_res_b(nn.Module):\n",
        "    def __init__(self, n_class):\n",
        "        \n",
        "        super().__init__()\n",
        "        self.en_block1 = conv_block(1,32)\n",
        "        self.en_block2 = conv_block(32,64)\n",
        "        self.en_block3 = conv_block(64,128)\n",
        "        self.en_block4 = conv_block(128,256)\n",
        "        self.en_block5 = conv_block(256,512)\n",
        "        self.en_block6 = conv_block(512, 1024)\n",
        "\n",
        "        \n",
        "        self.transpose5 = nn.ConvTranspose2d(1024,512,2,2)\n",
        "        self.transpose4 = nn.ConvTranspose2d(512,256,2,2)\n",
        "\n",
        "        self.transpose3 = nn.ConvTranspose2d(256,128,2,2)\n",
        "        self.transpose2 = nn.ConvTranspose2d(128,64,2,2)\n",
        "        self.transpose1 = nn.ConvTranspose2d(64,32,2,2)\n",
        "        \n",
        "        self.de_block1 = conv_block(64,32)\n",
        "        self.de_block2 = conv_block(128,64)\n",
        "        self.de_block3 = conv_block(256,128)\n",
        "\n",
        "        self.de_block4 = conv_block(512, 256)\n",
        "        self.de_block5 = conv_block(1024, 512)\n",
        "        self.out_conv = nn.Conv2d(32, 1, 1)\n",
        "\n",
        "        \n",
        "    \n",
        "\n",
        "    def forward(self, inp):\n",
        "        el1 = self.en_block1(inp) #  (32,h,w)\n",
        "        max1 = nn.MaxPool2d(2)(el1) # (32,h//2, w//2)\n",
        "\n",
        "        el2 = self.en_block2(max1)    #(64, h//2, w//2)\n",
        "        max2 = nn.MaxPool2d(2)(el2)  #(64, h//4, w//4)\n",
        "\n",
        "        el3 = self.en_block3(max2)    #(128, h//4, w//4)\n",
        "        max3 = nn.MaxPool2d(2)(el3)  #(128, h//8, w//8)\n",
        "\n",
        "        el4 = self.en_block4(max3)    #(256, h//8, w//8)\n",
        "        max4 = nn.MaxPool2d(2)(el4)  #(256, h//16, w//16)\n",
        "        \n",
        "        el5 = self.en_block5(max4)  #(512, h//16, w//16)\n",
        "        max5 = nn.MaxPool2d(2)(el5)  #(512, h//32, w//32)\n",
        "        \n",
        "        el6 = self.en_block6(max5)  #(1024, h//32, w//32)\n",
        "\n",
        "        el5 = self.transpose5(el6)  #(512, h//16, w//16)\n",
        "        cat5 = torch.cat([el5, el5], 1) #(1024, h//16, h//16 )\n",
        "        d5 =  self.de_block5(cat5)      #(512, h//16, w//16)\n",
        "        \n",
        "        tl4 = self.transpose4(d5)       #(256, h//8, w//8)\n",
        "        cat4 = torch.cat([tl4, el4], 1) #(512, h//8, w//8)\n",
        "        d4 =  self.de_block4(cat4)     #(256, h//8, w//8)\n",
        "        \n",
        "        tl3 = self.transpose3(d4)        #(128, h//4, w//4)\n",
        "        cat3 = torch.cat([tl3, el3], 1)  #(256, h//4, w//4)\n",
        "        d3 =  self.de_block3(cat3)        #(128, h//4, w//4)\n",
        "        \n",
        "        \n",
        "        tl2 = self.transpose2(d3)          #(64, h//2, w//2)\n",
        "        cat2 = torch.cat([tl2, el2], 1)   #(128, h//2, w//2)\n",
        "        d2 =  self.de_block2(cat2)         #(64, h//2, w//2)\n",
        "        \n",
        "        tl1 = self.transpose1(d2)          #(32, h, w)\n",
        "        cat1 = torch.cat([tl1, el1], 1) #(64, h, w)\n",
        "        d1 =  self.de_block1(cat1)        #(32, h, w)\n",
        "        output = self.out_conv(d1) \n",
        "\n",
        "        return output\n",
        "\n"
      ],
      "execution_count": null,
      "outputs": []
    },
    {
      "cell_type": "code",
      "metadata": {
        "id": "RVa5_ABxomZA"
      },
      "source": [
        "m = Unet_res_b(2)"
      ],
      "execution_count": null,
      "outputs": []
    },
    {
      "cell_type": "code",
      "metadata": {
        "id": "wROsnyqJRERc"
      },
      "source": [
        "m.to(torch.device('cuda'))"
      ],
      "execution_count": null,
      "outputs": []
    },
    {
      "cell_type": "code",
      "metadata": {
        "id": "UuZaxOiCo4k1"
      },
      "source": [
        "m(torch.tensor(train_image_torch)[:3]).shape"
      ],
      "execution_count": null,
      "outputs": []
    },
    {
      "cell_type": "code",
      "metadata": {
        "id": "s3uVtkvdo5R3"
      },
      "source": [
        "d_tr = torch.utils.data.DataLoader(train_image_torch,32)\n",
        "d_seg = torch.utils.data.DataLoader(train_seg_torch,32)"
      ],
      "execution_count": null,
      "outputs": []
    },
    {
      "cell_type": "code",
      "metadata": {
        "id": "CpmNmtNoo5VP"
      },
      "source": [
        "device = torch.device('cuda')"
      ],
      "execution_count": null,
      "outputs": []
    },
    {
      "cell_type": "code",
      "metadata": {
        "id": "eMHst6GdRwWl"
      },
      "source": [
        "opt = torch.optim.Adam(m.parameters())"
      ],
      "execution_count": null,
      "outputs": []
    },
    {
      "cell_type": "code",
      "metadata": {
        "id": "juKjnCuSR_53"
      },
      "source": [
        "loss = torch.nn.BCELoss()"
      ],
      "execution_count": null,
      "outputs": []
    },
    {
      "cell_type": "code",
      "metadata": {
        "id": "WoebZa4ZWN0m"
      },
      "source": [
        "im = im.to(device=device)\n"
      ],
      "execution_count": null,
      "outputs": []
    },
    {
      "cell_type": "code",
      "metadata": {
        "id": "xtvE06B4o5bg"
      },
      "source": [
        "for im , segi in zip(d_tr, d_seg):\n",
        "  im = im.to(device=device)\n",
        "  segi =segi.to(device)\n",
        "  yh = m(im)\n",
        "  l = loss(yh, segi)\n",
        "  #print(l)\n",
        "  opt.zero_grad()\n",
        "  l.backward()\n",
        "  opt.step\n",
        "  "
      ],
      "execution_count": null,
      "outputs": []
    },
    {
      "cell_type": "markdown",
      "metadata": {
        "id": "TXx7-kecQufp"
      },
      "source": [
        "# tensorflow"
      ]
    },
    {
      "cell_type": "code",
      "metadata": {
        "id": "oswpYrSC_yyS"
      },
      "source": [
        "IMG_HEIGHT, IMG_WIDTH, IMG_CHANNELS  =crop_size, crop_size, 1"
      ],
      "execution_count": 46,
      "outputs": []
    },
    {
      "cell_type": "code",
      "metadata": {
        "id": "11C8uTN4B-vx"
      },
      "source": [
        "def conv_block(chan, drop = None, l2 = True):\n",
        "  seq = keras.Sequential()\n",
        "  seq.add(layers.Conv2D(chan, (3,3), activation='relu',kernel_regularizer='l2', kernel_initializer='he_normal',\n",
        "                padding='same'))\n",
        "  if drop!= None:\n",
        "    seq.add(\n",
        "    layers.Dropout(drop))\n",
        "  seq.add(layers.Conv2D(chan, (3,3), activation='relu', kernel_initializer='he_normal',\n",
        "                padding='same'))\n",
        "    \n",
        "  return seq\n"
      ],
      "execution_count": 52,
      "outputs": []
    },
    {
      "cell_type": "code",
      "metadata": {
        "id": "CPWXTfwRGxdU"
      },
      "source": [
        "k = layers.Conv2D(42, (3,3), activation='relu',kernel_regularizer='l2', kernel_initializer='he_normal',\n",
        "                padding='same')"
      ],
      "execution_count": 58,
      "outputs": []
    },
    {
      "cell_type": "code",
      "metadata": {
        "id": "bQzERuXGG3DY",
        "outputId": "303a188a-1cac-4bf5-f31d-0e45d3cc45f9",
        "colab": {
          "base_uri": "https://localhost:8080/"
        }
      },
      "source": [
        "k.kernel_regularizer.get_config()"
      ],
      "execution_count": 61,
      "outputs": [
        {
          "output_type": "execute_result",
          "data": {
            "text/plain": [
              "{'l2': 0.009999999776482582}"
            ]
          },
          "metadata": {
            "tags": []
          },
          "execution_count": 61
        }
      ]
    },
    {
      "cell_type": "code",
      "metadata": {
        "id": "ukefGLzYWZMd"
      },
      "source": [
        "def U_Net_Segmentation(input_size=(IMG_HEIGHT, IMG_WIDTH, IMG_CHANNELS), drop = None, l2 = True):\n",
        "    \n",
        "    inputs = tf.keras.Input(input_size)\n",
        "    \n",
        "    \n",
        "    c1=conv_block(16, drop=drop, l2=l2)(inputs)\n",
        "    p1 = layers.MaxPooling2D((2,2))(c1)\n",
        "\n",
        "\n",
        "    c2 = conv_block(32, drop=drop, l2=l2)(p1)\n",
        "    p2 = layers.MaxPooling2D((2,2))(c2)\n",
        "\n",
        "\n",
        "    c3 = conv_block(64, drop=drop, l2=l2)(p2)\n",
        "    p3 = layers.MaxPooling2D((2,2))(c3)\n",
        "\n",
        "\n",
        "    c4 = conv_block(128, drop=drop, l2=l2)(p3)\n",
        "    p4 = layers.MaxPooling2D((2,2))(c4)\n",
        "\n",
        "\n",
        "    c5 = conv_block(256, drop=drop, l2=l2)(p4)\n",
        "\n",
        "\n",
        "\n",
        "\n",
        "    u6 = layers.Conv2DTranspose(128, (2,2), strides=(2,2), padding='same')(c5)\n",
        "    u6 = layers.concatenate([u6, c4])\n",
        "    c6 = layers.Conv2D(128, (3,3), activation='relu', kernel_initializer='he_normal',\n",
        "                padding='same')(u6)\n",
        "    c6 = layers.Dropout(0.2)(c6)\n",
        "    c6 = layers.Conv2D(128, (3,3), activation='relu', kernel_initializer='he_normal',\n",
        "                padding='same')(c6)   \n",
        "\n",
        "\n",
        "    u7 = layers.Conv2DTranspose(64, (2,2), strides=(2,2), padding='same')(c6)\n",
        "    u7 = layers.concatenate([u7, c3])\n",
        "    c7 = layers.Conv2D(64, (3,3), activation='relu', kernel_initializer='he_normal',\n",
        "                padding='same')(u7)\n",
        "    c7 = layers.Dropout(0.2)(c7)\n",
        "    c7 = layers.Conv2D(64, (3,3), activation='relu', kernel_initializer='he_normal',\n",
        "                padding='same')(c7) \n",
        "\n",
        "    u8 = layers.Conv2DTranspose(32, (2,2), strides=(2,2), padding='same')(c7)\n",
        "    u8 = layers.concatenate([u8, c2])\n",
        "    c8 = layers.Conv2D(32, (3,3), activation='relu', kernel_initializer='he_normal',\n",
        "                padding='same')(u8)\n",
        "    c8 = layers.Dropout(0.1)(c8)\n",
        "    c8 = layers.Conv2D(32, (3,3), activation='relu', kernel_initializer='he_normal',\n",
        "                padding='same')(c8) \n",
        "    \n",
        "    \n",
        "    u9 = layers.Conv2DTranspose(16, (2,2), strides=(2,2), padding='same')(c8)\n",
        "    u9 = layers.concatenate([u9, c1], axis = 3)\n",
        "    c9 = layers.Conv2D(16, (3,3), activation='relu', kernel_initializer='he_normal',\n",
        "                padding='same')(u9)\n",
        "    c9 = layers.Dropout(0.1)(c9)\n",
        "    c9 = layers.Conv2D(16, (3,3), activation='relu', kernel_initializer='he_normal',\n",
        "                padding='same')(c9) \n",
        "    \n",
        "    outputs = layers.Conv2D(2,(1,1), activation=\"softmax\",)(c9)\n",
        "    \n",
        "    model = tf.keras.Model(inputs=[inputs], outputs=[outputs])\n",
        "    \n",
        "    return model"
      ],
      "execution_count": 71,
      "outputs": []
    },
    {
      "cell_type": "code",
      "metadata": {
        "id": "CjIL8qN3UTzC"
      },
      "source": [
        "def Dice(y_true, y_pred):\n",
        "\n",
        "    \n",
        "    \n",
        "  mask1 = tf.math.argmax(y_pred, axis=-1)\n",
        "\n",
        "  y_pred= tf.cast(mask1, tf.float32)\n",
        "  inter = tf.reduce_sum(y_pred * y_true, [1,2])\n",
        "  uni = tf.reduce_sum(y_pred , [1,2])+ tf.reduce_sum( y_true, [1,2])\n",
        "\n",
        "  des = tf.reduce_mean(2*inter/uni)\n",
        "       \n",
        "  return des\n",
        "\n"
      ],
      "execution_count": 72,
      "outputs": []
    },
    {
      "cell_type": "code",
      "metadata": {
        "id": "dAdi8upuQCYd",
        "outputId": "0747f74a-5398-4449-ca98-b6c7d5d421dd",
        "colab": {
          "base_uri": "https://localhost:8080/"
        }
      },
      "source": [
        "model = U_Net_Segmentation()\n",
        "model.summary()"
      ],
      "execution_count": 73,
      "outputs": [
        {
          "output_type": "stream",
          "text": [
            "Model: \"model_2\"\n",
            "__________________________________________________________________________________________________\n",
            "Layer (type)                    Output Shape         Param #     Connected to                     \n",
            "==================================================================================================\n",
            "input_7 (InputLayer)            [(None, 192, 192, 1) 0                                            \n",
            "__________________________________________________________________________________________________\n",
            "sequential_21 (Sequential)      (None, 192, 192, 16) 2480        input_7[0][0]                    \n",
            "__________________________________________________________________________________________________\n",
            "max_pooling2d_19 (MaxPooling2D) (None, 96, 96, 16)   0           sequential_21[0][0]              \n",
            "__________________________________________________________________________________________________\n",
            "sequential_22 (Sequential)      (None, 96, 96, 32)   13888       max_pooling2d_19[0][0]           \n",
            "__________________________________________________________________________________________________\n",
            "max_pooling2d_20 (MaxPooling2D) (None, 48, 48, 32)   0           sequential_22[0][0]              \n",
            "__________________________________________________________________________________________________\n",
            "sequential_23 (Sequential)      (None, 48, 48, 64)   55424       max_pooling2d_20[0][0]           \n",
            "__________________________________________________________________________________________________\n",
            "max_pooling2d_21 (MaxPooling2D) (None, 24, 24, 64)   0           sequential_23[0][0]              \n",
            "__________________________________________________________________________________________________\n",
            "sequential_24 (Sequential)      (None, 24, 24, 128)  221440      max_pooling2d_21[0][0]           \n",
            "__________________________________________________________________________________________________\n",
            "max_pooling2d_22 (MaxPooling2D) (None, 12, 12, 128)  0           sequential_24[0][0]              \n",
            "__________________________________________________________________________________________________\n",
            "sequential_25 (Sequential)      (None, 12, 12, 256)  885248      max_pooling2d_22[0][0]           \n",
            "__________________________________________________________________________________________________\n",
            "conv2d_transpose_9 (Conv2DTrans (None, 24, 24, 128)  131200      sequential_25[0][0]              \n",
            "__________________________________________________________________________________________________\n",
            "concatenate_8 (Concatenate)     (None, 24, 24, 256)  0           conv2d_transpose_9[0][0]         \n",
            "                                                                 sequential_24[0][0]              \n",
            "__________________________________________________________________________________________________\n",
            "conv2d_75 (Conv2D)              (None, 24, 24, 128)  295040      concatenate_8[0][0]              \n",
            "__________________________________________________________________________________________________\n",
            "dropout_11 (Dropout)            (None, 24, 24, 128)  0           conv2d_75[0][0]                  \n",
            "__________________________________________________________________________________________________\n",
            "conv2d_76 (Conv2D)              (None, 24, 24, 128)  147584      dropout_11[0][0]                 \n",
            "__________________________________________________________________________________________________\n",
            "conv2d_transpose_10 (Conv2DTran (None, 48, 48, 64)   32832       conv2d_76[0][0]                  \n",
            "__________________________________________________________________________________________________\n",
            "concatenate_9 (Concatenate)     (None, 48, 48, 128)  0           conv2d_transpose_10[0][0]        \n",
            "                                                                 sequential_23[0][0]              \n",
            "__________________________________________________________________________________________________\n",
            "conv2d_77 (Conv2D)              (None, 48, 48, 64)   73792       concatenate_9[0][0]              \n",
            "__________________________________________________________________________________________________\n",
            "dropout_12 (Dropout)            (None, 48, 48, 64)   0           conv2d_77[0][0]                  \n",
            "__________________________________________________________________________________________________\n",
            "conv2d_78 (Conv2D)              (None, 48, 48, 64)   36928       dropout_12[0][0]                 \n",
            "__________________________________________________________________________________________________\n",
            "conv2d_transpose_11 (Conv2DTran (None, 96, 96, 32)   8224        conv2d_78[0][0]                  \n",
            "__________________________________________________________________________________________________\n",
            "concatenate_10 (Concatenate)    (None, 96, 96, 64)   0           conv2d_transpose_11[0][0]        \n",
            "                                                                 sequential_22[0][0]              \n",
            "__________________________________________________________________________________________________\n",
            "conv2d_79 (Conv2D)              (None, 96, 96, 32)   18464       concatenate_10[0][0]             \n",
            "__________________________________________________________________________________________________\n",
            "dropout_13 (Dropout)            (None, 96, 96, 32)   0           conv2d_79[0][0]                  \n",
            "__________________________________________________________________________________________________\n",
            "conv2d_80 (Conv2D)              (None, 96, 96, 32)   9248        dropout_13[0][0]                 \n",
            "__________________________________________________________________________________________________\n",
            "conv2d_transpose_12 (Conv2DTran (None, 192, 192, 16) 2064        conv2d_80[0][0]                  \n",
            "__________________________________________________________________________________________________\n",
            "concatenate_11 (Concatenate)    (None, 192, 192, 32) 0           conv2d_transpose_12[0][0]        \n",
            "                                                                 sequential_21[0][0]              \n",
            "__________________________________________________________________________________________________\n",
            "conv2d_81 (Conv2D)              (None, 192, 192, 16) 4624        concatenate_11[0][0]             \n",
            "__________________________________________________________________________________________________\n",
            "dropout_14 (Dropout)            (None, 192, 192, 16) 0           conv2d_81[0][0]                  \n",
            "__________________________________________________________________________________________________\n",
            "conv2d_82 (Conv2D)              (None, 192, 192, 16) 2320        dropout_14[0][0]                 \n",
            "__________________________________________________________________________________________________\n",
            "conv2d_83 (Conv2D)              (None, 192, 192, 2)  34          conv2d_82[0][0]                  \n",
            "==================================================================================================\n",
            "Total params: 1,940,834\n",
            "Trainable params: 1,940,834\n",
            "Non-trainable params: 0\n",
            "__________________________________________________________________________________________________\n"
          ],
          "name": "stdout"
        }
      ]
    },
    {
      "cell_type": "code",
      "metadata": {
        "id": "_0n1dij5Xvd0"
      },
      "source": [
        "optimizer = tf.keras.optimizers.Adam()\n"
      ],
      "execution_count": 74,
      "outputs": []
    },
    {
      "cell_type": "code",
      "metadata": {
        "id": "v_CY0xwtXvgg"
      },
      "source": [
        "model.compile(optimizer=optimizer, loss=\"sparse_categorical_crossentropy\", metrics=[Dice])\n",
        "                 "
      ],
      "execution_count": 75,
      "outputs": []
    },
    {
      "cell_type": "code",
      "metadata": {
        "id": "q8o9U5SBAznQ"
      },
      "source": [
        "# This function keeps the initial learning rate for the first ten epochs\n",
        "# and decreases it exponentially after that.\n",
        "def scheduler(epoch, lr):\n",
        "  if epoch < 30:\n",
        "    return lr\n",
        "  else:\n",
        "    return lr * 0.1\n",
        "\n"
      ],
      "execution_count": 76,
      "outputs": []
    },
    {
      "cell_type": "code",
      "metadata": {
        "id": "rAFB8l7DBAWv"
      },
      "source": [
        "callback = tf.keras.callbacks.LearningRateScheduler(scheduler)\n"
      ],
      "execution_count": 77,
      "outputs": []
    },
    {
      "cell_type": "code",
      "metadata": {
        "id": "dS7V2D1KXvin",
        "colab": {
          "base_uri": "https://localhost:8080/"
        },
        "outputId": "8c98d1dc-6784-40b3-c1a6-619864306b28"
      },
      "source": [
        "results = model.fit(train, train_seg_f,\n",
        "                    shuffle = True,\n",
        "                    validation_split = 0.1,\n",
        "                    batch_size=32,\n",
        "                    epochs=70,\n",
        "                    callbacks=[callback])"
      ],
      "execution_count": 78,
      "outputs": [
        {
          "output_type": "stream",
          "text": [
            "Epoch 1/70\n",
            "24/24 [==============================] - 6s 178ms/step - loss: 9.0857 - Dice: 0.0503 - val_loss: 5.5024 - val_Dice: 0.0000e+00\n",
            "Epoch 2/70\n",
            "24/24 [==============================] - 4s 163ms/step - loss: 4.7546 - Dice: 0.0000e+00 - val_loss: 3.1077 - val_Dice: 0.0000e+00\n",
            "Epoch 3/70\n",
            "24/24 [==============================] - 4s 164ms/step - loss: 2.7131 - Dice: 0.0000e+00 - val_loss: 1.9980 - val_Dice: 0.0000e+00\n",
            "Epoch 4/70\n",
            "24/24 [==============================] - 4s 171ms/step - loss: 1.8757 - Dice: 1.2331e-06 - val_loss: 1.5216 - val_Dice: 0.0000e+00\n",
            "Epoch 5/70\n",
            "24/24 [==============================] - 4s 165ms/step - loss: 1.3793 - Dice: 0.0097 - val_loss: 1.1720 - val_Dice: 0.0000e+00\n",
            "Epoch 6/70\n",
            "24/24 [==============================] - 4s 166ms/step - loss: 1.0943 - Dice: 0.0000e+00 - val_loss: 0.9672 - val_Dice: 0.0000e+00\n",
            "Epoch 7/70\n",
            "24/24 [==============================] - 4s 166ms/step - loss: 0.9298 - Dice: 0.0000e+00 - val_loss: 0.8440 - val_Dice: 0.0000e+00\n",
            "Epoch 8/70\n",
            "24/24 [==============================] - 4s 167ms/step - loss: 0.7930 - Dice: 0.0000e+00 - val_loss: 0.7039 - val_Dice: 0.0000e+00\n",
            "Epoch 9/70\n",
            "24/24 [==============================] - 4s 167ms/step - loss: 0.6827 - Dice: 8.0737e-07 - val_loss: 0.7330 - val_Dice: 0.0000e+00\n",
            "Epoch 10/70\n",
            "24/24 [==============================] - 4s 167ms/step - loss: 0.6374 - Dice: 8.3957e-05 - val_loss: 0.5730 - val_Dice: 0.0000e+00\n",
            "Epoch 11/70\n",
            "24/24 [==============================] - 4s 167ms/step - loss: 0.5582 - Dice: 0.0013 - val_loss: 0.5207 - val_Dice: 1.2110e-04\n",
            "Epoch 12/70\n",
            "24/24 [==============================] - 4s 167ms/step - loss: 0.4971 - Dice: 0.0971 - val_loss: 0.4802 - val_Dice: 0.7212\n",
            "Epoch 13/70\n",
            "24/24 [==============================] - 4s 166ms/step - loss: 0.4598 - Dice: 0.6175 - val_loss: 0.4585 - val_Dice: 0.2920\n",
            "Epoch 14/70\n",
            "24/24 [==============================] - 4s 166ms/step - loss: 0.4218 - Dice: 0.5933 - val_loss: 0.4453 - val_Dice: 0.7060\n",
            "Epoch 15/70\n",
            "24/24 [==============================] - 4s 166ms/step - loss: 0.4098 - Dice: 0.6526 - val_loss: 0.3713 - val_Dice: 0.7332\n",
            "Epoch 16/70\n",
            "24/24 [==============================] - 4s 165ms/step - loss: 0.3623 - Dice: 0.6823 - val_loss: 0.3565 - val_Dice: 0.7338\n",
            "Epoch 17/70\n",
            "24/24 [==============================] - 4s 165ms/step - loss: 0.3306 - Dice: 0.7064 - val_loss: 0.3355 - val_Dice: 0.6779\n",
            "Epoch 18/70\n",
            "24/24 [==============================] - 4s 164ms/step - loss: 0.3233 - Dice: 0.6768 - val_loss: 0.3129 - val_Dice: 0.7458\n",
            "Epoch 19/70\n",
            "24/24 [==============================] - 4s 164ms/step - loss: 0.2988 - Dice: 0.7063 - val_loss: 0.2921 - val_Dice: 0.7645\n",
            "Epoch 20/70\n",
            "24/24 [==============================] - 4s 165ms/step - loss: 0.2826 - Dice: 0.7224 - val_loss: 0.2938 - val_Dice: 0.7486\n",
            "Epoch 21/70\n",
            "24/24 [==============================] - 4s 164ms/step - loss: 0.2826 - Dice: 0.6961 - val_loss: 0.2701 - val_Dice: 0.7601\n",
            "Epoch 22/70\n",
            "24/24 [==============================] - 4s 164ms/step - loss: 0.2652 - Dice: 0.7134 - val_loss: 0.2718 - val_Dice: 0.7231\n",
            "Epoch 23/70\n",
            "24/24 [==============================] - 4s 165ms/step - loss: 0.2561 - Dice: 0.7185 - val_loss: 0.2605 - val_Dice: 0.7452\n",
            "Epoch 24/70\n",
            "24/24 [==============================] - 4s 165ms/step - loss: 0.2386 - Dice: 0.7347 - val_loss: 0.2575 - val_Dice: 0.7592\n",
            "Epoch 25/70\n",
            "24/24 [==============================] - 4s 165ms/step - loss: 0.2437 - Dice: 0.7037 - val_loss: 0.2603 - val_Dice: 0.6914\n",
            "Epoch 26/70\n",
            "24/24 [==============================] - 4s 165ms/step - loss: 0.2385 - Dice: 0.7136 - val_loss: 0.2218 - val_Dice: 0.7732\n",
            "Epoch 27/70\n",
            "24/24 [==============================] - 4s 166ms/step - loss: 0.2226 - Dice: 0.7247 - val_loss: 0.2250 - val_Dice: 0.7552\n",
            "Epoch 28/70\n",
            "24/24 [==============================] - 4s 166ms/step - loss: 0.2157 - Dice: 0.7351 - val_loss: 0.2155 - val_Dice: 0.7598\n",
            "Epoch 29/70\n",
            "24/24 [==============================] - 4s 166ms/step - loss: 0.2056 - Dice: 0.7392 - val_loss: 0.2314 - val_Dice: 0.7441\n",
            "Epoch 30/70\n",
            "24/24 [==============================] - 4s 166ms/step - loss: 0.1998 - Dice: 0.7395 - val_loss: 0.2092 - val_Dice: 0.7712\n",
            "Epoch 31/70\n",
            "24/24 [==============================] - 4s 166ms/step - loss: 0.1852 - Dice: 0.7493 - val_loss: 0.2070 - val_Dice: 0.7659\n",
            "Epoch 32/70\n",
            "24/24 [==============================] - 4s 165ms/step - loss: 0.1806 - Dice: 0.7572 - val_loss: 0.2068 - val_Dice: 0.7665\n",
            "Epoch 33/70\n",
            "24/24 [==============================] - 4s 165ms/step - loss: 0.1853 - Dice: 0.7631 - val_loss: 0.2067 - val_Dice: 0.7666\n",
            "Epoch 34/70\n",
            "24/24 [==============================] - 4s 166ms/step - loss: 0.1779 - Dice: 0.7702 - val_loss: 0.2067 - val_Dice: 0.7667\n",
            "Epoch 35/70\n",
            "24/24 [==============================] - 4s 166ms/step - loss: 0.1800 - Dice: 0.7692 - val_loss: 0.2067 - val_Dice: 0.7667\n",
            "Epoch 36/70\n",
            "24/24 [==============================] - 4s 165ms/step - loss: 0.1804 - Dice: 0.7557 - val_loss: 0.2067 - val_Dice: 0.7667\n",
            "Epoch 37/70\n",
            "24/24 [==============================] - 4s 165ms/step - loss: 0.1801 - Dice: 0.7672 - val_loss: 0.2067 - val_Dice: 0.7667\n",
            "Epoch 38/70\n",
            "24/24 [==============================] - 4s 165ms/step - loss: 0.1820 - Dice: 0.7679 - val_loss: 0.2067 - val_Dice: 0.7667\n",
            "Epoch 39/70\n",
            "24/24 [==============================] - 4s 165ms/step - loss: 0.1816 - Dice: 0.7598 - val_loss: 0.2067 - val_Dice: 0.7667\n",
            "Epoch 40/70\n",
            "24/24 [==============================] - 4s 172ms/step - loss: 0.1775 - Dice: 0.7659 - val_loss: 0.2067 - val_Dice: 0.7667\n",
            "Epoch 41/70\n",
            "24/24 [==============================] - 4s 165ms/step - loss: 0.1825 - Dice: 0.7724 - val_loss: 0.2067 - val_Dice: 0.7667\n",
            "Epoch 42/70\n",
            "24/24 [==============================] - 4s 165ms/step - loss: 0.1798 - Dice: 0.7659 - val_loss: 0.2067 - val_Dice: 0.7667\n",
            "Epoch 43/70\n",
            "24/24 [==============================] - 4s 165ms/step - loss: 0.1762 - Dice: 0.7708 - val_loss: 0.2067 - val_Dice: 0.7667\n",
            "Epoch 44/70\n",
            "24/24 [==============================] - 4s 165ms/step - loss: 0.1839 - Dice: 0.7670 - val_loss: 0.2067 - val_Dice: 0.7667\n",
            "Epoch 45/70\n",
            "24/24 [==============================] - 4s 165ms/step - loss: 0.1776 - Dice: 0.7624 - val_loss: 0.2067 - val_Dice: 0.7667\n",
            "Epoch 46/70\n",
            "24/24 [==============================] - 4s 165ms/step - loss: 0.1815 - Dice: 0.7706 - val_loss: 0.2067 - val_Dice: 0.7667\n",
            "Epoch 47/70\n",
            "24/24 [==============================] - 4s 165ms/step - loss: 0.1827 - Dice: 0.7609 - val_loss: 0.2067 - val_Dice: 0.7667\n",
            "Epoch 48/70\n",
            "24/24 [==============================] - 4s 165ms/step - loss: 0.1820 - Dice: 0.7653 - val_loss: 0.2067 - val_Dice: 0.7667\n",
            "Epoch 49/70\n",
            "24/24 [==============================] - 4s 165ms/step - loss: 0.1775 - Dice: 0.7649 - val_loss: 0.2067 - val_Dice: 0.7667\n",
            "Epoch 50/70\n",
            "24/24 [==============================] - 4s 166ms/step - loss: 0.1803 - Dice: 0.7693 - val_loss: 0.2067 - val_Dice: 0.7667\n",
            "Epoch 51/70\n",
            "24/24 [==============================] - 4s 165ms/step - loss: 0.1822 - Dice: 0.7610 - val_loss: 0.2067 - val_Dice: 0.7667\n",
            "Epoch 52/70\n",
            "24/24 [==============================] - 4s 165ms/step - loss: 0.1779 - Dice: 0.7646 - val_loss: 0.2067 - val_Dice: 0.7667\n",
            "Epoch 53/70\n",
            "24/24 [==============================] - 4s 165ms/step - loss: 0.1788 - Dice: 0.7529 - val_loss: 0.2067 - val_Dice: 0.7667\n",
            "Epoch 54/70\n",
            "24/24 [==============================] - 4s 166ms/step - loss: 0.1831 - Dice: 0.7660 - val_loss: 0.2067 - val_Dice: 0.7667\n",
            "Epoch 55/70\n",
            "24/24 [==============================] - 4s 166ms/step - loss: 0.1813 - Dice: 0.7650 - val_loss: 0.2067 - val_Dice: 0.7667\n",
            "Epoch 56/70\n",
            "24/24 [==============================] - 4s 165ms/step - loss: 0.1788 - Dice: 0.7681 - val_loss: 0.2067 - val_Dice: 0.7667\n",
            "Epoch 57/70\n",
            "24/24 [==============================] - 4s 166ms/step - loss: 0.1798 - Dice: 0.7643 - val_loss: 0.2067 - val_Dice: 0.7667\n",
            "Epoch 58/70\n",
            "24/24 [==============================] - 4s 166ms/step - loss: 0.1830 - Dice: 0.7628 - val_loss: 0.2067 - val_Dice: 0.7667\n",
            "Epoch 59/70\n",
            "24/24 [==============================] - 4s 166ms/step - loss: 0.1786 - Dice: 0.7690 - val_loss: 0.2067 - val_Dice: 0.7667\n",
            "Epoch 60/70\n",
            "24/24 [==============================] - 4s 166ms/step - loss: 0.1810 - Dice: 0.7672 - val_loss: 0.2067 - val_Dice: 0.7667\n",
            "Epoch 61/70\n",
            "24/24 [==============================] - 4s 166ms/step - loss: 0.1799 - Dice: 0.7628 - val_loss: 0.2067 - val_Dice: 0.7667\n",
            "Epoch 62/70\n",
            "24/24 [==============================] - 4s 166ms/step - loss: 0.1802 - Dice: 0.7691 - val_loss: 0.2067 - val_Dice: 0.7667\n",
            "Epoch 63/70\n",
            "24/24 [==============================] - 4s 165ms/step - loss: 0.1836 - Dice: 0.7689 - val_loss: 0.2067 - val_Dice: 0.7667\n",
            "Epoch 64/70\n",
            "24/24 [==============================] - 4s 166ms/step - loss: 0.1808 - Dice: 0.7749 - val_loss: 0.2067 - val_Dice: 0.7667\n",
            "Epoch 65/70\n",
            "24/24 [==============================] - 4s 166ms/step - loss: 0.1799 - Dice: 0.7713 - val_loss: 0.2067 - val_Dice: 0.7667\n",
            "Epoch 66/70\n",
            "24/24 [==============================] - 4s 165ms/step - loss: 0.1860 - Dice: 0.7519 - val_loss: 0.2067 - val_Dice: 0.7667\n",
            "Epoch 67/70\n",
            "24/24 [==============================] - 4s 165ms/step - loss: 0.1770 - Dice: 0.7717 - val_loss: 0.2067 - val_Dice: 0.7667\n",
            "Epoch 68/70\n",
            "24/24 [==============================] - 4s 165ms/step - loss: 0.1766 - Dice: 0.7690 - val_loss: 0.2067 - val_Dice: 0.7667\n",
            "Epoch 69/70\n",
            "24/24 [==============================] - 4s 166ms/step - loss: 0.1811 - Dice: 0.7569 - val_loss: 0.2067 - val_Dice: 0.7667\n",
            "Epoch 70/70\n",
            "24/24 [==============================] - 4s 165ms/step - loss: 0.1807 - Dice: 0.7597 - val_loss: 0.2067 - val_Dice: 0.7667\n"
          ],
          "name": "stdout"
        }
      ]
    },
    {
      "cell_type": "code",
      "metadata": {
        "id": "77alWyEURNWv"
      },
      "source": [
        "loss = results.history['loss']\n",
        "val_loss = results.history['val_Dice']\n",
        "\n",
        "epochs = range(70)\n",
        "\n",
        "plt.figure()\n",
        "plt.plot(epochs, loss, 'r', label='Training loss Cross entropy')\n",
        "plt.plot(epochs, val_loss, 'bo', label='Validation Dice Metric')\n",
        "plt.title('Training and Validation Loss')\n",
        "plt.xlabel('Epoch')\n",
        "plt.ylabel('Loss Value')\n",
        "plt.ylim([0, 1])\n",
        "plt.legend()\n",
        "plt.show()"
      ],
      "execution_count": null,
      "outputs": []
    },
    {
      "cell_type": "code",
      "metadata": {
        "id": "m759RpTUXvlA"
      },
      "source": [
        "def display_mask(i):\n",
        "    \"\"\"Quick utility to display a model's prediction.\"\"\"\n",
        "    mask = np.argmax(val_preds[i], axis=-1)\n",
        "    mask = np.expand_dims(mask, axis=-1)\n",
        "    img = PIL.ImageOps.autocontrast(keras.preprocessing.image.array_to_img(mask))\n",
        "    display(img)\n",
        "\n",
        "pr = model.predict(test_image[:7])"
      ],
      "execution_count": null,
      "outputs": []
    },
    {
      "cell_type": "code",
      "metadata": {
        "id": "6TEFnQPlXvnp"
      },
      "source": [
        "mask1 = np.argmax(pr[2], axis=-1)\n",
        "plt.imshow(mask1)\n"
      ],
      "execution_count": null,
      "outputs": []
    },
    {
      "cell_type": "code",
      "metadata": {
        "id": "NghUE-MYeDwM"
      },
      "source": [
        "plt.imshow(test_seg_f[2])\n"
      ],
      "execution_count": null,
      "outputs": []
    }
  ]
}