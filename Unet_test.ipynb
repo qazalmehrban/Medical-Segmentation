{
  "nbformat": 4,
  "nbformat_minor": 0,
  "metadata": {
    "colab": {
      "name": "Copy of Untitled1.ipynb",
      "provenance": [],
      "include_colab_link": true
    },
    "kernelspec": {
      "display_name": "Python 3",
      "language": "python",
      "name": "python3"
    },
    "language_info": {
      "codemirror_mode": {
        "name": "ipython",
        "version": 3
      },
      "file_extension": ".py",
      "mimetype": "text/x-python",
      "name": "python",
      "nbconvert_exporter": "python",
      "pygments_lexer": "ipython3",
      "version": "3.8.5"
    },
    "accelerator": "GPU"
  },
  "cells": [
    {
      "cell_type": "markdown",
      "metadata": {
        "id": "view-in-github",
        "colab_type": "text"
      },
      "source": [
        "<a href=\"https://colab.research.google.com/github/qazalmehrban/Medical-Segmentation/blob/ghazal/Unet_test.ipynb\" target=\"_parent\"><img src=\"https://colab.research.google.com/assets/colab-badge.svg\" alt=\"Open In Colab\"/></a>"
      ]
    },
    {
      "cell_type": "code",
      "metadata": {
        "id": "SJeS1cyb1W6E"
      },
      "source": [
        "import tensorflow as tf\n",
        "from tensorflow import keras\n",
        "from tensorflow.keras import layers\n",
        "\n",
        "from skimage.transform import resize\n",
        "import numpy as np\n",
        "import nibabel as nib\n",
        "import os \n",
        "import torch\n",
        "import torch.nn as nn\n",
        "import matplotlib.pyplot as plt\n"
      ],
      "execution_count": 1,
      "outputs": []
    },
    {
      "cell_type": "code",
      "metadata": {
        "id": "wrCxsKNFlhqX",
        "colab": {
          "base_uri": "https://localhost:8080/"
        },
        "outputId": "ed1b5417-57d3-4f15-a36a-55b44a0d2db5"
      },
      "source": [
        "from google.colab import drive\n",
        "drive.mount('/content/drive')"
      ],
      "execution_count": 2,
      "outputs": [
        {
          "output_type": "stream",
          "text": [
            "Mounted at /content/drive\n"
          ],
          "name": "stdout"
        }
      ]
    },
    {
      "cell_type": "code",
      "metadata": {
        "id": "Z-zMk0jg6Dla"
      },
      "source": [
        "samples = '/content/drive/MyDrive/samples/'\n",
        "labels = '/content/drive/MyDrive/segmentation/'\n",
        "#patients = next(os.walk(samples))[2]\n",
        "\n",
        "#segmentations =next(os.walk(labels))[2]\n"
      ],
      "execution_count": 3,
      "outputs": []
    },
    {
      "cell_type": "code",
      "metadata": {
        "id": "un4n53f0NGXh"
      },
      "source": [
        "patients_object = os.scandir(samples)\n",
        "patients_list = [i.path for i in patients_object]\n",
        "patients_list.sort()\n",
        "\n",
        "segment_object = os.scandir(labels)\n",
        "segment_list = [i.path for i in segment_object]\n",
        "segment_list.sort()\n",
        "\n",
        "\n",
        "\n",
        "\n",
        "\n",
        "\n",
        "\n",
        "\n"
      ],
      "execution_count": 21,
      "outputs": []
    },
    {
      "cell_type": "code",
      "metadata": {
        "id": "LDl9zmEWWZMT"
      },
      "source": [
        "def description(samples):\n",
        "  unique_spational = set()\n",
        "  all_spational_slice = []\n",
        "  patients = os.listdir(samples)\n",
        "  patients.sort()\n",
        "  for number_file, image_id  in enumerate(patients):\n",
        "    im = nib.load(os.path.join(samples, image_id))    \n",
        "    im = np.array(im.dataobj)\n",
        "    unique_spational.add(im.shape[:2])\n",
        "    for slices in range(im.shape[2]):\n",
        "\n",
        "      all_spational_slice.append(im.shape[:2])\n",
        "  print(f\"there are {len(unique_spational)} unique spational dimension\")\n",
        "  print(f\"there are {number_file} patient image\")\n",
        "  for i in unique_spational:\n",
        "   print(f'there are {all_spational_slice.count(i)} slice with shape {i}')\n"
      ],
      "execution_count": null,
      "outputs": []
    },
    {
      "cell_type": "code",
      "metadata": {
        "id": "58UGaI2hlxpL"
      },
      "source": [
        "description(samples)"
      ],
      "execution_count": null,
      "outputs": []
    },
    {
      "cell_type": "code",
      "metadata": {
        "id": "8wnwEJNNWZMU"
      },
      "source": [
        "def description_mask(labels):\n",
        "  segmentations = os.listdir(labels)\n",
        "  segmentations.sort()\n",
        "\n",
        "  k = set()\n",
        "  num = []\n",
        "  for i1 in segmentations:\n",
        "    \n",
        "    Masks = nib.load(os.path.join(labels, i1))    \n",
        "    Masks = np.array(Masks.dataobj)\n",
        "    for  j in range(Masks.shape[2]):\n",
        "      u = np.unique(Masks[:,:,j])\n",
        "      u = tuple(u.astype(np.int))\n",
        "      k.add(u)\n",
        "      num.append(u)\n",
        "  for i in k :\n",
        "    print(f'there are {num.count(i)} slice with label {i}')\n",
        "\n"
      ],
      "execution_count": null,
      "outputs": []
    },
    {
      "cell_type": "code",
      "metadata": {
        "id": "4Vpm8PzMl5b7"
      },
      "source": [
        "description_mask(labels)"
      ],
      "execution_count": null,
      "outputs": []
    },
    {
      "cell_type": "code",
      "metadata": {
        "id": "4_747rKG6Dlb"
      },
      "source": [
        "def make_box(mask):\n",
        "    box = []\n",
        "    box_bool=[]\n",
        "    obj_ids = np.unique(mask)\n",
        "    if mask.dtype == bool:\n",
        "        if len(np.unique(mask))==2:\n",
        "            \n",
        "            y_min = np.nonzero(mask)[0].min()\n",
        "            y_max = np.nonzero(mask)[0].max()\n",
        "            x_min = np.nonzero(mask)[1].min()\n",
        "            x_max = np.nonzero(mask)[1].max()\n",
        "            box=[x_min, y_min, x_max, y_max]\n",
        "    else :\n",
        "        mask_bool = mask.astype(np.bool)\n",
        "        if len(np.unique(mask_bool))==2:\n",
        "            \n",
        "            y_min = np.nonzero(mask_bool)[0].min()\n",
        "            y_max = np.nonzero(mask_bool)[0].max()\n",
        "            x_min = np.nonzero(mask_bool)[1].min()\n",
        "            x_max = np.nonzero(mask_bool)[1].max()\n",
        "            box_bool=[x_min, y_min, x_max, y_max]\n",
        "        \n",
        "        for i in  obj_ids[1:]:\n",
        "            y_min = np.nonzero(mask==i)[0].min()\n",
        "            y_max = np.nonzero(mask==i)[0].max()\n",
        "            x_min = np.nonzero(mask==i)[1].min()\n",
        "            x_max = np.nonzero(mask==i)[1].max()\n",
        "            box.append([x_min, y_min, x_max, y_max])\n",
        "    return_object = box if mask.dtype ==bool else (dict(zip([f\"label{int(i)}\" for i in obj_ids[1:]],box)), box_bool)\n",
        "    return return_object"
      ],
      "execution_count": 22,
      "outputs": []
    },
    {
      "cell_type": "code",
      "metadata": {
        "id": "A2SuytaH6Uzg"
      },
      "source": [
        "Masks = nib.load((labels + segmentations[0]))    \n",
        "Masks = np.array(Masks.dataobj)\n",
        "print('shape', Masks.shape)\n",
        "slices =7\n",
        "Masks_2d = Masks[:,:,slices]\n",
        "print(f'labels_slice_{slices}', np.unique(Masks_2d))\n",
        "print('bounding_box', make_box(Masks_2d.astype(bool)))\n",
        "plt.imshow(Masks_2d)"
      ],
      "execution_count": null,
      "outputs": []
    },
    {
      "cell_type": "code",
      "metadata": {
        "id": "CBWaB5JgqHOh"
      },
      "source": [
        "Masks = nib.load((labels + segmentations[0]))    \n",
        "Masks = np.array(Masks.dataobj)\n",
        "print('shape', Masks.shape)\n",
        "slices =1\n",
        "Masks_2d = Masks[:,:,slices]\n",
        "print(f'labels_slice_{slices}', np.unique(Masks_2d))\n",
        "print('bounding_box', make_box(Masks_2d))\n",
        "plt.imshow(Masks_2d)"
      ],
      "execution_count": null,
      "outputs": []
    },
    {
      "cell_type": "code",
      "metadata": {
        "id": "a1TUX6dj6U4z"
      },
      "source": [
        "def crop_specific(im, mask, crop_size):\n",
        "        \n",
        "        k=make_box(mask.astype(np.bool))\n",
        "        if len(k)!=0:\n",
        "            b_list = k\n",
        "            x_min, y_min, x_max, y_max = b_list\n",
        "            \n",
        "            length_x = x_max -x_min + 1\n",
        "            length_y = y_max - y_min + 1\n",
        "            del_x = crop_size - length_x \n",
        "            del_y = crop_size - length_y \n",
        "\n",
        "            if del_x%2==0:\n",
        "                kx = del_x//2\n",
        "                sx=0\n",
        "            else:\n",
        "                kx = del_x//2\n",
        "\n",
        "                sx = 1\n",
        "            if del_y%2==0:\n",
        "                ky = del_y//2\n",
        "                sy=0\n",
        "            else:\n",
        "                ky = del_y//2\n",
        "                sy = 1\n",
        "            \n",
        "            crop = mask[ y_min - ky - sy : y_max + ky + 1, x_min - kx - sx : x_max + kx  + 1]\n",
        "            crop_im = im[ y_min - ky - sy : y_max + ky + 1, x_min - kx - sx : x_max + kx  + 1]\n",
        "            return crop_im, crop, \n"
      ],
      "execution_count": 23,
      "outputs": []
    },
    {
      "cell_type": "code",
      "metadata": {
        "id": "gOura7TvYgUw",
        "colab": {
          "base_uri": "https://localhost:8080/"
        },
        "outputId": "c39be22d-ec5c-4554-e617-a3f018d90f9b"
      },
      "source": [
        "len(segment_list)"
      ],
      "execution_count": 24,
      "outputs": [
        {
          "output_type": "execute_result",
          "data": {
            "text/plain": [
              "53"
            ]
          },
          "metadata": {
            "tags": []
          },
          "execution_count": 24
        }
      ]
    },
    {
      "cell_type": "code",
      "metadata": {
        "id": "N3h1lZMG6U7r"
      },
      "source": [
        "crop_size = 192\n",
        "p_seg = []\n",
        "p_im = []\n",
        "for patient_file, segment_file in zip( patients_list[:40], segment_list[:40]):\n",
        "    im = nib.load(patient_file)    \n",
        "    im = np.array(im.dataobj)\n",
        "\n",
        "    Masks = nib.load(segment_file)    \n",
        "    Masks = np.array(Masks.dataobj)\n",
        "    Masks.shape\n",
        "    for  j in range(Masks.shape[2]):\n",
        "      k=make_box(Masks[:,:,j].astype(np.bool))\n",
        "      if len(k)!=0:\n",
        "        crop_im , crop = crop_specific(im[:,:,j], Masks[:,:,j], crop_size= crop_size)\n",
        "        p_seg.append(crop)\n",
        "        p_im.append(crop_im)\n",
        "\n",
        "\n",
        "    \n",
        "   "
      ],
      "execution_count": 25,
      "outputs": []
    },
    {
      "cell_type": "code",
      "metadata": {
        "id": "SQrg3Z4cad1j"
      },
      "source": [
        "crop_size = 192\n",
        "p_seg_t = []\n",
        "p_im_t = []\n",
        "for patient_file, segment_file in zip( patients_list[40:], segment_list[40:]):\n",
        "    im = nib.load(patient_file)    \n",
        "    im = np.array(im.dataobj)\n",
        "\n",
        "    Masks = nib.load(segment_file)    \n",
        "    Masks = np.array(Masks.dataobj)\n",
        "    Masks.shape\n",
        "    for  j in range(Masks.shape[2]):\n",
        "      k=make_box(Masks[:,:,j].astype(np.bool))\n",
        "      if len(k)!=0:\n",
        "        crop_im , crop = crop_specific(im[:,:,j], Masks[:,:,j], crop_size= crop_size)\n",
        "        p_seg_t.append(crop)\n",
        "        p_im_t.append(crop_im)\n",
        "\n"
      ],
      "execution_count": 26,
      "outputs": []
    },
    {
      "cell_type": "code",
      "metadata": {
        "id": "IDUY2DLw6Dld"
      },
      "source": [
        "segment_numpy = np.stack(p_seg,2)\n",
        "image_numpy = np.stack(p_im, 2)\n",
        "\n",
        "segment_numpy_t = np.stack(p_seg_t,2)\n",
        "image_numpy_t = np.stack(p_im_t, 2)"
      ],
      "execution_count": 27,
      "outputs": []
    },
    {
      "cell_type": "code",
      "metadata": {
        "id": "S_mcwDyL6Dld"
      },
      "source": [
        "train = image_numpy/image_numpy.max()\n",
        "test = image_numpy_t/image_numpy.max()"
      ],
      "execution_count": 28,
      "outputs": []
    },
    {
      "cell_type": "code",
      "metadata": {
        "id": "oLji_MDe6Dle"
      },
      "source": [
        "train_image  = np.transpose(train,(2,0,1))\n",
        "test_image  = np.transpose(test,(2,0,1))"
      ],
      "execution_count": 29,
      "outputs": []
    },
    {
      "cell_type": "code",
      "metadata": {
        "id": "77vNW0js6Dle"
      },
      "source": [
        "train_seg = np.transpose(segment_numpy,(2,0,1))\n",
        "test_seg = np.transpose(segment_numpy_t,(2,0,1))"
      ],
      "execution_count": 30,
      "outputs": []
    },
    {
      "cell_type": "code",
      "metadata": {
        "id": "PftZTqrl6Dle"
      },
      "source": [
        "train_seg_bolean = train_seg.astype(bool)\n",
        "test_seg_bolean = test_seg.astype(bool)"
      ],
      "execution_count": 31,
      "outputs": []
    },
    {
      "cell_type": "code",
      "metadata": {
        "id": "2b6dg-dLTbYU"
      },
      "source": [
        "train_seg_f = train_seg_bolean.astype(np.dtype('float32'))\n",
        "test_seg_f = test_seg_bolean.astype(float)"
      ],
      "execution_count": 65,
      "outputs": []
    },
    {
      "cell_type": "code",
      "metadata": {
        "id": "9fiHgm90TbbG"
      },
      "source": [
        "test_seg_f = np.float32(train_seg_f)\n",
        "train_image = np.float32(train_image)"
      ],
      "execution_count": 69,
      "outputs": []
    },
    {
      "cell_type": "code",
      "metadata": {
        "id": "1qfNgbO9TbjF",
        "outputId": "a0c2ad78-c0b5-4184-a120-83624e27c70b",
        "colab": {
          "base_uri": "https://localhost:8080/"
        }
      },
      "source": [
        "test_seg_f.dtype"
      ],
      "execution_count": 68,
      "outputs": [
        {
          "output_type": "execute_result",
          "data": {
            "text/plain": [
              "dtype('float32')"
            ]
          },
          "metadata": {
            "tags": []
          },
          "execution_count": 68
        }
      ]
    },
    {
      "cell_type": "markdown",
      "metadata": {
        "id": "ejmgY4FAojSc"
      },
      "source": [
        "# Pytorch"
      ]
    },
    {
      "cell_type": "code",
      "metadata": {
        "id": "1rxoyUEtpmKL"
      },
      "source": [
        "train_image_torch = np.expand_dims(train_image,1)\n",
        "train_seg_torch  = np.expand_dims(train_seg_f,1)"
      ],
      "execution_count": 70,
      "outputs": []
    },
    {
      "cell_type": "code",
      "metadata": {
        "id": "I9NJ_iPypm0Q",
        "colab": {
          "base_uri": "https://localhost:8080/"
        },
        "outputId": "643807a6-5ce4-4424-db95-2915fb35a8b9"
      },
      "source": [
        "train_image_torch.shape"
      ],
      "execution_count": 34,
      "outputs": [
        {
          "output_type": "execute_result",
          "data": {
            "text/plain": [
              "(556, 1, 192, 192)"
            ]
          },
          "metadata": {
            "tags": []
          },
          "execution_count": 34
        }
      ]
    },
    {
      "cell_type": "code",
      "metadata": {
        "id": "vQOqF9i5omM8"
      },
      "source": [
        "def conv1x1_bn_relu(inp_activation, output_activation, BN=True, activation = True):\n",
        "    \"con 1x1 + Batchnormalization + relu\"\n",
        "    layer = [nn.Conv2d(inp_activation, output_activation, 1)]\n",
        "    for i, j in zip([nn.BatchNorm2d(output_activation), nn.ReLU(inplace=True)],[BN, activation]):\n",
        "        if j==True:\n",
        "            layer.append(i)\n",
        "    return nn.Sequential(*layer)"
      ],
      "execution_count": 35,
      "outputs": []
    },
    {
      "cell_type": "code",
      "metadata": {
        "id": "lVM7soCsomPv"
      },
      "source": [
        "def conv3x3_bn_relu(inp_activation, output_activation, BN=True, activation = True):\n",
        "    \"con 3x3 + Batchnormalization + relu\"\n",
        "    layer = [nn.Conv2d(inp_activation, output_activation, 3, padding = 1)]\n",
        "    for i, j in zip([nn.BatchNorm2d(output_activation), nn.ReLU(inplace=True)],[BN, activation]):\n",
        "        if j==True:\n",
        "            layer.append(i)\n",
        "    return nn.Sequential(*layer)"
      ],
      "execution_count": 36,
      "outputs": []
    },
    {
      "cell_type": "code",
      "metadata": {
        "id": "vxQ_uWWDomSO"
      },
      "source": [
        "class bottleneck_block(nn.Module):\n",
        "    \n",
        "    def __init__(self, input_activation, list_filter=[256, 64, 256], down = None):\n",
        "        super().__init__()\n",
        "        self.conv1x1_1 = conv1x1_bn_relu(input_activation, list_filter[0])\n",
        "        self.conv3x3 = conv3x3_bn_relu(list_filter[0], list_filter[1])\n",
        "        self.conv1x1_2 = conv1x1_bn_relu(list_filter[1], list_filter[2])\n",
        "        self.down = down\n",
        "        if down!=None:\n",
        "            self.contract_conv = down\n",
        "    def forward(self , inp):\n",
        "        x = inp\n",
        "        c = self.conv1x1_1(inp)\n",
        "        c = self.conv3x3(c)\n",
        "        result = self.conv1x1_2(c)\n",
        "        if self.down!=None:\n",
        "            x = self.contract_conv(inp)\n",
        "        \n",
        "        out = result + x\n",
        "        \n",
        "        return out\n",
        "            \n"
      ],
      "execution_count": 37,
      "outputs": []
    },
    {
      "cell_type": "code",
      "metadata": {
        "id": "HZ0anol1omUc"
      },
      "source": [
        "class conv_block(nn.Module):\n",
        "    \n",
        "    def __init__(self, inp_activation, list_filter ,resnet_block = False, downsample= None ):\n",
        "        super().__init__()\n",
        "        self.conv3x3_1 = conv3x3_bn_relu(inp_activation, list_filter)\n",
        "        self.conv3x3_2 = conv3x3_bn_relu(list_filter, list_filter)\n",
        "        self.down = downsample\n",
        "    def forward(self , inp):\n",
        "        c = self.conv3x3_1(inp)\n",
        "        c = self.conv3x3_2(c)\n",
        "        return c"
      ],
      "execution_count": 38,
      "outputs": []
    },
    {
      "cell_type": "code",
      "metadata": {
        "id": "ODZSxdP-omWt"
      },
      "source": [
        "class Unet_res_b(nn.Module):\n",
        "    def __init__(self, n_class):\n",
        "        \n",
        "        super().__init__()\n",
        "        self.en_block1 = conv_block(1,32)\n",
        "        self.en_block2 = conv_block(32,64)\n",
        "        self.en_block3 = conv_block(64,128)\n",
        "        self.en_block4 = conv_block(128,256)\n",
        "        self.en_block5 = conv_block(256,512)\n",
        "        self.en_block6 = conv_block(512, 1024)\n",
        "\n",
        "        \n",
        "        self.transpose5 = nn.ConvTranspose2d(1024,512,2,2)\n",
        "        self.transpose4 = nn.ConvTranspose2d(512,256,2,2)\n",
        "\n",
        "        self.transpose3 = nn.ConvTranspose2d(256,128,2,2)\n",
        "        self.transpose2 = nn.ConvTranspose2d(128,64,2,2)\n",
        "        self.transpose1 = nn.ConvTranspose2d(64,32,2,2)\n",
        "        \n",
        "        self.de_block1 = conv_block(64,32)\n",
        "        self.de_block2 = conv_block(128,64)\n",
        "        self.de_block3 = conv_block(256,128)\n",
        "\n",
        "        self.de_block4 = conv_block(512, 256)\n",
        "        self.de_block5 = conv_block(1024, 512)\n",
        "        self.out_conv = nn.Conv2d(32, 1, 1)\n",
        "\n",
        "        \n",
        "    \n",
        "\n",
        "    def forward(self, inp):\n",
        "        el1 = self.en_block1(inp) #  (32,h,w)\n",
        "        max1 = nn.MaxPool2d(2)(el1) # (32,h//2, w//2)\n",
        "\n",
        "        el2 = self.en_block2(max1)    #(64, h//2, w//2)\n",
        "        max2 = nn.MaxPool2d(2)(el2)  #(64, h//4, w//4)\n",
        "\n",
        "        el3 = self.en_block3(max2)    #(128, h//4, w//4)\n",
        "        max3 = nn.MaxPool2d(2)(el3)  #(128, h//8, w//8)\n",
        "\n",
        "        el4 = self.en_block4(max3)    #(256, h//8, w//8)\n",
        "        max4 = nn.MaxPool2d(2)(el4)  #(256, h//16, w//16)\n",
        "        \n",
        "        el5 = self.en_block5(max4)  #(512, h//16, w//16)\n",
        "        max5 = nn.MaxPool2d(2)(el5)  #(512, h//32, w//32)\n",
        "        \n",
        "        el6 = self.en_block6(max5)  #(1024, h//32, w//32)\n",
        "\n",
        "        el5 = self.transpose5(el6)  #(512, h//16, w//16)\n",
        "        cat5 = torch.cat([el5, el5], 1) #(1024, h//16, h//16 )\n",
        "        d5 =  self.de_block5(cat5)      #(512, h//16, w//16)\n",
        "        \n",
        "        tl4 = self.transpose4(d5)       #(256, h//8, w//8)\n",
        "        cat4 = torch.cat([tl4, el4], 1) #(512, h//8, w//8)\n",
        "        d4 =  self.de_block4(cat4)     #(256, h//8, w//8)\n",
        "        \n",
        "        tl3 = self.transpose3(d4)        #(128, h//4, w//4)\n",
        "        cat3 = torch.cat([tl3, el3], 1)  #(256, h//4, w//4)\n",
        "        d3 =  self.de_block3(cat3)        #(128, h//4, w//4)\n",
        "        \n",
        "        \n",
        "        tl2 = self.transpose2(d3)          #(64, h//2, w//2)\n",
        "        cat2 = torch.cat([tl2, el2], 1)   #(128, h//2, w//2)\n",
        "        d2 =  self.de_block2(cat2)         #(64, h//2, w//2)\n",
        "        \n",
        "        tl1 = self.transpose1(d2)          #(32, h, w)\n",
        "        cat1 = torch.cat([tl1, el1], 1) #(64, h, w)\n",
        "        d1 =  self.de_block1(cat1)        #(32, h, w)\n",
        "        output = self.out_conv(d1) \n",
        "\n",
        "        return output\n",
        "\n"
      ],
      "execution_count": 55,
      "outputs": []
    },
    {
      "cell_type": "code",
      "metadata": {
        "id": "RVa5_ABxomZA"
      },
      "source": [
        "m = Unet_res_b(2)"
      ],
      "execution_count": 56,
      "outputs": []
    },
    {
      "cell_type": "code",
      "metadata": {
        "id": "wROsnyqJRERc",
        "outputId": "ab95a3aa-e234-416b-d95e-8ce5cbd95689",
        "colab": {
          "base_uri": "https://localhost:8080/"
        }
      },
      "source": [
        "m.to(torch.device('cuda'))"
      ],
      "execution_count": 57,
      "outputs": [
        {
          "output_type": "execute_result",
          "data": {
            "text/plain": [
              "Unet_res_b(\n",
              "  (en_block1): conv_block(\n",
              "    (conv3x3_1): Sequential(\n",
              "      (0): Conv2d(1, 32, kernel_size=(3, 3), stride=(1, 1), padding=(1, 1))\n",
              "      (1): BatchNorm2d(32, eps=1e-05, momentum=0.1, affine=True, track_running_stats=True)\n",
              "      (2): ReLU(inplace=True)\n",
              "    )\n",
              "    (conv3x3_2): Sequential(\n",
              "      (0): Conv2d(32, 32, kernel_size=(3, 3), stride=(1, 1), padding=(1, 1))\n",
              "      (1): BatchNorm2d(32, eps=1e-05, momentum=0.1, affine=True, track_running_stats=True)\n",
              "      (2): ReLU(inplace=True)\n",
              "    )\n",
              "  )\n",
              "  (en_block2): conv_block(\n",
              "    (conv3x3_1): Sequential(\n",
              "      (0): Conv2d(32, 64, kernel_size=(3, 3), stride=(1, 1), padding=(1, 1))\n",
              "      (1): BatchNorm2d(64, eps=1e-05, momentum=0.1, affine=True, track_running_stats=True)\n",
              "      (2): ReLU(inplace=True)\n",
              "    )\n",
              "    (conv3x3_2): Sequential(\n",
              "      (0): Conv2d(64, 64, kernel_size=(3, 3), stride=(1, 1), padding=(1, 1))\n",
              "      (1): BatchNorm2d(64, eps=1e-05, momentum=0.1, affine=True, track_running_stats=True)\n",
              "      (2): ReLU(inplace=True)\n",
              "    )\n",
              "  )\n",
              "  (en_block3): conv_block(\n",
              "    (conv3x3_1): Sequential(\n",
              "      (0): Conv2d(64, 128, kernel_size=(3, 3), stride=(1, 1), padding=(1, 1))\n",
              "      (1): BatchNorm2d(128, eps=1e-05, momentum=0.1, affine=True, track_running_stats=True)\n",
              "      (2): ReLU(inplace=True)\n",
              "    )\n",
              "    (conv3x3_2): Sequential(\n",
              "      (0): Conv2d(128, 128, kernel_size=(3, 3), stride=(1, 1), padding=(1, 1))\n",
              "      (1): BatchNorm2d(128, eps=1e-05, momentum=0.1, affine=True, track_running_stats=True)\n",
              "      (2): ReLU(inplace=True)\n",
              "    )\n",
              "  )\n",
              "  (en_block4): conv_block(\n",
              "    (conv3x3_1): Sequential(\n",
              "      (0): Conv2d(128, 256, kernel_size=(3, 3), stride=(1, 1), padding=(1, 1))\n",
              "      (1): BatchNorm2d(256, eps=1e-05, momentum=0.1, affine=True, track_running_stats=True)\n",
              "      (2): ReLU(inplace=True)\n",
              "    )\n",
              "    (conv3x3_2): Sequential(\n",
              "      (0): Conv2d(256, 256, kernel_size=(3, 3), stride=(1, 1), padding=(1, 1))\n",
              "      (1): BatchNorm2d(256, eps=1e-05, momentum=0.1, affine=True, track_running_stats=True)\n",
              "      (2): ReLU(inplace=True)\n",
              "    )\n",
              "  )\n",
              "  (en_block5): conv_block(\n",
              "    (conv3x3_1): Sequential(\n",
              "      (0): Conv2d(256, 512, kernel_size=(3, 3), stride=(1, 1), padding=(1, 1))\n",
              "      (1): BatchNorm2d(512, eps=1e-05, momentum=0.1, affine=True, track_running_stats=True)\n",
              "      (2): ReLU(inplace=True)\n",
              "    )\n",
              "    (conv3x3_2): Sequential(\n",
              "      (0): Conv2d(512, 512, kernel_size=(3, 3), stride=(1, 1), padding=(1, 1))\n",
              "      (1): BatchNorm2d(512, eps=1e-05, momentum=0.1, affine=True, track_running_stats=True)\n",
              "      (2): ReLU(inplace=True)\n",
              "    )\n",
              "  )\n",
              "  (en_block6): conv_block(\n",
              "    (conv3x3_1): Sequential(\n",
              "      (0): Conv2d(512, 1024, kernel_size=(3, 3), stride=(1, 1), padding=(1, 1))\n",
              "      (1): BatchNorm2d(1024, eps=1e-05, momentum=0.1, affine=True, track_running_stats=True)\n",
              "      (2): ReLU(inplace=True)\n",
              "    )\n",
              "    (conv3x3_2): Sequential(\n",
              "      (0): Conv2d(1024, 1024, kernel_size=(3, 3), stride=(1, 1), padding=(1, 1))\n",
              "      (1): BatchNorm2d(1024, eps=1e-05, momentum=0.1, affine=True, track_running_stats=True)\n",
              "      (2): ReLU(inplace=True)\n",
              "    )\n",
              "  )\n",
              "  (transpose5): ConvTranspose2d(1024, 512, kernel_size=(2, 2), stride=(2, 2))\n",
              "  (transpose4): ConvTranspose2d(512, 256, kernel_size=(2, 2), stride=(2, 2))\n",
              "  (transpose3): ConvTranspose2d(256, 128, kernel_size=(2, 2), stride=(2, 2))\n",
              "  (transpose2): ConvTranspose2d(128, 64, kernel_size=(2, 2), stride=(2, 2))\n",
              "  (transpose1): ConvTranspose2d(64, 32, kernel_size=(2, 2), stride=(2, 2))\n",
              "  (de_block1): conv_block(\n",
              "    (conv3x3_1): Sequential(\n",
              "      (0): Conv2d(64, 32, kernel_size=(3, 3), stride=(1, 1), padding=(1, 1))\n",
              "      (1): BatchNorm2d(32, eps=1e-05, momentum=0.1, affine=True, track_running_stats=True)\n",
              "      (2): ReLU(inplace=True)\n",
              "    )\n",
              "    (conv3x3_2): Sequential(\n",
              "      (0): Conv2d(32, 32, kernel_size=(3, 3), stride=(1, 1), padding=(1, 1))\n",
              "      (1): BatchNorm2d(32, eps=1e-05, momentum=0.1, affine=True, track_running_stats=True)\n",
              "      (2): ReLU(inplace=True)\n",
              "    )\n",
              "  )\n",
              "  (de_block2): conv_block(\n",
              "    (conv3x3_1): Sequential(\n",
              "      (0): Conv2d(128, 64, kernel_size=(3, 3), stride=(1, 1), padding=(1, 1))\n",
              "      (1): BatchNorm2d(64, eps=1e-05, momentum=0.1, affine=True, track_running_stats=True)\n",
              "      (2): ReLU(inplace=True)\n",
              "    )\n",
              "    (conv3x3_2): Sequential(\n",
              "      (0): Conv2d(64, 64, kernel_size=(3, 3), stride=(1, 1), padding=(1, 1))\n",
              "      (1): BatchNorm2d(64, eps=1e-05, momentum=0.1, affine=True, track_running_stats=True)\n",
              "      (2): ReLU(inplace=True)\n",
              "    )\n",
              "  )\n",
              "  (de_block3): conv_block(\n",
              "    (conv3x3_1): Sequential(\n",
              "      (0): Conv2d(256, 128, kernel_size=(3, 3), stride=(1, 1), padding=(1, 1))\n",
              "      (1): BatchNorm2d(128, eps=1e-05, momentum=0.1, affine=True, track_running_stats=True)\n",
              "      (2): ReLU(inplace=True)\n",
              "    )\n",
              "    (conv3x3_2): Sequential(\n",
              "      (0): Conv2d(128, 128, kernel_size=(3, 3), stride=(1, 1), padding=(1, 1))\n",
              "      (1): BatchNorm2d(128, eps=1e-05, momentum=0.1, affine=True, track_running_stats=True)\n",
              "      (2): ReLU(inplace=True)\n",
              "    )\n",
              "  )\n",
              "  (de_block4): conv_block(\n",
              "    (conv3x3_1): Sequential(\n",
              "      (0): Conv2d(512, 256, kernel_size=(3, 3), stride=(1, 1), padding=(1, 1))\n",
              "      (1): BatchNorm2d(256, eps=1e-05, momentum=0.1, affine=True, track_running_stats=True)\n",
              "      (2): ReLU(inplace=True)\n",
              "    )\n",
              "    (conv3x3_2): Sequential(\n",
              "      (0): Conv2d(256, 256, kernel_size=(3, 3), stride=(1, 1), padding=(1, 1))\n",
              "      (1): BatchNorm2d(256, eps=1e-05, momentum=0.1, affine=True, track_running_stats=True)\n",
              "      (2): ReLU(inplace=True)\n",
              "    )\n",
              "  )\n",
              "  (de_block5): conv_block(\n",
              "    (conv3x3_1): Sequential(\n",
              "      (0): Conv2d(1024, 512, kernel_size=(3, 3), stride=(1, 1), padding=(1, 1))\n",
              "      (1): BatchNorm2d(512, eps=1e-05, momentum=0.1, affine=True, track_running_stats=True)\n",
              "      (2): ReLU(inplace=True)\n",
              "    )\n",
              "    (conv3x3_2): Sequential(\n",
              "      (0): Conv2d(512, 512, kernel_size=(3, 3), stride=(1, 1), padding=(1, 1))\n",
              "      (1): BatchNorm2d(512, eps=1e-05, momentum=0.1, affine=True, track_running_stats=True)\n",
              "      (2): ReLU(inplace=True)\n",
              "    )\n",
              "  )\n",
              "  (out_conv): Conv2d(32, 1, kernel_size=(1, 1), stride=(1, 1))\n",
              ")"
            ]
          },
          "metadata": {
            "tags": []
          },
          "execution_count": 57
        }
      ]
    },
    {
      "cell_type": "code",
      "metadata": {
        "id": "UuZaxOiCo4k1",
        "colab": {
          "base_uri": "https://localhost:8080/"
        },
        "outputId": "68c6ef4b-7318-470d-97fc-f64405766fdf"
      },
      "source": [
        "m(torch.tensor(train_image_torch)[:3]).shape"
      ],
      "execution_count": null,
      "outputs": [
        {
          "output_type": "execute_result",
          "data": {
            "text/plain": [
              "torch.Size([3, 2, 192, 192])"
            ]
          },
          "metadata": {
            "tags": []
          },
          "execution_count": 26
        }
      ]
    },
    {
      "cell_type": "code",
      "metadata": {
        "id": "s3uVtkvdo5R3"
      },
      "source": [
        "d_tr = torch.utils.data.DataLoader(train_image_torch,32)\n",
        "d_seg = torch.utils.data.DataLoader(train_seg_torch,32)"
      ],
      "execution_count": 71,
      "outputs": []
    },
    {
      "cell_type": "code",
      "metadata": {
        "id": "CpmNmtNoo5VP"
      },
      "source": [
        "device = torch.device('cuda')"
      ],
      "execution_count": 48,
      "outputs": []
    },
    {
      "cell_type": "code",
      "metadata": {
        "id": "eMHst6GdRwWl"
      },
      "source": [
        "opt = torch.optim.Adam(m.parameters())"
      ],
      "execution_count": 49,
      "outputs": []
    },
    {
      "cell_type": "code",
      "metadata": {
        "id": "juKjnCuSR_53"
      },
      "source": [
        "loss = torch.nn.BCELoss()"
      ],
      "execution_count": 50,
      "outputs": []
    },
    {
      "cell_type": "code",
      "metadata": {
        "id": "WoebZa4ZWN0m",
        "outputId": "6c6f3fad-e67a-41d2-ddc9-e2f8674a3c64",
        "colab": {
          "base_uri": "https://localhost:8080/",
          "height": 163
        }
      },
      "source": [
        "im = im.to(device=device)\n"
      ],
      "execution_count": 75,
      "outputs": [
        {
          "output_type": "error",
          "ename": "RuntimeError",
          "evalue": "ignored",
          "traceback": [
            "\u001b[0;31m---------------------------------------------------------------------------\u001b[0m",
            "\u001b[0;31mRuntimeError\u001b[0m                              Traceback (most recent call last)",
            "\u001b[0;32m<ipython-input-75-47280e6df346>\u001b[0m in \u001b[0;36m<module>\u001b[0;34m()\u001b[0m\n\u001b[0;32m----> 1\u001b[0;31m \u001b[0mim\u001b[0m \u001b[0;34m=\u001b[0m \u001b[0mim\u001b[0m\u001b[0;34m.\u001b[0m\u001b[0mto\u001b[0m\u001b[0;34m(\u001b[0m\u001b[0mdevice\u001b[0m\u001b[0;34m=\u001b[0m\u001b[0mdevice\u001b[0m\u001b[0;34m)\u001b[0m\u001b[0;34m\u001b[0m\u001b[0;34m\u001b[0m\u001b[0m\n\u001b[0m",
            "\u001b[0;31mRuntimeError\u001b[0m: CUDA error: device-side assert triggered"
          ]
        }
      ]
    },
    {
      "cell_type": "code",
      "metadata": {
        "id": "xtvE06B4o5bg",
        "outputId": "7ac012a8-208b-454f-edb9-282119e5e84f",
        "colab": {
          "base_uri": "https://localhost:8080/",
          "height": 231
        }
      },
      "source": [
        "for im , segi in zip(d_tr, d_seg):\n",
        "  im = im.to(device=device)\n",
        "  segi =segi.to(device)\n",
        "  yh = m(im)\n",
        "  l = loss(yh, segi)\n",
        "  #print(l)\n",
        "  opt.zero_grad()\n",
        "  l.backward()\n",
        "  opt.step\n",
        "  "
      ],
      "execution_count": 74,
      "outputs": [
        {
          "output_type": "error",
          "ename": "RuntimeError",
          "evalue": "ignored",
          "traceback": [
            "\u001b[0;31m---------------------------------------------------------------------------\u001b[0m",
            "\u001b[0;31mRuntimeError\u001b[0m                              Traceback (most recent call last)",
            "\u001b[0;32m<ipython-input-74-251c9ada847b>\u001b[0m in \u001b[0;36m<module>\u001b[0;34m()\u001b[0m\n\u001b[1;32m      1\u001b[0m \u001b[0;32mfor\u001b[0m \u001b[0mim\u001b[0m \u001b[0;34m,\u001b[0m \u001b[0msegi\u001b[0m \u001b[0;32min\u001b[0m \u001b[0mzip\u001b[0m\u001b[0;34m(\u001b[0m\u001b[0md_tr\u001b[0m\u001b[0;34m,\u001b[0m \u001b[0md_seg\u001b[0m\u001b[0;34m)\u001b[0m\u001b[0;34m:\u001b[0m\u001b[0;34m\u001b[0m\u001b[0;34m\u001b[0m\u001b[0m\n\u001b[0;32m----> 2\u001b[0;31m   \u001b[0mim\u001b[0m \u001b[0;34m=\u001b[0m \u001b[0mim\u001b[0m\u001b[0;34m.\u001b[0m\u001b[0mto\u001b[0m\u001b[0;34m(\u001b[0m\u001b[0mdevice\u001b[0m\u001b[0;34m=\u001b[0m\u001b[0mdevice\u001b[0m\u001b[0;34m)\u001b[0m\u001b[0;34m\u001b[0m\u001b[0;34m\u001b[0m\u001b[0m\n\u001b[0m\u001b[1;32m      3\u001b[0m   \u001b[0msegi\u001b[0m \u001b[0;34m=\u001b[0m\u001b[0msegi\u001b[0m\u001b[0;34m.\u001b[0m\u001b[0mto\u001b[0m\u001b[0;34m(\u001b[0m\u001b[0mdevice\u001b[0m\u001b[0;34m)\u001b[0m\u001b[0;34m\u001b[0m\u001b[0;34m\u001b[0m\u001b[0m\n\u001b[1;32m      4\u001b[0m   \u001b[0myh\u001b[0m \u001b[0;34m=\u001b[0m \u001b[0mm\u001b[0m\u001b[0;34m(\u001b[0m\u001b[0mim\u001b[0m\u001b[0;34m)\u001b[0m\u001b[0;34m\u001b[0m\u001b[0;34m\u001b[0m\u001b[0m\n\u001b[1;32m      5\u001b[0m   \u001b[0ml\u001b[0m \u001b[0;34m=\u001b[0m \u001b[0mloss\u001b[0m\u001b[0;34m(\u001b[0m\u001b[0myh\u001b[0m\u001b[0;34m,\u001b[0m \u001b[0msegi\u001b[0m\u001b[0;34m)\u001b[0m\u001b[0;34m\u001b[0m\u001b[0;34m\u001b[0m\u001b[0m\n",
            "\u001b[0;31mRuntimeError\u001b[0m: CUDA error: device-side assert triggered"
          ]
        }
      ]
    },
    {
      "cell_type": "markdown",
      "metadata": {
        "id": "ANu52n8z6Dlj"
      },
      "source": [
        "# Model"
      ]
    },
    {
      "cell_type": "code",
      "metadata": {
        "id": "H6C8awsS6Dlj"
      },
      "source": [
        "img_size = (crop_size, crop_size)"
      ],
      "execution_count": null,
      "outputs": []
    },
    {
      "cell_type": "code",
      "metadata": {
        "id": "0FgtbWU36Dlj"
      },
      "source": [
        "\n",
        "\n",
        "def get_model(img_size, num_classes):\n",
        "    inputs = keras.Input(shape=img_size + (1,))\n",
        "\n",
        "    ### [First half of the network: downsampling inputs] ###\n",
        "\n",
        "    # Entry block\n",
        "    x = layers.Conv2D(32, 3, strides=2, padding=\"same\")(inputs)\n",
        "    x = layers.BatchNormalization()(x)\n",
        "    x = layers.Activation(\"relu\")(x)\n",
        "\n",
        "    previous_block_activation = x  # Set aside residual\n",
        "\n",
        "    # Blocks 1, 2, 3 are identical apart from the feature depth.\n",
        "    for filters in [64, 128, 256]:\n",
        "        x = layers.Activation(\"relu\")(x)\n",
        "        x = layers.SeparableConv2D(filters, 3, padding=\"same\")(x)\n",
        "        x = layers.BatchNormalization()(x)\n",
        "\n",
        "        x = layers.Activation(\"relu\")(x)\n",
        "        x = layers.SeparableConv2D(filters, 3, padding=\"same\")(x)\n",
        "        x = layers.BatchNormalization()(x)\n",
        "\n",
        "        x = layers.MaxPooling2D(3, strides=2, padding=\"same\")(x)\n",
        "\n",
        "        # Project residual\n",
        "        residual = layers.Conv2D(filters, 1, strides=2, padding=\"same\")(\n",
        "            previous_block_activation\n",
        "        )\n",
        "        x = layers.add([x, residual])  # Add back residual\n",
        "        previous_block_activation = x  # Set aside next residual\n",
        "\n",
        "    ### [Second half of the network: upsampling inputs] ###\n",
        "\n",
        "    for filters in [256, 128, 64, 32]:\n",
        "        x = layers.Activation(\"relu\")(x)\n",
        "        x = layers.Conv2DTranspose(filters, 3, padding=\"same\")(x)\n",
        "        x = layers.BatchNormalization()(x)\n",
        "\n",
        "        x = layers.Activation(\"relu\")(x)\n",
        "        x = layers.Conv2DTranspose(filters, 3, padding=\"same\")(x)\n",
        "        x = layers.BatchNormalization()(x)\n",
        "\n",
        "        x = layers.UpSampling2D(2)(x)\n",
        "\n",
        "        # Project residual\n",
        "        residual = layers.UpSampling2D(2)(previous_block_activation)\n",
        "        residual = layers.Conv2D(filters, 1, padding=\"same\")(residual)\n",
        "        x = layers.add([x, residual])  # Add back residual\n",
        "        previous_block_activation = x  # Set aside next residual\n",
        "\n",
        "    # Add a per-pixel classification layer\n",
        "    outputs = layers.Conv2D(num_classes, 3, activation=\"softmax\", padding=\"same\")(x)\n",
        "\n",
        "    # Define the model\n",
        "    model = keras.Model(inputs, outputs)\n",
        "    return model\n",
        "\n",
        "\n",
        "# Free up RAM in case the model definition cells were run multiple times\n",
        "keras.backend.clear_session()\n",
        "\n",
        "# Build model\n",
        "model = get_model(img_size, 3)\n",
        "model.summary()"
      ],
      "execution_count": null,
      "outputs": []
    },
    {
      "cell_type": "code",
      "metadata": {
        "id": "Z-iGbhyz6Dll"
      },
      "source": [
        ""
      ],
      "execution_count": null,
      "outputs": []
    },
    {
      "cell_type": "markdown",
      "metadata": {
        "id": "LxhAdMrk6Dlm"
      },
      "source": [
        "# train"
      ]
    },
    {
      "cell_type": "code",
      "metadata": {
        "id": "GndrAX_b6Dln"
      },
      "source": [
        "optimizer = tf.keras.optimizers.Adam()\n",
        "model.compile(optimizer=optimizer, loss=\"sparse_categorical_crossentropy\")\n",
        "\n",
        "callbacks = [\n",
        "    keras.callbacks.ModelCheckpoint(\"unet_seg.h5\", save_best_only=True)\n",
        "]\n",
        "\n",
        "epochs = 50\n",
        "model.fit(tra, seg, epochs=epochs, batch_size=32)"
      ],
      "execution_count": null,
      "outputs": []
    },
    {
      "cell_type": "code",
      "metadata": {
        "id": "dvgCH9Qg6Dlp"
      },
      "source": [
        "\n",
        "def display_mask(i):\n",
        "    \"\"\"Quick utility to display a model's prediction.\"\"\"\n",
        "    mask = np.argmax(val_preds[i], axis=-1)\n",
        "    mask = np.expand_dims(mask, axis=-1)\n",
        "    img = PIL.ImageOps.autocontrast(keras.preprocessing.image.array_to_img(mask))\n",
        "    display(img)\n"
      ],
      "execution_count": null,
      "outputs": []
    },
    {
      "cell_type": "code",
      "metadata": {
        "id": "QG7thh5H6Dlp"
      },
      "source": [
        "\n",
        "def display_mask(i):\n",
        "    \"\"\"Quick utility to display a model's prediction.\"\"\"\n",
        "    mask = np.argmax(val_preds[i], axis=-1)\n",
        "    mask = np.expand_dims(mask, axis=-1)\n",
        "    img = PIL.ImageOps.autocontrast(keras.preprocessing.image.array_to_img(mask))\n",
        "    display(img)\n",
        "\n",
        "pr = model.predict(tra[:670])"
      ],
      "execution_count": null,
      "outputs": []
    },
    {
      "cell_type": "code",
      "metadata": {
        "id": "xFb6X-2bwfDC"
      },
      "source": [
        "pr.shape"
      ],
      "execution_count": null,
      "outputs": []
    },
    {
      "cell_type": "code",
      "metadata": {
        "id": "UwiFzQV-6Dlq"
      },
      "source": [
        "mask1 = np.argmax(pr[46], axis=-1)\n",
        "plt.imshow(mask1)\n"
      ],
      "execution_count": null,
      "outputs": []
    },
    {
      "cell_type": "code",
      "metadata": {
        "id": "tNbQGR5J6Dlq"
      },
      "source": [
        ""
      ],
      "execution_count": null,
      "outputs": []
    },
    {
      "cell_type": "code",
      "metadata": {
        "id": "mnYE30-RwviK"
      },
      "source": [
        "plt.imshow(seg_f[46])"
      ],
      "execution_count": null,
      "outputs": []
    },
    {
      "cell_type": "code",
      "metadata": {
        "id": "QVJ3hnwLUCXF"
      },
      "source": [
        "np.unique(seg_f[46])"
      ],
      "execution_count": null,
      "outputs": []
    },
    {
      "cell_type": "code",
      "metadata": {
        "id": "9RpQubgdT-Hv"
      },
      "source": [
        "plt.imshow(seg[46])"
      ],
      "execution_count": null,
      "outputs": []
    },
    {
      "cell_type": "code",
      "metadata": {
        "id": "Gk433_XH6Dlq"
      },
      "source": [
        "pr[2]"
      ],
      "execution_count": null,
      "outputs": []
    },
    {
      "cell_type": "markdown",
      "metadata": {
        "id": "nC9cYCC7WZMd"
      },
      "source": [
        "# Traditional Unet"
      ]
    },
    {
      "cell_type": "code",
      "metadata": {
        "id": "Blh0OtOiWZMd"
      },
      "source": [
        "IMG_HEIGHT, IMG_WIDTH, IMG_CHANNELS = 192, 192, 1\n"
      ],
      "execution_count": null,
      "outputs": []
    },
    {
      "cell_type": "code",
      "metadata": {
        "id": "rtDsZLNPtU5z"
      },
      "source": [
        "from tensorflow.keras import layers"
      ],
      "execution_count": null,
      "outputs": []
    },
    {
      "cell_type": "markdown",
      "metadata": {
        "id": "TXx7-kecQufp"
      },
      "source": [
        "# Croos entropy loss"
      ]
    },
    {
      "cell_type": "code",
      "metadata": {
        "id": "ukefGLzYWZMd"
      },
      "source": [
        "def U_Net_Segmentation(input_size=(IMG_HEIGHT, IMG_WIDTH, IMG_CHANNELS)):\n",
        "    \n",
        "    inputs = tf.keras.Input(input_size)\n",
        "    \n",
        "    \n",
        "    c1 = layers.Conv2D(16, (3,3), activation='relu', kernel_initializer='he_normal',\n",
        "                padding='same')(inputs)\n",
        "    c1 = layers.Dropout(0.1)(c1)\n",
        "    c1 = layers.Conv2D(16, (3,3), activation='relu', kernel_initializer='he_normal',\n",
        "                padding='same')(c1)\n",
        "    p1 = layers.MaxPooling2D((2,2))(c1)\n",
        "\n",
        "\n",
        "    c2 = layers.Conv2D(32, (3,3), activation='relu', kernel_initializer='he_normal',\n",
        "                padding='same')(p1)\n",
        "    c2 = layers.Dropout(0.1)(c2)\n",
        "    c2 = layers.Conv2D(32, (3,3), activation='relu', kernel_initializer='he_normal',\n",
        "                padding='same')(c2)\n",
        "    p2 = layers.MaxPooling2D((2,2))(c2)\n",
        "\n",
        "\n",
        "    c3 = layers.Conv2D(64, (3,3), activation='relu', kernel_initializer='he_normal',\n",
        "                padding='same')(p2)\n",
        "    c3 = layers.Dropout(0.2)(c3)\n",
        "    c3 = layers.Conv2D(64, (3,3), activation='relu', kernel_initializer='he_normal',\n",
        "                padding='same')(c3)\n",
        "    p3 = layers.MaxPooling2D((2,2))(c3)\n",
        "\n",
        "\n",
        "    c4 = layers.Conv2D(128, (3,3), activation='relu', kernel_initializer='he_normal',\n",
        "                padding='same')(p3)\n",
        "    c4 = layers.Dropout(0.2)(c4)\n",
        "    c4 = layers.Conv2D(128, (3,3), activation='relu', kernel_initializer='he_normal',\n",
        "                padding='same')(c4)\n",
        "    p4 = layers.MaxPooling2D((2,2))(c4)\n",
        "\n",
        "\n",
        "    c5 = layers.Conv2D(256, (3,3), activation='relu', kernel_initializer='he_normal',\n",
        "                padding='same')(p4)\n",
        "    c5 = layers.Dropout(0.3)(c5)\n",
        "    c5 = layers.Conv2D(256, (3,3), activation='relu', kernel_initializer='he_normal',\n",
        "                padding='same')(c5)\n",
        "\n",
        "\n",
        "\n",
        "    u6 = layers.Conv2DTranspose(128, (2,2), strides=(2,2), padding='same')(c5)\n",
        "    u6 = layers.concatenate([u6, c4])\n",
        "    c6 = layers.Conv2D(128, (3,3), activation='relu', kernel_initializer='he_normal',\n",
        "                padding='same')(u6)\n",
        "    c6 = layers.Dropout(0.2)(c6)\n",
        "    c6 = layers.Conv2D(128, (3,3), activation='relu', kernel_initializer='he_normal',\n",
        "                padding='same')(c6)   \n",
        "\n",
        "\n",
        "    u7 = layers.Conv2DTranspose(64, (2,2), strides=(2,2), padding='same')(c6)\n",
        "    u7 = layers.concatenate([u7, c3])\n",
        "    c7 = layers.Conv2D(64, (3,3), activation='relu', kernel_initializer='he_normal',\n",
        "                padding='same')(u7)\n",
        "    c7 = layers.Dropout(0.2)(c7)\n",
        "    c7 = layers.Conv2D(64, (3,3), activation='relu', kernel_initializer='he_normal',\n",
        "                padding='same')(c7) \n",
        "\n",
        "    u8 = layers.Conv2DTranspose(32, (2,2), strides=(2,2), padding='same')(c7)\n",
        "    u8 = layers.concatenate([u8, c2])\n",
        "    c8 = layers.Conv2D(32, (3,3), activation='relu', kernel_initializer='he_normal',\n",
        "                padding='same')(u8)\n",
        "    c8 = layers.Dropout(0.1)(c8)\n",
        "    c8 = layers.Conv2D(32, (3,3), activation='relu', kernel_initializer='he_normal',\n",
        "                padding='same')(c8) \n",
        "    \n",
        "    \n",
        "    u9 = layers.Conv2DTranspose(16, (2,2), strides=(2,2), padding='same')(c8)\n",
        "    u9 = layers.concatenate([u9, c1], axis = 3)\n",
        "    c9 = layers.Conv2D(16, (3,3), activation='relu', kernel_initializer='he_normal',\n",
        "                padding='same')(u9)\n",
        "    c9 = layers.Dropout(0.1)(c9)\n",
        "    c9 = layers.Conv2D(16, (3,3), activation='relu', kernel_initializer='he_normal',\n",
        "                padding='same')(c9) \n",
        "    \n",
        "    outputs = layers.Conv2D(2,(1,1), activation=\"softmax\",)(c9)\n",
        "    \n",
        "    model = tf.keras.Model(inputs=[inputs], outputs=[outputs])\n",
        "    \n",
        "    model.summary()\n",
        "    return model"
      ],
      "execution_count": null,
      "outputs": []
    },
    {
      "cell_type": "code",
      "metadata": {
        "id": "CjIL8qN3UTzC",
        "colab": {
          "base_uri": "https://localhost:8080/"
        },
        "outputId": "e573ea23-bbe1-4b26-d713-fe62e7db9619"
      },
      "source": [
        "def Dice(y_true, y_pred):\n",
        "\n",
        "    \n",
        "    \n",
        "  mask1 = tf.math.argmax(y_pred, axis=-1)\n",
        "\n",
        "  y_pred= tf.cast(mask1, tf.float32)\n",
        "  inter = tf.reduce_sum(y_pred * y_true, [1,2])\n",
        "  uni = tf.reduce_sum(y_pred , [1,2])+ tf.reduce_sum( y_true, [1,2])\n",
        "\n",
        "  des = tf.reduce_mean(2*inter/uni)\n",
        "       \n",
        "  return des\n",
        "\n",
        "model = U_Net_Segmentation()"
      ],
      "execution_count": null,
      "outputs": [
        {
          "output_type": "stream",
          "text": [
            "Model: \"model_4\"\n",
            "__________________________________________________________________________________________________\n",
            "Layer (type)                    Output Shape         Param #     Connected to                     \n",
            "==================================================================================================\n",
            "input_5 (InputLayer)            [(None, 192, 192, 1) 0                                            \n",
            "__________________________________________________________________________________________________\n",
            "conv2d_76 (Conv2D)              (None, 192, 192, 16) 160         input_5[0][0]                    \n",
            "__________________________________________________________________________________________________\n",
            "dropout_36 (Dropout)            (None, 192, 192, 16) 0           conv2d_76[0][0]                  \n",
            "__________________________________________________________________________________________________\n",
            "conv2d_77 (Conv2D)              (None, 192, 192, 16) 2320        dropout_36[0][0]                 \n",
            "__________________________________________________________________________________________________\n",
            "max_pooling2d_16 (MaxPooling2D) (None, 96, 96, 16)   0           conv2d_77[0][0]                  \n",
            "__________________________________________________________________________________________________\n",
            "conv2d_78 (Conv2D)              (None, 96, 96, 32)   4640        max_pooling2d_16[0][0]           \n",
            "__________________________________________________________________________________________________\n",
            "dropout_37 (Dropout)            (None, 96, 96, 32)   0           conv2d_78[0][0]                  \n",
            "__________________________________________________________________________________________________\n",
            "conv2d_79 (Conv2D)              (None, 96, 96, 32)   9248        dropout_37[0][0]                 \n",
            "__________________________________________________________________________________________________\n",
            "max_pooling2d_17 (MaxPooling2D) (None, 48, 48, 32)   0           conv2d_79[0][0]                  \n",
            "__________________________________________________________________________________________________\n",
            "conv2d_80 (Conv2D)              (None, 48, 48, 64)   18496       max_pooling2d_17[0][0]           \n",
            "__________________________________________________________________________________________________\n",
            "dropout_38 (Dropout)            (None, 48, 48, 64)   0           conv2d_80[0][0]                  \n",
            "__________________________________________________________________________________________________\n",
            "conv2d_81 (Conv2D)              (None, 48, 48, 64)   36928       dropout_38[0][0]                 \n",
            "__________________________________________________________________________________________________\n",
            "max_pooling2d_18 (MaxPooling2D) (None, 24, 24, 64)   0           conv2d_81[0][0]                  \n",
            "__________________________________________________________________________________________________\n",
            "conv2d_82 (Conv2D)              (None, 24, 24, 128)  73856       max_pooling2d_18[0][0]           \n",
            "__________________________________________________________________________________________________\n",
            "dropout_39 (Dropout)            (None, 24, 24, 128)  0           conv2d_82[0][0]                  \n",
            "__________________________________________________________________________________________________\n",
            "conv2d_83 (Conv2D)              (None, 24, 24, 128)  147584      dropout_39[0][0]                 \n",
            "__________________________________________________________________________________________________\n",
            "max_pooling2d_19 (MaxPooling2D) (None, 12, 12, 128)  0           conv2d_83[0][0]                  \n",
            "__________________________________________________________________________________________________\n",
            "conv2d_84 (Conv2D)              (None, 12, 12, 256)  295168      max_pooling2d_19[0][0]           \n",
            "__________________________________________________________________________________________________\n",
            "dropout_40 (Dropout)            (None, 12, 12, 256)  0           conv2d_84[0][0]                  \n",
            "__________________________________________________________________________________________________\n",
            "conv2d_85 (Conv2D)              (None, 12, 12, 256)  590080      dropout_40[0][0]                 \n",
            "__________________________________________________________________________________________________\n",
            "conv2d_transpose_16 (Conv2DTran (None, 24, 24, 128)  131200      conv2d_85[0][0]                  \n",
            "__________________________________________________________________________________________________\n",
            "concatenate_16 (Concatenate)    (None, 24, 24, 256)  0           conv2d_transpose_16[0][0]        \n",
            "                                                                 conv2d_83[0][0]                  \n",
            "__________________________________________________________________________________________________\n",
            "conv2d_86 (Conv2D)              (None, 24, 24, 128)  295040      concatenate_16[0][0]             \n",
            "__________________________________________________________________________________________________\n",
            "dropout_41 (Dropout)            (None, 24, 24, 128)  0           conv2d_86[0][0]                  \n",
            "__________________________________________________________________________________________________\n",
            "conv2d_87 (Conv2D)              (None, 24, 24, 128)  147584      dropout_41[0][0]                 \n",
            "__________________________________________________________________________________________________\n",
            "conv2d_transpose_17 (Conv2DTran (None, 48, 48, 64)   32832       conv2d_87[0][0]                  \n",
            "__________________________________________________________________________________________________\n",
            "concatenate_17 (Concatenate)    (None, 48, 48, 128)  0           conv2d_transpose_17[0][0]        \n",
            "                                                                 conv2d_81[0][0]                  \n",
            "__________________________________________________________________________________________________\n",
            "conv2d_88 (Conv2D)              (None, 48, 48, 64)   73792       concatenate_17[0][0]             \n",
            "__________________________________________________________________________________________________\n",
            "dropout_42 (Dropout)            (None, 48, 48, 64)   0           conv2d_88[0][0]                  \n",
            "__________________________________________________________________________________________________\n",
            "conv2d_89 (Conv2D)              (None, 48, 48, 64)   36928       dropout_42[0][0]                 \n",
            "__________________________________________________________________________________________________\n",
            "conv2d_transpose_18 (Conv2DTran (None, 96, 96, 32)   8224        conv2d_89[0][0]                  \n",
            "__________________________________________________________________________________________________\n",
            "concatenate_18 (Concatenate)    (None, 96, 96, 64)   0           conv2d_transpose_18[0][0]        \n",
            "                                                                 conv2d_79[0][0]                  \n",
            "__________________________________________________________________________________________________\n",
            "conv2d_90 (Conv2D)              (None, 96, 96, 32)   18464       concatenate_18[0][0]             \n",
            "__________________________________________________________________________________________________\n",
            "dropout_43 (Dropout)            (None, 96, 96, 32)   0           conv2d_90[0][0]                  \n",
            "__________________________________________________________________________________________________\n",
            "conv2d_91 (Conv2D)              (None, 96, 96, 32)   9248        dropout_43[0][0]                 \n",
            "__________________________________________________________________________________________________\n",
            "conv2d_transpose_19 (Conv2DTran (None, 192, 192, 16) 2064        conv2d_91[0][0]                  \n",
            "__________________________________________________________________________________________________\n",
            "concatenate_19 (Concatenate)    (None, 192, 192, 32) 0           conv2d_transpose_19[0][0]        \n",
            "                                                                 conv2d_77[0][0]                  \n",
            "__________________________________________________________________________________________________\n",
            "conv2d_92 (Conv2D)              (None, 192, 192, 16) 4624        concatenate_19[0][0]             \n",
            "__________________________________________________________________________________________________\n",
            "dropout_44 (Dropout)            (None, 192, 192, 16) 0           conv2d_92[0][0]                  \n",
            "__________________________________________________________________________________________________\n",
            "conv2d_93 (Conv2D)              (None, 192, 192, 16) 2320        dropout_44[0][0]                 \n",
            "__________________________________________________________________________________________________\n",
            "conv2d_94 (Conv2D)              (None, 192, 192, 2)  34          conv2d_93[0][0]                  \n",
            "==================================================================================================\n",
            "Total params: 1,940,834\n",
            "Trainable params: 1,940,834\n",
            "Non-trainable params: 0\n",
            "__________________________________________________________________________________________________\n"
          ],
          "name": "stdout"
        }
      ]
    },
    {
      "cell_type": "code",
      "metadata": {
        "id": "_0n1dij5Xvd0"
      },
      "source": [
        "optimizer = tf.keras.optimizers.Adam()\n"
      ],
      "execution_count": null,
      "outputs": []
    },
    {
      "cell_type": "code",
      "metadata": {
        "id": "v_CY0xwtXvgg"
      },
      "source": [
        "model.compile(optimizer=optimizer, loss=\"sparse_categorical_crossentropy\", metrics=[Dice])\n",
        "                 "
      ],
      "execution_count": null,
      "outputs": []
    },
    {
      "cell_type": "code",
      "metadata": {
        "id": "dS7V2D1KXvin",
        "colab": {
          "base_uri": "https://localhost:8080/"
        },
        "outputId": "7846e738-0ccf-4ab3-bec0-0bf38a2b90ab"
      },
      "source": [
        "results = model.fit(train_image, train_seg_f,\n",
        "                    shuffle = True,\n",
        "              validation_split = 0.1,\n",
        "                    batch_size=32,\n",
        "                    epochs=70)"
      ],
      "execution_count": null,
      "outputs": [
        {
          "output_type": "stream",
          "text": [
            "Epoch 1/70\n",
            "18/18 [==============================] - 8s 354ms/step - loss: 0.5936 - Dice: 0.0686 - val_loss: 0.4378 - val_Dice: 0.0000e+00\n",
            "Epoch 2/70\n",
            "18/18 [==============================] - 6s 328ms/step - loss: 0.3982 - Dice: 0.0000e+00 - val_loss: 0.3868 - val_Dice: 0.0000e+00\n",
            "Epoch 3/70\n",
            "18/18 [==============================] - 6s 327ms/step - loss: 0.2998 - Dice: 5.1573e-07 - val_loss: 0.2416 - val_Dice: 0.0000e+00\n",
            "Epoch 4/70\n",
            "18/18 [==============================] - 6s 329ms/step - loss: 0.2522 - Dice: 9.2927e-06 - val_loss: 0.2739 - val_Dice: 0.0000e+00\n",
            "Epoch 5/70\n",
            "18/18 [==============================] - 6s 327ms/step - loss: 0.2270 - Dice: 1.5107e-04 - val_loss: 0.2952 - val_Dice: 0.0000e+00\n",
            "Epoch 6/70\n",
            "18/18 [==============================] - 6s 327ms/step - loss: 0.2326 - Dice: 0.0042 - val_loss: 0.2438 - val_Dice: 1.6249e-04\n",
            "Epoch 7/70\n",
            "18/18 [==============================] - 6s 327ms/step - loss: 0.2118 - Dice: 0.0592 - val_loss: 0.2006 - val_Dice: 0.6931\n",
            "Epoch 8/70\n",
            "18/18 [==============================] - 6s 327ms/step - loss: 0.1961 - Dice: 0.4749 - val_loss: 0.2398 - val_Dice: 0.7141\n",
            "Epoch 9/70\n",
            "18/18 [==============================] - 6s 327ms/step - loss: 0.1833 - Dice: 0.6384 - val_loss: 0.2098 - val_Dice: 0.7309\n",
            "Epoch 10/70\n",
            "18/18 [==============================] - 6s 327ms/step - loss: 0.1816 - Dice: 0.6606 - val_loss: 0.2144 - val_Dice: 0.7131\n",
            "Epoch 11/70\n",
            "18/18 [==============================] - 6s 326ms/step - loss: 0.1749 - Dice: 0.6854 - val_loss: 0.1975 - val_Dice: 0.7105\n",
            "Epoch 12/70\n",
            "18/18 [==============================] - 6s 328ms/step - loss: 0.1573 - Dice: 0.7175 - val_loss: 0.2430 - val_Dice: 0.6319\n",
            "Epoch 13/70\n",
            "18/18 [==============================] - 6s 327ms/step - loss: 0.1628 - Dice: 0.7265 - val_loss: 0.2310 - val_Dice: 0.6521\n",
            "Epoch 14/70\n",
            "18/18 [==============================] - 6s 326ms/step - loss: 0.1426 - Dice: 0.7279 - val_loss: 0.1235 - val_Dice: 0.7780\n",
            "Epoch 15/70\n",
            "18/18 [==============================] - 6s 328ms/step - loss: 0.1207 - Dice: 0.7609 - val_loss: 0.2478 - val_Dice: 0.6764\n",
            "Epoch 16/70\n",
            "18/18 [==============================] - 6s 327ms/step - loss: 0.1176 - Dice: 0.7777 - val_loss: 0.2215 - val_Dice: 0.6901\n",
            "Epoch 17/70\n",
            "18/18 [==============================] - 6s 327ms/step - loss: 0.1109 - Dice: 0.7675 - val_loss: 0.1128 - val_Dice: 0.8028\n",
            "Epoch 18/70\n",
            "18/18 [==============================] - 6s 327ms/step - loss: 0.1026 - Dice: 0.7681 - val_loss: 0.1019 - val_Dice: 0.8000\n",
            "Epoch 19/70\n",
            "18/18 [==============================] - 6s 327ms/step - loss: 0.0834 - Dice: 0.8190 - val_loss: 0.2371 - val_Dice: 0.7067\n",
            "Epoch 20/70\n",
            "18/18 [==============================] - 6s 327ms/step - loss: 0.0853 - Dice: 0.8143 - val_loss: 0.1111 - val_Dice: 0.8045\n",
            "Epoch 21/70\n",
            "18/18 [==============================] - 6s 325ms/step - loss: 0.0799 - Dice: 0.8141 - val_loss: 0.1004 - val_Dice: 0.8163\n",
            "Epoch 22/70\n",
            "18/18 [==============================] - 6s 327ms/step - loss: 0.0708 - Dice: 0.8398 - val_loss: 0.0947 - val_Dice: 0.8139\n",
            "Epoch 23/70\n",
            "18/18 [==============================] - 6s 327ms/step - loss: 0.0668 - Dice: 0.8349 - val_loss: 0.1100 - val_Dice: 0.8104\n",
            "Epoch 24/70\n",
            "18/18 [==============================] - 6s 327ms/step - loss: 0.0626 - Dice: 0.8585 - val_loss: 0.0923 - val_Dice: 0.8197\n",
            "Epoch 25/70\n",
            "18/18 [==============================] - 6s 326ms/step - loss: 0.0662 - Dice: 0.8501 - val_loss: 0.0881 - val_Dice: 0.8292\n",
            "Epoch 26/70\n",
            "18/18 [==============================] - 6s 326ms/step - loss: 0.0567 - Dice: 0.8535 - val_loss: 0.0639 - val_Dice: 0.8513\n",
            "Epoch 27/70\n",
            "18/18 [==============================] - 6s 326ms/step - loss: 0.0589 - Dice: 0.8522 - val_loss: 0.0685 - val_Dice: 0.8461\n",
            "Epoch 28/70\n",
            "18/18 [==============================] - 6s 326ms/step - loss: 0.0554 - Dice: 0.8609 - val_loss: 0.0781 - val_Dice: 0.8395\n",
            "Epoch 29/70\n",
            "18/18 [==============================] - 6s 327ms/step - loss: 0.0465 - Dice: 0.8767 - val_loss: 0.0814 - val_Dice: 0.8493\n",
            "Epoch 30/70\n",
            "18/18 [==============================] - 6s 326ms/step - loss: 0.0443 - Dice: 0.8908 - val_loss: 0.0888 - val_Dice: 0.8397\n",
            "Epoch 31/70\n",
            "18/18 [==============================] - 6s 327ms/step - loss: 0.0459 - Dice: 0.8896 - val_loss: 0.0716 - val_Dice: 0.8505\n",
            "Epoch 32/70\n",
            "18/18 [==============================] - 6s 326ms/step - loss: 0.0419 - Dice: 0.8980 - val_loss: 0.0836 - val_Dice: 0.8446\n",
            "Epoch 33/70\n",
            "18/18 [==============================] - 6s 327ms/step - loss: 0.0388 - Dice: 0.9070 - val_loss: 0.0728 - val_Dice: 0.8564\n",
            "Epoch 34/70\n",
            "18/18 [==============================] - 6s 326ms/step - loss: 0.0371 - Dice: 0.9051 - val_loss: 0.0788 - val_Dice: 0.8508\n",
            "Epoch 35/70\n",
            "18/18 [==============================] - 6s 326ms/step - loss: 0.0386 - Dice: 0.9147 - val_loss: 0.0741 - val_Dice: 0.8561\n",
            "Epoch 36/70\n",
            "18/18 [==============================] - 6s 326ms/step - loss: 0.0352 - Dice: 0.9206 - val_loss: 0.0685 - val_Dice: 0.8622\n",
            "Epoch 37/70\n",
            "18/18 [==============================] - 6s 326ms/step - loss: 0.0336 - Dice: 0.9238 - val_loss: 0.0784 - val_Dice: 0.8563\n",
            "Epoch 38/70\n",
            "18/18 [==============================] - 6s 326ms/step - loss: 0.0323 - Dice: 0.9236 - val_loss: 0.0715 - val_Dice: 0.8626\n",
            "Epoch 39/70\n",
            "18/18 [==============================] - 6s 324ms/step - loss: 0.0314 - Dice: 0.9255 - val_loss: 0.0813 - val_Dice: 0.8539\n",
            "Epoch 40/70\n",
            "18/18 [==============================] - 6s 326ms/step - loss: 0.0298 - Dice: 0.9292 - val_loss: 0.0800 - val_Dice: 0.8636\n",
            "Epoch 41/70\n",
            "18/18 [==============================] - 6s 325ms/step - loss: 0.0287 - Dice: 0.9348 - val_loss: 0.1119 - val_Dice: 0.8413\n",
            "Epoch 42/70\n",
            "18/18 [==============================] - 6s 334ms/step - loss: 0.0315 - Dice: 0.9304 - val_loss: 0.0782 - val_Dice: 0.8638\n",
            "Epoch 43/70\n",
            "18/18 [==============================] - 6s 326ms/step - loss: 0.0294 - Dice: 0.9348 - val_loss: 0.0777 - val_Dice: 0.8642\n",
            "Epoch 44/70\n",
            "18/18 [==============================] - 6s 327ms/step - loss: 0.0275 - Dice: 0.9344 - val_loss: 0.0628 - val_Dice: 0.8812\n",
            "Epoch 45/70\n",
            "18/18 [==============================] - 6s 326ms/step - loss: 0.0260 - Dice: 0.9376 - val_loss: 0.0695 - val_Dice: 0.8743\n",
            "Epoch 46/70\n",
            "18/18 [==============================] - 6s 326ms/step - loss: 0.0277 - Dice: 0.9361 - val_loss: 0.0650 - val_Dice: 0.8823\n",
            "Epoch 47/70\n",
            "18/18 [==============================] - 6s 327ms/step - loss: 0.0253 - Dice: 0.9362 - val_loss: 0.0579 - val_Dice: 0.8838\n",
            "Epoch 48/70\n",
            "18/18 [==============================] - 6s 326ms/step - loss: 0.0266 - Dice: 0.9398 - val_loss: 0.0742 - val_Dice: 0.8702\n",
            "Epoch 49/70\n",
            "18/18 [==============================] - 6s 326ms/step - loss: 0.0240 - Dice: 0.9420 - val_loss: 0.0761 - val_Dice: 0.8727\n",
            "Epoch 50/70\n",
            "18/18 [==============================] - 6s 327ms/step - loss: 0.0234 - Dice: 0.9437 - val_loss: 0.0737 - val_Dice: 0.8765\n",
            "Epoch 51/70\n",
            "18/18 [==============================] - 6s 327ms/step - loss: 0.0240 - Dice: 0.9471 - val_loss: 0.0809 - val_Dice: 0.8688\n",
            "Epoch 52/70\n",
            "18/18 [==============================] - 6s 326ms/step - loss: 0.0242 - Dice: 0.9456 - val_loss: 0.0761 - val_Dice: 0.8722\n",
            "Epoch 53/70\n",
            "18/18 [==============================] - 6s 326ms/step - loss: 0.0235 - Dice: 0.9444 - val_loss: 0.0763 - val_Dice: 0.8730\n",
            "Epoch 54/70\n",
            "18/18 [==============================] - 6s 328ms/step - loss: 0.0233 - Dice: 0.9476 - val_loss: 0.0804 - val_Dice: 0.8692\n",
            "Epoch 55/70\n",
            "18/18 [==============================] - 6s 326ms/step - loss: 0.0228 - Dice: 0.9481 - val_loss: 0.0640 - val_Dice: 0.8869\n",
            "Epoch 56/70\n",
            "18/18 [==============================] - 6s 328ms/step - loss: 0.0217 - Dice: 0.9507 - val_loss: 0.0684 - val_Dice: 0.8854\n",
            "Epoch 57/70\n",
            "18/18 [==============================] - 6s 324ms/step - loss: 0.0207 - Dice: 0.9536 - val_loss: 0.0811 - val_Dice: 0.8756\n",
            "Epoch 58/70\n",
            "18/18 [==============================] - 6s 325ms/step - loss: 0.0213 - Dice: 0.9538 - val_loss: 0.0744 - val_Dice: 0.8826\n",
            "Epoch 59/70\n",
            "18/18 [==============================] - 6s 326ms/step - loss: 0.0205 - Dice: 0.9551 - val_loss: 0.0795 - val_Dice: 0.8785\n",
            "Epoch 60/70\n",
            "18/18 [==============================] - 6s 326ms/step - loss: 0.0244 - Dice: 0.9463 - val_loss: 0.0774 - val_Dice: 0.8848\n",
            "Epoch 61/70\n",
            "18/18 [==============================] - 6s 327ms/step - loss: 0.0218 - Dice: 0.9505 - val_loss: 0.0621 - val_Dice: 0.8860\n",
            "Epoch 62/70\n",
            "18/18 [==============================] - 6s 327ms/step - loss: 0.0208 - Dice: 0.9545 - val_loss: 0.0661 - val_Dice: 0.8880\n",
            "Epoch 63/70\n",
            "18/18 [==============================] - 6s 326ms/step - loss: 0.0202 - Dice: 0.9532 - val_loss: 0.0624 - val_Dice: 0.8878\n",
            "Epoch 64/70\n",
            "18/18 [==============================] - 6s 324ms/step - loss: 0.0185 - Dice: 0.9520 - val_loss: 0.0654 - val_Dice: 0.8875\n",
            "Epoch 65/70\n",
            "18/18 [==============================] - 6s 327ms/step - loss: 0.0184 - Dice: 0.9579 - val_loss: 0.0760 - val_Dice: 0.8877\n",
            "Epoch 66/70\n",
            "18/18 [==============================] - 6s 325ms/step - loss: 0.0183 - Dice: 0.9601 - val_loss: 0.0717 - val_Dice: 0.8901\n",
            "Epoch 67/70\n",
            "18/18 [==============================] - 6s 326ms/step - loss: 0.0176 - Dice: 0.9599 - val_loss: 0.0813 - val_Dice: 0.8822\n",
            "Epoch 68/70\n",
            "18/18 [==============================] - 6s 325ms/step - loss: 0.0179 - Dice: 0.9605 - val_loss: 0.0953 - val_Dice: 0.8775\n",
            "Epoch 69/70\n",
            "18/18 [==============================] - 6s 325ms/step - loss: 0.0177 - Dice: 0.9612 - val_loss: 0.0706 - val_Dice: 0.8875\n",
            "Epoch 70/70\n",
            "18/18 [==============================] - 6s 326ms/step - loss: 0.0178 - Dice: 0.9611 - val_loss: 0.0742 - val_Dice: 0.8912\n"
          ],
          "name": "stdout"
        }
      ]
    },
    {
      "cell_type": "code",
      "metadata": {
        "id": "77alWyEURNWv",
        "colab": {
          "base_uri": "https://localhost:8080/",
          "height": 295
        },
        "outputId": "e6483e14-1a18-4c37-e6ff-bd5428090467"
      },
      "source": [
        "loss = results.history['loss']\n",
        "val_loss = results.history['val_Dice']\n",
        "\n",
        "epochs = range(70)\n",
        "\n",
        "plt.figure()\n",
        "plt.plot(epochs, loss, 'r', label='Training loss Cross entropy')\n",
        "plt.plot(epochs, val_loss, 'bo', label='Validation Dice Metric')\n",
        "plt.title('Training and Validation Loss')\n",
        "plt.xlabel('Epoch')\n",
        "plt.ylabel('Loss Value')\n",
        "plt.ylim([0, 1])\n",
        "plt.legend()\n",
        "plt.show()"
      ],
      "execution_count": null,
      "outputs": [
        {
          "output_type": "display_data",
          "data": {
            "image/png": "[encoded data removed]",
            "text/plain": [
              "<Figure size 432x288 with 1 Axes>"
            ]
          },
          "metadata": {
            "tags": [],
            "needs_background": "light"
          }
        }
      ]
    },
    {
      "cell_type": "code",
      "metadata": {
        "id": "m759RpTUXvlA"
      },
      "source": [
        "def display_mask(i):\n",
        "    \"\"\"Quick utility to display a model's prediction.\"\"\"\n",
        "    mask = np.argmax(val_preds[i], axis=-1)\n",
        "    mask = np.expand_dims(mask, axis=-1)\n",
        "    img = PIL.ImageOps.autocontrast(keras.preprocessing.image.array_to_img(mask))\n",
        "    display(img)\n",
        "\n",
        "pr = model.predict(test_image[:7])"
      ],
      "execution_count": null,
      "outputs": []
    },
    {
      "cell_type": "code",
      "metadata": {
        "id": "6TEFnQPlXvnp",
        "colab": {
          "base_uri": "https://localhost:8080/",
          "height": 286
        },
        "outputId": "fba98730-6bf4-41b0-fa4c-897a26d51d10"
      },
      "source": [
        "mask1 = np.argmax(pr[2], axis=-1)\n",
        "plt.imshow(mask1)\n"
      ],
      "execution_count": null,
      "outputs": [
        {
          "output_type": "execute_result",
          "data": {
            "text/plain": [
              "<matplotlib.image.AxesImage at 0x7efc448cdb00>"
            ]
          },
          "metadata": {
            "tags": []
          },
          "execution_count": 87
        },
        {
          "output_type": "display_data",
          "data": {
            "image/png": "[encoded data removed]",
            "text/plain": [
              "<Figure size 432x288 with 1 Axes>"
            ]
          },
          "metadata": {
            "tags": [],
            "needs_background": "light"
          }
        }
      ]
    },
    {
      "cell_type": "code",
      "metadata": {
        "id": "NghUE-MYeDwM",
        "colab": {
          "base_uri": "https://localhost:8080/",
          "height": 286
        },
        "outputId": "1ee3605a-6417-46af-b9e9-fff2b6f020a9"
      },
      "source": [
        "plt.imshow(test_seg_f[2])\n"
      ],
      "execution_count": null,
      "outputs": [
        {
          "output_type": "execute_result",
          "data": {
            "text/plain": [
              "<matplotlib.image.AxesImage at 0x7efc448af470>"
            ]
          },
          "metadata": {
            "tags": []
          },
          "execution_count": 88
        },
        {
          "output_type": "display_data",
          "data": {
            "image/png": "[encoded data removed]",
            "text/plain": [
              "<Figure size 432x288 with 1 Axes>"
            ]
          },
          "metadata": {
            "tags": [],
            "needs_background": "light"
          }
        }
      ]
    },
    {
      "cell_type": "markdown",
      "metadata": {
        "id": "3AE4B7s7Qmd0"
      },
      "source": [
        "# Dice loss"
      ]
    },
    {
      "cell_type": "code",
      "metadata": {
        "id": "xlKFqtqvQju5"
      },
      "source": [
        "def U_Net_Segmentation(input_size=(IMG_HEIGHT, IMG_WIDTH, IMG_CHANNELS)):\n",
        "    \n",
        "    inputs = tf.keras.Input(input_size)\n",
        "    \n",
        "    \n",
        "    c1 = layers.Conv2D(16, (3,3), activation='relu', kernel_initializer='he_normal',\n",
        "                padding='same')(inputs)\n",
        "    c1 = layers.Dropout(0.1)(c1)\n",
        "    c1 = layers.Conv2D(16, (3,3), activation='relu', kernel_initializer='he_normal',\n",
        "                padding='same')(c1)\n",
        "    p1 = layers.MaxPooling2D((2,2))(c1)\n",
        "\n",
        "\n",
        "    c2 = layers.Conv2D(32, (3,3), activation='relu', kernel_initializer='he_normal',\n",
        "                padding='same')(p1)\n",
        "    c2 = layers.Dropout(0.1)(c2)\n",
        "    c2 = layers.Conv2D(32, (3,3), activation='relu', kernel_initializer='he_normal',\n",
        "                padding='same')(c2)\n",
        "    p2 = layers.MaxPooling2D((2,2))(c2)\n",
        "\n",
        "\n",
        "    c3 = layers.Conv2D(64, (3,3), activation='relu', kernel_initializer='he_normal',\n",
        "                padding='same')(p2)\n",
        "    c3 = layers.Dropout(0.2)(c3)\n",
        "    c3 = layers.Conv2D(64, (3,3), activation='relu', kernel_initializer='he_normal',\n",
        "                padding='same')(c3)\n",
        "    p3 = layers.MaxPooling2D((2,2))(c3)\n",
        "\n",
        "\n",
        "    c4 = layers.Conv2D(128, (3,3), activation='relu', kernel_initializer='he_normal',\n",
        "                padding='same')(p3)\n",
        "    c4 = layers.Dropout(0.2)(c4)\n",
        "    c4 = layers.Conv2D(128, (3,3), activation='relu', kernel_initializer='he_normal',\n",
        "                padding='same')(c4)\n",
        "    p4 = layers.MaxPooling2D((2,2))(c4)\n",
        "\n",
        "\n",
        "    c5 = layers.Conv2D(256, (3,3), activation='relu', kernel_initializer='he_normal',\n",
        "                padding='same')(p4)\n",
        "    c5 = layers.Dropout(0.3)(c5)\n",
        "    c5 = layers.Conv2D(256, (3,3), activation='relu', kernel_initializer='he_normal',\n",
        "                padding='same')(c5)\n",
        "\n",
        "\n",
        "\n",
        "    u6 = layers.Conv2DTranspose(128, (2,2), strides=(2,2), padding='same')(c5)\n",
        "    u6 = layers.concatenate([u6, c4])\n",
        "    c6 = layers.Conv2D(128, (3,3), activation='relu', kernel_initializer='he_normal',\n",
        "                padding='same')(u6)\n",
        "    c6 = layers.Dropout(0.2)(c6)\n",
        "    c6 = layers.Conv2D(128, (3,3), activation='relu', kernel_initializer='he_normal',\n",
        "                padding='same')(c6)   \n",
        "\n",
        "\n",
        "    u7 = layers.Conv2DTranspose(64, (2,2), strides=(2,2), padding='same')(c6)\n",
        "    u7 = layers.concatenate([u7, c3])\n",
        "    c7 = layers.Conv2D(64, (3,3), activation='relu', kernel_initializer='he_normal',\n",
        "                padding='same')(u7)\n",
        "    c7 = layers.Dropout(0.2)(c7)\n",
        "    c7 = layers.Conv2D(64, (3,3), activation='relu', kernel_initializer='he_normal',\n",
        "                padding='same')(c7) \n",
        "\n",
        "    u8 = layers.Conv2DTranspose(32, (2,2), strides=(2,2), padding='same')(c7)\n",
        "    u8 = layers.concatenate([u8, c2])\n",
        "    c8 = layers.Conv2D(32, (3,3), activation='relu', kernel_initializer='he_normal',\n",
        "                padding='same')(u8)\n",
        "    c8 = layers.Dropout(0.1)(c8)\n",
        "    c8 = layers.Conv2D(32, (3,3), activation='relu', kernel_initializer='he_normal',\n",
        "                padding='same')(c8) \n",
        "    \n",
        "    \n",
        "    u9 = layers.Conv2DTranspose(16, (2,2), strides=(2,2), padding='same')(c8)\n",
        "    u9 = layers.concatenate([u9, c1], axis = 3)\n",
        "    c9 = layers.Conv2D(16, (3,3), activation='relu', kernel_initializer='he_normal',\n",
        "                padding='same')(u9)\n",
        "    c9 = layers.Dropout(0.1)(c9)\n",
        "    c9 = layers.Conv2D(16, (3,3), activation='relu', kernel_initializer='he_normal',\n",
        "                padding='same')(c9) \n",
        "    \n",
        "    outputs = layers.Conv2D(1,(1,1), activation=\"softmax\",)(c9)\n",
        "    \n",
        "    model = tf.keras.Model(inputs=[inputs], outputs=[outputs])\n",
        "    \n",
        "    model.summary()\n",
        "    return model"
      ],
      "execution_count": null,
      "outputs": []
    },
    {
      "cell_type": "code",
      "metadata": {
        "id": "nRryzmcGt_aj"
      },
      "source": [
        "model = U_Net_Segmentation()"
      ],
      "execution_count": null,
      "outputs": []
    },
    {
      "cell_type": "code",
      "metadata": {
        "id": "DBXHJiUsQGas"
      },
      "source": [
        "def dice_loss(y_true, y_pred):\n",
        "  numerator = 2 * tf.reduce_sum(y_true * y_pred)\n",
        "  denominator = tf.reduce_sum(y_true + y_pred)\n",
        "\n",
        "  return 1 - numerator/ denominator"
      ],
      "execution_count": null,
      "outputs": []
    },
    {
      "cell_type": "code",
      "metadata": {
        "id": "iz1Xcb3Wt5fK"
      },
      "source": [
        "optimizer = tf.keras.optimizers.Adam()\n"
      ],
      "execution_count": null,
      "outputs": []
    },
    {
      "cell_type": "code",
      "metadata": {
        "id": "zB0yxEaFt0o5"
      },
      "source": [
        "model.compile(optimizer=optimizer, loss=dice_loss\n",
        "                 )"
      ],
      "execution_count": null,
      "outputs": []
    },
    {
      "cell_type": "code",
      "metadata": {
        "id": "kEz4eMXkWZMg"
      },
      "source": [
        "results = model.fit(tra, seg,\n",
        "                    shuffle = False, \n",
        "                    validation_split=0.1, \n",
        "                    batch_size=32,\n",
        "                    epochs=50)"
      ],
      "execution_count": null,
      "outputs": []
    },
    {
      "cell_type": "code",
      "metadata": {
        "id": "7mI0x21LQ3Cw"
      },
      "source": [
        ""
      ],
      "execution_count": null,
      "outputs": []
    },
    {
      "cell_type": "code",
      "metadata": {
        "id": "X3n0HC5YXsGd"
      },
      "source": [
        ""
      ],
      "execution_count": null,
      "outputs": []
    }
  ]
}