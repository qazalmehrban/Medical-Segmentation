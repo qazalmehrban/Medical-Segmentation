{
  "nbformat": 4,
  "nbformat_minor": 0,
  "metadata": {
    "colab": {
      "name": "Copy of Untitled1.ipynb",
      "provenance": [],
      "include_colab_link": true
    },
    "kernelspec": {
      "display_name": "Python 3",
      "language": "python",
      "name": "python3"
    },
    "language_info": {
      "codemirror_mode": {
        "name": "ipython",
        "version": 3
      },
      "file_extension": ".py",
      "mimetype": "text/x-python",
      "name": "python",
      "nbconvert_exporter": "python",
      "pygments_lexer": "ipython3",
      "version": "3.8.5"
    },
    "accelerator": "GPU"
  },
  "cells": [
    {
      "cell_type": "markdown",
      "metadata": {
        "id": "view-in-github",
        "colab_type": "text"
      },
      "source": [
        "<a href=\"https://colab.research.google.com/github/qazalmehrban/Medical-Segmentation/blob/ghazal/Unet_test.ipynb\" target=\"_parent\"><img src=\"https://colab.research.google.com/assets/colab-badge.svg\" alt=\"Open In Colab\"/></a>"
      ]
    },
    {
      "cell_type": "code",
      "metadata": {
        "id": "SJeS1cyb1W6E"
      },
      "source": [
        "import tensorflow as tf\n",
        "from tensorflow import keras\n",
        "from tensorflow.keras import layers\n",
        "from skimage.transform import resize\n",
        "import numpy as np\n",
        "import nibabel as nib\n",
        "import os \n",
        "import glob\n",
        "\n",
        "import torch\n",
        "import torch.nn as nn\n",
        "import plotly.express as px\n",
        "import plotly.graph_objects as go\n",
        "import matplotlib.pyplot as plt\n"
      ],
      "execution_count": 1,
      "outputs": []
    },
    {
      "cell_type": "code",
      "metadata": {
        "colab": {
          "base_uri": "https://localhost:8080/"
        },
        "id": "rgQPGXrcb7wc",
        "outputId": "6a2a4df6-b399-4746-cac6-a5580171e234"
      },
      "source": [
        ""
      ],
      "execution_count": 45,
      "outputs": [
        {
          "output_type": "execute_result",
          "data": {
            "text/plain": [
              "<module 'tensorflow' from '/usr/local/lib/python3.6/dist-packages/tensorflow/__init__.py'>"
            ]
          },
          "metadata": {
            "tags": []
          },
          "execution_count": 45
        }
      ]
    },
    {
      "cell_type": "code",
      "metadata": {
        "id": "wrCxsKNFlhqX",
        "colab": {
          "base_uri": "https://localhost:8080/"
        },
        "outputId": "0db8b0b0-a0b0-4425-8db4-4b767c11934b"
      },
      "source": [
        "from google.colab import drive\n",
        "drive.mount('/content/drive')"
      ],
      "execution_count": 2,
      "outputs": [
        {
          "output_type": "stream",
          "text": [
            "Mounted at /content/drive\n"
          ],
          "name": "stdout"
        }
      ]
    },
    {
      "cell_type": "code",
      "metadata": {
        "id": "Z-zMk0jg6Dla"
      },
      "source": [
        "samples = '/content/drive/MyDrive/samples/'\n",
        "labels = '/content/drive/MyDrive/segmentation/'\n",
        "mix = '/content/drive/MyDrive/New folder/'\n",
        "#patients = next(os.walk(samples))[2]\n",
        "\n",
        "#segmentations =next(os.walk(labels))[2]\n"
      ],
      "execution_count": 3,
      "outputs": []
    },
    {
      "cell_type": "code",
      "metadata": {
        "id": "un4n53f0NGXh"
      },
      "source": [
        "#patients_object = os.scandir(samples)\n",
        "#patients_list = [i.path for i in patients_object]\n",
        "patients_list = glob.glob(mix + '*[0-9].*')\n",
        "patients_list.sort()\n",
        "\n",
        "#segment_object = os.scandir(labels)\n",
        "#segment_list = [i.path for i in segment_object]\n",
        "segment_list = glob.glob(mix + '*n.*')\n",
        "segment_list.sort()\n",
        "\n",
        "\n",
        "\n",
        "\n",
        "\n",
        "\n",
        "\n",
        "\n"
      ],
      "execution_count": 4,
      "outputs": []
    },
    {
      "cell_type": "code",
      "metadata": {
        "id": "4_747rKG6Dlb"
      },
      "source": [
        "def make_box(mask):\n",
        "    box = []\n",
        "    box_bool=[]\n",
        "    obj_ids = np.unique(mask)\n",
        "    if mask.dtype == bool:\n",
        "        if len(np.unique(mask))==2:\n",
        "            \n",
        "            y_min = np.nonzero(mask)[0].min()\n",
        "            y_max = np.nonzero(mask)[0].max()\n",
        "            x_min = np.nonzero(mask)[1].min()\n",
        "            x_max = np.nonzero(mask)[1].max()\n",
        "            box=[x_min, y_min, x_max, y_max]\n",
        "    else :\n",
        "        mask_bool = mask.astype(np.bool)\n",
        "        if len(np.unique(mask_bool))==2:\n",
        "            \n",
        "            y_min = np.nonzero(mask_bool)[0].min()\n",
        "            y_max = np.nonzero(mask_bool)[0].max()\n",
        "            x_min = np.nonzero(mask_bool)[1].min()\n",
        "            x_max = np.nonzero(mask_bool)[1].max()\n",
        "            box_bool=[x_min, y_min, x_max, y_max]\n",
        "        \n",
        "        for i in  obj_ids[1:]:\n",
        "            y_min = np.nonzero(mask==i)[0].min()\n",
        "            y_max = np.nonzero(mask==i)[0].max()\n",
        "            x_min = np.nonzero(mask==i)[1].min()\n",
        "            x_max = np.nonzero(mask==i)[1].max()\n",
        "            box.append([x_min, y_min, x_max, y_max])\n",
        "    return_object = box if mask.dtype ==bool else (dict(zip([f\"label{int(i)}\" for i in obj_ids[1:]],box)), box_bool)\n",
        "    return return_object"
      ],
      "execution_count": 5,
      "outputs": []
    },
    {
      "cell_type": "code",
      "metadata": {
        "id": "kjzwsGAh4zVO"
      },
      "source": [
        "def description_mask(mask_path):\n",
        "  Masks = nib.load(mask_path)   \n",
        "  Masks = np.array(Masks.dataobj)\n",
        "  print('shape', Masks.shape)\n"
      ],
      "execution_count": 7,
      "outputs": []
    },
    {
      "cell_type": "code",
      "metadata": {
        "id": "d8iDrx8Lpg-b",
        "colab": {
          "base_uri": "https://localhost:8080/"
        },
        "outputId": "7667fedf-1fae-47a1-e64b-52f10a41ed70"
      },
      "source": [
        "description_mask(segment_list[34])\n"
      ],
      "execution_count": 8,
      "outputs": [
        {
          "output_type": "stream",
          "text": [
            "shape (320, 320, 28)\n"
          ],
          "name": "stdout"
        }
      ]
    },
    {
      "cell_type": "code",
      "metadata": {
        "id": "w2oxjcJD6NAB",
        "colab": {
          "base_uri": "https://localhost:8080/"
        },
        "outputId": "3c085041-da41-4fbc-9776-23e3af130029"
      },
      "source": [
        "for i in range(Masks.shape[-1]):\n",
        "  f = make_box(Masks[:,:,i])\n",
        "  print(f)"
      ],
      "execution_count": null,
      "outputs": [
        {
          "output_type": "stream",
          "text": [
            "({}, [])\n",
            "({}, [])\n",
            "({}, [])\n",
            "({}, [])\n",
            "({}, [])\n",
            "({}, [])\n",
            "({}, [])\n",
            "({'label1': [180, 164, 207, 221]}, [180, 164, 207, 221])\n",
            "({'label1': [173, 151, 213, 232]}, [173, 151, 213, 232])\n",
            "({'label1': [169, 143, 213, 244], 'label2': [164, 160, 201, 222]}, [164, 143, 213, 244])\n",
            "({'label1': [161, 129, 216, 250], 'label2': [150, 146, 203, 226]}, [150, 129, 216, 250])\n",
            "({'label1': [156, 127, 216, 252], 'label2': [145, 142, 206, 231]}, [145, 127, 216, 252])\n",
            "({'label1': [152, 124, 219, 255], 'label2': [138, 140, 206, 235]}, [138, 124, 219, 255])\n",
            "({'label1': [157, 123, 217, 254], 'label2': [133, 138, 207, 238]}, [133, 123, 217, 254])\n",
            "({'label1': [156, 127, 217, 252], 'label2': [132, 143, 208, 235]}, [132, 127, 217, 252])\n",
            "({'label1': [152, 132, 217, 247], 'label2': [129, 140, 206, 235]}, [129, 132, 217, 247])\n",
            "({'label1': [141, 135, 215, 244], 'label2': [130, 143, 203, 231]}, [130, 135, 215, 244])\n",
            "({'label1': [144, 138, 212, 240], 'label2': [132, 146, 200, 232]}, [132, 138, 212, 240])\n",
            "({'label1': [178, 147, 203, 224], 'label2': [132, 151, 192, 224]}, [132, 147, 203, 224])\n",
            "({'label2': [139, 151, 186, 218]}, [139, 151, 186, 218])\n",
            "({'label2': [152, 157, 188, 223]}, [152, 157, 188, 223])\n",
            "({'label2': [153, 162, 179, 208]}, [153, 162, 179, 208])\n",
            "({}, [])\n",
            "({}, [])\n",
            "({}, [])\n",
            "({}, [])\n",
            "({}, [])\n",
            "({}, [])\n",
            "({}, [])\n",
            "({}, [])\n",
            "({}, [])\n",
            "({}, [])\n"
          ],
          "name": "stdout"
        }
      ]
    },
    {
      "cell_type": "code",
      "metadata": {
        "id": "bqPPikDP2Ce6"
      },
      "source": [
        ""
      ],
      "execution_count": null,
      "outputs": []
    },
    {
      "cell_type": "code",
      "metadata": {
        "id": "2iv1RZR4pS8d"
      },
      "source": [
        "def bounding_box_plot(Masks_2d):\n",
        "  \n",
        "  print(f'labels_slice_{slices}', np.unique(Masks_2d))\n",
        "  print('bounding_box', make_box(Masks_2d.astype(bool)))\n",
        "\n",
        "  fig=px.imshow(Masks_2d)\n",
        "\n",
        "  li = make_box(Masks_2d.astype(bool))\n",
        "\n",
        "  k = dict(x0= li[0], x1= li[2], y0= li[1], y1= li[3])\n",
        "  fig.add_shape(\n",
        "    type='rect',\n",
        "    **k,\n",
        "    xref='x', yref='y',\n",
        "    line_color='cyan'\n",
        "  )\n",
        "  fig.show()"
      ],
      "execution_count": 9,
      "outputs": []
    },
    {
      "cell_type": "code",
      "metadata": {
        "id": "a1TUX6dj6U4z"
      },
      "source": [
        "def crop_specific(im, mask, crop_size):\n",
        "        \n",
        "        k=make_box(mask.astype(np.bool))\n",
        "        if len(k)!=0:\n",
        "            b_list = k\n",
        "            x_min, y_min, x_max, y_max = b_list\n",
        "            \n",
        "            length_x = x_max -x_min + 1\n",
        "            length_y = y_max - y_min + 1\n",
        "            del_x = crop_size - length_x \n",
        "            del_y = crop_size - length_y \n",
        "\n",
        "            if del_x%2==0:\n",
        "                kx = del_x//2\n",
        "                sx=0\n",
        "            else:\n",
        "                kx = del_x//2\n",
        "\n",
        "                sx = 1\n",
        "            if del_y%2==0:\n",
        "                ky = del_y//2\n",
        "                sy=0\n",
        "            else:\n",
        "                ky = del_y//2\n",
        "                sy = 1\n",
        "            \n",
        "            crop = mask[ y_min - ky - sy : y_max + ky + 1, x_min - kx - sx : x_max + kx  + 1]\n",
        "            crop_im = im[ y_min - ky - sy : y_max + ky + 1, x_min - kx - sx : x_max + kx  + 1]\n",
        "            return crop_im, crop, \n"
      ],
      "execution_count": 10,
      "outputs": []
    },
    {
      "cell_type": "code",
      "metadata": {
        "id": "N3h1lZMG6U7r"
      },
      "source": [
        "crop_size = 192\n",
        "p_seg = []\n",
        "p_im = []\n",
        "for patient_file, segment_file in zip( patients_list[:60], segment_list[:60]):\n",
        "    im = nib.load(patient_file)    \n",
        "    im = np.array(im.dataobj)\n",
        "\n",
        "    Masks = nib.load(segment_file)    \n",
        "    Masks = np.array(Masks.dataobj)\n",
        "    Masks.shape\n",
        "    for  j in range(Masks.shape[2]):\n",
        "      k=make_box(Masks[:,:,j].astype(np.bool))\n",
        "      if len(k)!=0:\n",
        "        crop_im , crop = crop_specific(im[:,:,j], Masks[:,:,j], crop_size= crop_size)\n",
        "        p_seg.append(crop)\n",
        "        p_im.append(crop_im)\n",
        "\n",
        "\n",
        "    \n",
        "   "
      ],
      "execution_count": 11,
      "outputs": []
    },
    {
      "cell_type": "code",
      "metadata": {
        "id": "SQrg3Z4cad1j"
      },
      "source": [
        "crop_size = 192\n",
        "p_seg_t = []\n",
        "p_im_t = []\n",
        "for patient_file, segment_file in zip( patients_list[60:], segment_list[60:]):\n",
        "    im = nib.load(patient_file)    \n",
        "    im = np.array(im.dataobj)\n",
        "\n",
        "    Masks = nib.load(segment_file)    \n",
        "    Masks = np.array(Masks.dataobj)\n",
        "    Masks.shape\n",
        "    for  j in range(Masks.shape[2]):\n",
        "      k=make_box(Masks[:,:,j].astype(np.bool))\n",
        "      if len(k)!=0:\n",
        "        crop_im , crop = crop_specific(im[:,:,j], Masks[:,:,j], crop_size= crop_size)\n",
        "        p_seg_t.append(crop)\n",
        "        p_im_t.append(crop_im)\n",
        "\n"
      ],
      "execution_count": 12,
      "outputs": []
    },
    {
      "cell_type": "code",
      "metadata": {
        "id": "IDUY2DLw6Dld"
      },
      "source": [
        "segment_numpy = np.stack(p_seg,0)\n",
        "image_numpy = np.stack(p_im, 0)\n",
        "\n",
        "segment_numpy_t = np.stack(p_seg_t,0)\n",
        "image_numpy_t = np.stack(p_im_t, 0)"
      ],
      "execution_count": 13,
      "outputs": []
    },
    {
      "cell_type": "code",
      "metadata": {
        "id": "S_mcwDyL6Dld"
      },
      "source": [
        "train = image_numpy/image_numpy.max()\n",
        "test = image_numpy_t/image_numpy.max()"
      ],
      "execution_count": 14,
      "outputs": []
    },
    {
      "cell_type": "code",
      "metadata": {
        "id": "PftZTqrl6Dle"
      },
      "source": [
        "train_seg_bolean = segment_numpy.astype(bool)\n",
        "test_seg_bolean = segment_numpy_t.astype(bool)"
      ],
      "execution_count": 15,
      "outputs": []
    },
    {
      "cell_type": "code",
      "metadata": {
        "id": "9fiHgm90TbbG"
      },
      "source": [
        "test_seg_f = np.float32(test_seg_bolean)\n",
        "train_seg_f = np.float32(train_seg_bolean)"
      ],
      "execution_count": 16,
      "outputs": []
    },
    {
      "cell_type": "markdown",
      "metadata": {
        "id": "ejmgY4FAojSc"
      },
      "source": [
        "# Pytorch"
      ]
    },
    {
      "cell_type": "code",
      "metadata": {
        "id": "1rxoyUEtpmKL"
      },
      "source": [
        "train_image_torch = np.expand_dims(train_image,1)\n",
        "train_seg_torch  = np.expand_dims(train_seg_f,1)"
      ],
      "execution_count": null,
      "outputs": []
    },
    {
      "cell_type": "code",
      "metadata": {
        "id": "I9NJ_iPypm0Q"
      },
      "source": [
        "train_image_torch.shape"
      ],
      "execution_count": null,
      "outputs": []
    },
    {
      "cell_type": "code",
      "metadata": {
        "id": "vQOqF9i5omM8"
      },
      "source": [
        "def conv1x1_bn_relu(inp_activation, output_activation, BN=True, activation = True):\n",
        "    \"con 1x1 + Batchnormalization + relu\"\n",
        "    layer = [nn.Conv2d(inp_activation, output_activation, 1)]\n",
        "    for i, j in zip([nn.BatchNorm2d(output_activation), nn.ReLU(inplace=True)],[BN, activation]):\n",
        "        if j==True:\n",
        "            layer.append(i)\n",
        "    return nn.Sequential(*layer)"
      ],
      "execution_count": null,
      "outputs": []
    },
    {
      "cell_type": "code",
      "metadata": {
        "id": "lVM7soCsomPv"
      },
      "source": [
        "def conv3x3_bn_relu(inp_activation, output_activation, BN=True, activation = True):\n",
        "    \"con 3x3 + Batchnormalization + relu\"\n",
        "    layer = [nn.Conv2d(inp_activation, output_activation, 3, padding = 1)]\n",
        "    for i, j in zip([nn.BatchNorm2d(output_activation), nn.ReLU(inplace=True)],[BN, activation]):\n",
        "        if j==True:\n",
        "            layer.append(i)\n",
        "    return nn.Sequential(*layer)"
      ],
      "execution_count": null,
      "outputs": []
    },
    {
      "cell_type": "code",
      "metadata": {
        "id": "vxQ_uWWDomSO"
      },
      "source": [
        "class bottleneck_block(nn.Module):\n",
        "    \n",
        "    def __init__(self, input_activation, list_filter=[256, 64, 256], down = None):\n",
        "        super().__init__()\n",
        "        self.conv1x1_1 = conv1x1_bn_relu(input_activation, list_filter[0])\n",
        "        self.conv3x3 = conv3x3_bn_relu(list_filter[0], list_filter[1])\n",
        "        self.conv1x1_2 = conv1x1_bn_relu(list_filter[1], list_filter[2])\n",
        "        self.down = down\n",
        "        if down!=None:\n",
        "            self.contract_conv = down\n",
        "    def forward(self , inp):\n",
        "        x = inp\n",
        "        c = self.conv1x1_1(inp)\n",
        "        c = self.conv3x3(c)\n",
        "        result = self.conv1x1_2(c)\n",
        "        if self.down!=None:\n",
        "            x = self.contract_conv(inp)\n",
        "        \n",
        "        out = result + x\n",
        "        \n",
        "        return out\n",
        "            \n"
      ],
      "execution_count": null,
      "outputs": []
    },
    {
      "cell_type": "code",
      "metadata": {
        "id": "HZ0anol1omUc"
      },
      "source": [
        "class conv_block(nn.Module):\n",
        "    \n",
        "    def __init__(self, inp_activation, list_filter ,resnet_block = False, downsample= None ):\n",
        "        super().__init__()\n",
        "        self.conv3x3_1 = conv3x3_bn_relu(inp_activation, list_filter)\n",
        "        self.conv3x3_2 = conv3x3_bn_relu(list_filter, list_filter)\n",
        "        self.down = downsample\n",
        "    def forward(self , inp):\n",
        "        c = self.conv3x3_1(inp)\n",
        "        c = self.conv3x3_2(c)\n",
        "        return c"
      ],
      "execution_count": null,
      "outputs": []
    },
    {
      "cell_type": "code",
      "metadata": {
        "id": "ODZSxdP-omWt"
      },
      "source": [
        "class Unet_res_b(nn.Module):\n",
        "    def __init__(self, n_class):\n",
        "        \n",
        "        super().__init__()\n",
        "        self.en_block1 = conv_block(1,32)\n",
        "        self.en_block2 = conv_block(32,64)\n",
        "        self.en_block3 = conv_block(64,128)\n",
        "        self.en_block4 = conv_block(128,256)\n",
        "        self.en_block5 = conv_block(256,512)\n",
        "        self.en_block6 = conv_block(512, 1024)\n",
        "\n",
        "        \n",
        "        self.transpose5 = nn.ConvTranspose2d(1024,512,2,2)\n",
        "        self.transpose4 = nn.ConvTranspose2d(512,256,2,2)\n",
        "\n",
        "        self.transpose3 = nn.ConvTranspose2d(256,128,2,2)\n",
        "        self.transpose2 = nn.ConvTranspose2d(128,64,2,2)\n",
        "        self.transpose1 = nn.ConvTranspose2d(64,32,2,2)\n",
        "        \n",
        "        self.de_block1 = conv_block(64,32)\n",
        "        self.de_block2 = conv_block(128,64)\n",
        "        self.de_block3 = conv_block(256,128)\n",
        "\n",
        "        self.de_block4 = conv_block(512, 256)\n",
        "        self.de_block5 = conv_block(1024, 512)\n",
        "        self.out_conv = nn.Conv2d(32, 1, 1)\n",
        "\n",
        "        \n",
        "    \n",
        "\n",
        "    def forward(self, inp):\n",
        "        el1 = self.en_block1(inp) #  (32,h,w)\n",
        "        max1 = nn.MaxPool2d(2)(el1) # (32,h//2, w//2)\n",
        "\n",
        "        el2 = self.en_block2(max1)    #(64, h//2, w//2)\n",
        "        max2 = nn.MaxPool2d(2)(el2)  #(64, h//4, w//4)\n",
        "\n",
        "        el3 = self.en_block3(max2)    #(128, h//4, w//4)\n",
        "        max3 = nn.MaxPool2d(2)(el3)  #(128, h//8, w//8)\n",
        "\n",
        "        el4 = self.en_block4(max3)    #(256, h//8, w//8)\n",
        "        max4 = nn.MaxPool2d(2)(el4)  #(256, h//16, w//16)\n",
        "        \n",
        "        el5 = self.en_block5(max4)  #(512, h//16, w//16)\n",
        "        max5 = nn.MaxPool2d(2)(el5)  #(512, h//32, w//32)\n",
        "        \n",
        "        el6 = self.en_block6(max5)  #(1024, h//32, w//32)\n",
        "\n",
        "        el5 = self.transpose5(el6)  #(512, h//16, w//16)\n",
        "        cat5 = torch.cat([el5, el5], 1) #(1024, h//16, h//16 )\n",
        "        d5 =  self.de_block5(cat5)      #(512, h//16, w//16)\n",
        "        \n",
        "        tl4 = self.transpose4(d5)       #(256, h//8, w//8)\n",
        "        cat4 = torch.cat([tl4, el4], 1) #(512, h//8, w//8)\n",
        "        d4 =  self.de_block4(cat4)     #(256, h//8, w//8)\n",
        "        \n",
        "        tl3 = self.transpose3(d4)        #(128, h//4, w//4)\n",
        "        cat3 = torch.cat([tl3, el3], 1)  #(256, h//4, w//4)\n",
        "        d3 =  self.de_block3(cat3)        #(128, h//4, w//4)\n",
        "        \n",
        "        \n",
        "        tl2 = self.transpose2(d3)          #(64, h//2, w//2)\n",
        "        cat2 = torch.cat([tl2, el2], 1)   #(128, h//2, w//2)\n",
        "        d2 =  self.de_block2(cat2)         #(64, h//2, w//2)\n",
        "        \n",
        "        tl1 = self.transpose1(d2)          #(32, h, w)\n",
        "        cat1 = torch.cat([tl1, el1], 1) #(64, h, w)\n",
        "        d1 =  self.de_block1(cat1)        #(32, h, w)\n",
        "        output = self.out_conv(d1) \n",
        "\n",
        "        return output\n",
        "\n"
      ],
      "execution_count": null,
      "outputs": []
    },
    {
      "cell_type": "code",
      "metadata": {
        "id": "RVa5_ABxomZA"
      },
      "source": [
        "m = Unet_res_b(2)"
      ],
      "execution_count": null,
      "outputs": []
    },
    {
      "cell_type": "code",
      "metadata": {
        "id": "wROsnyqJRERc"
      },
      "source": [
        "m.to(torch.device('cuda'))"
      ],
      "execution_count": null,
      "outputs": []
    },
    {
      "cell_type": "code",
      "metadata": {
        "id": "UuZaxOiCo4k1"
      },
      "source": [
        "m(torch.tensor(train_image_torch)[:3]).shape"
      ],
      "execution_count": null,
      "outputs": []
    },
    {
      "cell_type": "code",
      "metadata": {
        "id": "s3uVtkvdo5R3"
      },
      "source": [
        "d_tr = torch.utils.data.DataLoader(train_image_torch,32)\n",
        "d_seg = torch.utils.data.DataLoader(train_seg_torch,32)"
      ],
      "execution_count": null,
      "outputs": []
    },
    {
      "cell_type": "code",
      "metadata": {
        "id": "CpmNmtNoo5VP"
      },
      "source": [
        "device = torch.device('cuda')"
      ],
      "execution_count": null,
      "outputs": []
    },
    {
      "cell_type": "code",
      "metadata": {
        "id": "eMHst6GdRwWl"
      },
      "source": [
        "opt = torch.optim.Adam(m.parameters())"
      ],
      "execution_count": null,
      "outputs": []
    },
    {
      "cell_type": "code",
      "metadata": {
        "id": "juKjnCuSR_53"
      },
      "source": [
        "loss = torch.nn.BCELoss()"
      ],
      "execution_count": null,
      "outputs": []
    },
    {
      "cell_type": "code",
      "metadata": {
        "id": "WoebZa4ZWN0m"
      },
      "source": [
        "im = im.to(device=device)\n"
      ],
      "execution_count": null,
      "outputs": []
    },
    {
      "cell_type": "code",
      "metadata": {
        "id": "xtvE06B4o5bg"
      },
      "source": [
        "for im , segi in zip(d_tr, d_seg):\n",
        "  im = im.to(device=device)\n",
        "  segi =segi.to(device)\n",
        "  yh = m(im)\n",
        "  l = loss(yh, segi)\n",
        "  #print(l)\n",
        "  opt.zero_grad()\n",
        "  l.backward()\n",
        "  opt.step\n",
        "  "
      ],
      "execution_count": null,
      "outputs": []
    },
    {
      "cell_type": "markdown",
      "metadata": {
        "id": "TXx7-kecQufp"
      },
      "source": [
        "# tensorflow"
      ]
    },
    {
      "cell_type": "code",
      "metadata": {
        "id": "oswpYrSC_yyS"
      },
      "source": [
        "IMG_HEIGHT, IMG_WIDTH, IMG_CHANNELS  =crop_size, crop_size, 1"
      ],
      "execution_count": 18,
      "outputs": []
    },
    {
      "cell_type": "code",
      "metadata": {
        "id": "11C8uTN4B-vx"
      },
      "source": [
        "def conv_block(channel, drop = None, l2 = True):\n",
        "  seq = keras.Sequential()\n",
        "  seq.add(layers.Conv2D(channel, (3,3), activation='relu',kernel_regularizer='l2', kernel_initializer='he_normal',\n",
        "                padding='same'))\n",
        "  if drop!= None:\n",
        "    seq.add(\n",
        "    layers.Dropout(drop))\n",
        "  seq.add(layers.Conv2D(channel, (3,3), activation='relu', kernel_initializer='he_normal',\n",
        "                padding='same'))\n",
        "    \n",
        "  return seq\n"
      ],
      "execution_count": 19,
      "outputs": []
    },
    {
      "cell_type": "code",
      "metadata": {
        "id": "R64Qgwthibtq"
      },
      "source": [
        "def conv_block(channel, drop = None, l2 = True):\n",
        "  seq = keras.Sequential()\n",
        "  seq.add(layers.Conv2D(channel, (1,1), activation='relu',kernel_regularizer='l2', kernel_initializer='he_normal',\n",
        "                padding='same'))\n",
        "  if drop!= None:\n",
        "    seq.add(\n",
        "    layers.Dropout(drop))\n",
        "  seq.add(layers.Conv2D(channel, (3,3), activation='relu', kernel_initializer='he_normal',\n",
        "                padding='same'))\n",
        "  seq.add(layers.Conv2D(channel, (1,1), activation='relu', kernel_initializer='he_normal',\n",
        "                padding='same'))\n",
        "    \n",
        "  return seq\n"
      ],
      "execution_count": null,
      "outputs": []
    },
    {
      "cell_type": "code",
      "metadata": {
        "id": "SqqSO_STlAuq"
      },
      "source": [
        "del conv_block"
      ],
      "execution_count": 100,
      "outputs": []
    },
    {
      "cell_type": "code",
      "metadata": {
        "id": "xWAxDkhxixV_"
      },
      "source": [
        "class conv_block(tf.keras.layers.Layer):\n",
        "\n",
        "  def __init__(self, channel,drop,l2, **kwargs):\n",
        "        super(conv_block, self).__init__(**kwargs)\n",
        "        self.c1x1 = layers.Conv2D(channel, (1,1), activation='relu', kernel_initializer='he_normal',\n",
        "                padding='same')\n",
        "        self.c3x3 = layers.Conv2D(channel, (3,3), activation='relu', kernel_initializer='he_normal',\n",
        "                padding='same')\n",
        "        self.c1x1_2 = layers.Conv2D(channel, (1,1), activation='relu', kernel_initializer='he_normal',\n",
        "                padding='same')\n",
        "        self.co =  layers.Conv2D(channel, (1,1), activation='relu', kernel_initializer='he_normal',\n",
        "                padding='same')\n",
        "\n",
        "\n",
        "  def call(self, inputs, training=None):\n",
        "    l1 = self.c1x1(inputs)\n",
        "    l1 = self.c3x3(l1)\n",
        "    l1 = self.c1x1_2(l1)\n",
        "    inp_mod = self.co(inputs)\n",
        "    out = l1 + inp_mod\n",
        "    return out\n",
        "        "
      ],
      "execution_count": 108,
      "outputs": []
    },
    {
      "cell_type": "code",
      "metadata": {
        "id": "k5uMExEjkw47"
      },
      "source": [
        "j = conv_block(34)"
      ],
      "execution_count": 105,
      "outputs": []
    },
    {
      "cell_type": "code",
      "metadata": {
        "id": "D2eY8nr2k2fk"
      },
      "source": [
        ""
      ],
      "execution_count": null,
      "outputs": []
    },
    {
      "cell_type": "code",
      "metadata": {
        "id": "2HwKB9ujk2iL"
      },
      "source": [
        ""
      ],
      "execution_count": null,
      "outputs": []
    },
    {
      "cell_type": "code",
      "metadata": {
        "id": "KSbqTxXRk2ke"
      },
      "source": [
        ""
      ],
      "execution_count": null,
      "outputs": []
    },
    {
      "cell_type": "code",
      "metadata": {
        "id": "ukefGLzYWZMd"
      },
      "source": [
        "def U_Net_Segmentation(input_size=(IMG_HEIGHT, IMG_WIDTH, IMG_CHANNELS), drop = None, l2 = True):\n",
        "    \n",
        "    inputs = tf.keras.Input(input_size)\n",
        "    \n",
        "    \n",
        "    c1=conv_block(16, drop=drop, l2=l2)(inputs)\n",
        "    p1 = layers.MaxPooling2D((2,2))(c1)\n",
        "\n",
        "\n",
        "    c2 = conv_block(32, drop=drop, l2=l2)(p1)\n",
        "    p2 = layers.MaxPooling2D((2,2))(c2)\n",
        "\n",
        "\n",
        "    c3 = conv_block(64, drop=drop, l2=l2)(p2)\n",
        "    p3 = layers.MaxPooling2D((2,2))(c3)\n",
        "\n",
        "\n",
        "    c4 = conv_block(128, drop=drop, l2=l2)(p3)\n",
        "    p4 = layers.MaxPooling2D((2,2))(c4)\n",
        "\n",
        "\n",
        "    c5 = conv_block(256, drop=drop, l2=l2)(p4)\n",
        "    p5 = layers.MaxPooling2D((2,2))(c5)\n",
        "\n",
        "    c6 = conv_block(256, drop=drop, l2=l2)(p5)\n",
        "\n",
        "\n",
        "\n",
        "    u7 = layers.Conv2DTranspose(256, (2,2), strides=(2,2), padding='same')(c6)\n",
        "    u7 = layers.concatenate([u7, c5])\n",
        "    c7 = layers.Conv2D(256, (3,3), activation='relu', kernel_initializer='he_normal',\n",
        "                padding='same')(u7)\n",
        "\n",
        "    c7 = layers.Dropout(0.2)(c7)\n",
        "    c7 = layers.Conv2D(256, (3,3), activation='relu', kernel_initializer='he_normal',\n",
        "                padding='same')(c7)   \n",
        "\n",
        "    u6 = layers.Conv2DTranspose(128, (2,2), strides=(2,2), padding='same')(c5)\n",
        "    u6 = layers.concatenate([u6, c4])\n",
        "    c6 = layers.Conv2D(128, (3,3), activation='relu', kernel_initializer='he_normal',\n",
        "                padding='same')(u6)\n",
        "    c6 = layers.Dropout(0.2)(c6)\n",
        "    c6 = layers.Conv2D(128, (3,3), activation='relu', kernel_initializer='he_normal',\n",
        "                padding='same')(c6)   \n",
        "\n",
        "\n",
        "    u7 = layers.Conv2DTranspose(64, (2,2), strides=(2,2), padding='same')(c6)\n",
        "    u7 = layers.concatenate([u7, c3])\n",
        "    c7 = layers.Conv2D(64, (3,3), activation='relu', kernel_initializer='he_normal',\n",
        "                padding='same')(u7)\n",
        "    c7 = layers.Dropout(0.2)(c7)\n",
        "    c7 = layers.Conv2D(64, (3,3), activation='relu', kernel_initializer='he_normal',\n",
        "                padding='same')(c7) \n",
        "\n",
        "    u8 = layers.Conv2DTranspose(32, (2,2), strides=(2,2), padding='same')(c7)\n",
        "    u8 = layers.concatenate([u8, c2])\n",
        "    c8 = layers.Conv2D(32, (3,3), activation='relu', kernel_initializer='he_normal',\n",
        "                padding='same')(u8)\n",
        "    c8 = layers.Dropout(0.1)(c8)\n",
        "    c8 = layers.Conv2D(32, (3,3), activation='relu', kernel_initializer='he_normal',\n",
        "                padding='same')(c8) \n",
        "    \n",
        "    \n",
        "    u9 = layers.Conv2DTranspose(16, (2,2), strides=(2,2), padding='same')(c8)\n",
        "    u9 = layers.concatenate([u9, c1], axis = 3)\n",
        "    c9 = layers.Conv2D(16, (3,3), activation='relu', kernel_initializer='he_normal',\n",
        "                padding='same')(u9)\n",
        "    c9 = layers.Dropout(0.1)(c9)\n",
        "    c9 = layers.Conv2D(16, (3,3), activation='relu', kernel_initializer='he_normal',\n",
        "                padding='same')(c9) \n",
        "    \n",
        "    outputs = layers.Conv2D(2,(1,1), activation=\"softmax\",)(c9)\n",
        "    \n",
        "    model = tf.keras.Model(inputs=[inputs], outputs=[outputs])\n",
        "    \n",
        "    return model"
      ],
      "execution_count": 119,
      "outputs": []
    },
    {
      "cell_type": "code",
      "metadata": {
        "id": "CjIL8qN3UTzC"
      },
      "source": [
        "def Dice(y_true, y_pred):\n",
        "\n",
        "    \n",
        "    \n",
        "  mask1 = tf.math.argmax(y_pred, axis=-1)\n",
        "\n",
        "  y_pred= tf.cast(mask1, tf.float32)\n",
        "  inter = tf.reduce_sum(y_pred * y_true, [1,2])\n",
        "  uni = tf.reduce_sum(y_pred , [1,2])+ tf.reduce_sum( y_true, [1,2])\n",
        "\n",
        "  des = tf.reduce_mean(2*inter/uni)\n",
        "       \n",
        "  return des\n",
        "\n"
      ],
      "execution_count": 120,
      "outputs": []
    },
    {
      "cell_type": "code",
      "metadata": {
        "id": "dAdi8upuQCYd",
        "colab": {
          "base_uri": "https://localhost:8080/"
        },
        "outputId": "ab0828b5-28c7-4fd7-ce22-9d3a51436e15"
      },
      "source": [
        "model = U_Net_Segmentation()\n",
        "model.summary()"
      ],
      "execution_count": 121,
      "outputs": [
        {
          "output_type": "stream",
          "text": [
            "Model: \"model_4\"\n",
            "__________________________________________________________________________________________________\n",
            "Layer (type)                    Output Shape         Param #     Connected to                     \n",
            "==================================================================================================\n",
            "input_7 (InputLayer)            [(None, 192, 192, 1) 0                                            \n",
            "__________________________________________________________________________________________________\n",
            "conv_block_8 (conv_block)       (None, 192, 192, 16) 2656        input_7[0][0]                    \n",
            "__________________________________________________________________________________________________\n",
            "max_pooling2d_16 (MaxPooling2D) (None, 96, 96, 16)   0           conv_block_8[0][0]               \n",
            "__________________________________________________________________________________________________\n",
            "conv_block_9 (conv_block)       (None, 96, 96, 32)   11392       max_pooling2d_16[0][0]           \n",
            "__________________________________________________________________________________________________\n",
            "max_pooling2d_17 (MaxPooling2D) (None, 48, 48, 32)   0           conv_block_9[0][0]               \n",
            "__________________________________________________________________________________________________\n",
            "conv_block_10 (conv_block)      (None, 48, 48, 64)   45312       max_pooling2d_17[0][0]           \n",
            "__________________________________________________________________________________________________\n",
            "max_pooling2d_18 (MaxPooling2D) (None, 24, 24, 64)   0           conv_block_10[0][0]              \n",
            "__________________________________________________________________________________________________\n",
            "conv_block_11 (conv_block)      (None, 24, 24, 128)  180736      max_pooling2d_18[0][0]           \n",
            "__________________________________________________________________________________________________\n",
            "max_pooling2d_19 (MaxPooling2D) (None, 12, 12, 128)  0           conv_block_11[0][0]              \n",
            "__________________________________________________________________________________________________\n",
            "conv_block_12 (conv_block)      (None, 12, 12, 256)  721920      max_pooling2d_19[0][0]           \n",
            "__________________________________________________________________________________________________\n",
            "conv2d_transpose_17 (Conv2DTran (None, 24, 24, 128)  131200      conv_block_12[0][0]              \n",
            "__________________________________________________________________________________________________\n",
            "concatenate_17 (Concatenate)    (None, 24, 24, 256)  0           conv2d_transpose_17[0][0]        \n",
            "                                                                 conv_block_11[0][0]              \n",
            "__________________________________________________________________________________________________\n",
            "conv2d_128 (Conv2D)             (None, 24, 24, 128)  295040      concatenate_17[0][0]             \n",
            "__________________________________________________________________________________________________\n",
            "dropout_25 (Dropout)            (None, 24, 24, 128)  0           conv2d_128[0][0]                 \n",
            "__________________________________________________________________________________________________\n",
            "conv2d_129 (Conv2D)             (None, 24, 24, 128)  147584      dropout_25[0][0]                 \n",
            "__________________________________________________________________________________________________\n",
            "conv2d_transpose_18 (Conv2DTran (None, 48, 48, 64)   32832       conv2d_129[0][0]                 \n",
            "__________________________________________________________________________________________________\n",
            "concatenate_18 (Concatenate)    (None, 48, 48, 128)  0           conv2d_transpose_18[0][0]        \n",
            "                                                                 conv_block_10[0][0]              \n",
            "__________________________________________________________________________________________________\n",
            "conv2d_130 (Conv2D)             (None, 48, 48, 64)   73792       concatenate_18[0][0]             \n",
            "__________________________________________________________________________________________________\n",
            "dropout_26 (Dropout)            (None, 48, 48, 64)   0           conv2d_130[0][0]                 \n",
            "__________________________________________________________________________________________________\n",
            "conv2d_131 (Conv2D)             (None, 48, 48, 64)   36928       dropout_26[0][0]                 \n",
            "__________________________________________________________________________________________________\n",
            "conv2d_transpose_19 (Conv2DTran (None, 96, 96, 32)   8224        conv2d_131[0][0]                 \n",
            "__________________________________________________________________________________________________\n",
            "concatenate_19 (Concatenate)    (None, 96, 96, 64)   0           conv2d_transpose_19[0][0]        \n",
            "                                                                 conv_block_9[0][0]               \n",
            "__________________________________________________________________________________________________\n",
            "conv2d_132 (Conv2D)             (None, 96, 96, 32)   18464       concatenate_19[0][0]             \n",
            "__________________________________________________________________________________________________\n",
            "dropout_27 (Dropout)            (None, 96, 96, 32)   0           conv2d_132[0][0]                 \n",
            "__________________________________________________________________________________________________\n",
            "conv2d_133 (Conv2D)             (None, 96, 96, 32)   9248        dropout_27[0][0]                 \n",
            "__________________________________________________________________________________________________\n",
            "conv2d_transpose_20 (Conv2DTran (None, 192, 192, 16) 2064        conv2d_133[0][0]                 \n",
            "__________________________________________________________________________________________________\n",
            "concatenate_20 (Concatenate)    (None, 192, 192, 32) 0           conv2d_transpose_20[0][0]        \n",
            "                                                                 conv_block_8[0][0]               \n",
            "__________________________________________________________________________________________________\n",
            "conv2d_134 (Conv2D)             (None, 192, 192, 16) 4624        concatenate_20[0][0]             \n",
            "__________________________________________________________________________________________________\n",
            "dropout_28 (Dropout)            (None, 192, 192, 16) 0           conv2d_134[0][0]                 \n",
            "__________________________________________________________________________________________________\n",
            "conv2d_135 (Conv2D)             (None, 192, 192, 16) 2320        dropout_28[0][0]                 \n",
            "__________________________________________________________________________________________________\n",
            "conv2d_136 (Conv2D)             (None, 192, 192, 2)  34          conv2d_135[0][0]                 \n",
            "==================================================================================================\n",
            "Total params: 1,724,370\n",
            "Trainable params: 1,724,370\n",
            "Non-trainable params: 0\n",
            "__________________________________________________________________________________________________\n"
          ],
          "name": "stdout"
        }
      ]
    },
    {
      "cell_type": "code",
      "metadata": {
        "id": "BhGKRs6ffUAk"
      },
      "source": [
        ""
      ],
      "execution_count": 89,
      "outputs": []
    },
    {
      "cell_type": "code",
      "metadata": {
        "id": "_0n1dij5Xvd0"
      },
      "source": [
        "optimizer = tf.keras.optimizers.Adam()\n"
      ],
      "execution_count": 122,
      "outputs": []
    },
    {
      "cell_type": "code",
      "metadata": {
        "id": "v_CY0xwtXvgg"
      },
      "source": [
        "model.compile(optimizer=optimizer, loss=\"sparse_categorical_crossentropy\", metrics=[Dice])\n",
        "                 "
      ],
      "execution_count": 123,
      "outputs": []
    },
    {
      "cell_type": "code",
      "metadata": {
        "id": "q8o9U5SBAznQ"
      },
      "source": [
        "# This function keeps the initial learning rate for the first ten epochs\n",
        "# and decreases it exponentially after that.\n",
        "def scheduler(epoch, lr):\n",
        "  if epoch < 30:\n",
        "    return lr\n",
        "  else:\n",
        "    return lr * 0.1\n",
        "\n"
      ],
      "execution_count": 114,
      "outputs": []
    },
    {
      "cell_type": "code",
      "metadata": {
        "id": "rAFB8l7DBAWv"
      },
      "source": [
        "callback = tf.keras.callbacks.LearningRateScheduler(scheduler)\n"
      ],
      "execution_count": 115,
      "outputs": []
    },
    {
      "cell_type": "code",
      "metadata": {
        "id": "dS7V2D1KXvin",
        "colab": {
          "base_uri": "https://localhost:8080/"
        },
        "outputId": "846b7617-06ea-4d94-c4cc-b95ceebd08a1"
      },
      "source": [
        "results = model.fit(train, train_seg_f,\n",
        "                    shuffle = True,\n",
        "                    validation_split = 0.1,\n",
        "                    batch_size=32,\n",
        "                    epochs=70)"
      ],
      "execution_count": 124,
      "outputs": [
        {
          "output_type": "stream",
          "text": [
            "Epoch 1/70\n",
            "24/24 [==============================] - 6s 196ms/step - loss: 0.5122 - Dice: 0.0136 - val_loss: 0.3897 - val_Dice: 0.0000e+00\n",
            "Epoch 2/70\n",
            "24/24 [==============================] - 4s 180ms/step - loss: 0.3501 - Dice: 0.0000e+00 - val_loss: 0.2719 - val_Dice: 0.0000e+00\n",
            "Epoch 3/70\n",
            "24/24 [==============================] - 4s 181ms/step - loss: 0.2496 - Dice: 0.0000e+00 - val_loss: 0.2343 - val_Dice: 0.0000e+00\n",
            "Epoch 4/70\n",
            "24/24 [==============================] - 4s 182ms/step - loss: 0.2261 - Dice: 2.2721e-07 - val_loss: 0.2240 - val_Dice: 0.0000e+00\n",
            "Epoch 5/70\n",
            "24/24 [==============================] - 4s 184ms/step - loss: 0.2172 - Dice: 0.0022 - val_loss: 0.2156 - val_Dice: 3.9042e-04\n",
            "Epoch 6/70\n",
            "24/24 [==============================] - 4s 183ms/step - loss: 0.2077 - Dice: 0.0597 - val_loss: 0.2087 - val_Dice: 0.6065\n",
            "Epoch 7/70\n",
            "24/24 [==============================] - 4s 185ms/step - loss: 0.1929 - Dice: 0.3896 - val_loss: 0.2258 - val_Dice: 0.4855\n",
            "Epoch 8/70\n",
            "24/24 [==============================] - 4s 187ms/step - loss: 0.1773 - Dice: 0.6013 - val_loss: 0.2142 - val_Dice: 0.6220\n",
            "Epoch 9/70\n",
            "24/24 [==============================] - 4s 188ms/step - loss: 0.1579 - Dice: 0.6741 - val_loss: 0.1615 - val_Dice: 0.7123\n",
            "Epoch 10/70\n",
            "24/24 [==============================] - 5s 190ms/step - loss: 0.1352 - Dice: 0.7096 - val_loss: 0.1662 - val_Dice: 0.7415\n",
            "Epoch 11/70\n",
            "24/24 [==============================] - 5s 190ms/step - loss: 0.1339 - Dice: 0.7149 - val_loss: 0.1856 - val_Dice: 0.7288\n",
            "Epoch 12/70\n",
            "24/24 [==============================] - 5s 192ms/step - loss: 0.1347 - Dice: 0.7148 - val_loss: 0.1427 - val_Dice: 0.7438\n",
            "Epoch 13/70\n",
            "24/24 [==============================] - 5s 193ms/step - loss: 0.1270 - Dice: 0.7300 - val_loss: 0.1481 - val_Dice: 0.7541\n",
            "Epoch 14/70\n",
            "24/24 [==============================] - 5s 194ms/step - loss: 0.1213 - Dice: 0.7385 - val_loss: 0.1430 - val_Dice: 0.7502\n",
            "Epoch 15/70\n",
            "24/24 [==============================] - 5s 193ms/step - loss: 0.1132 - Dice: 0.7525 - val_loss: 0.1518 - val_Dice: 0.7512\n",
            "Epoch 16/70\n",
            "24/24 [==============================] - 5s 192ms/step - loss: 0.1060 - Dice: 0.7680 - val_loss: 0.1349 - val_Dice: 0.7741\n",
            "Epoch 17/70\n",
            "24/24 [==============================] - 5s 191ms/step - loss: 0.0964 - Dice: 0.7659 - val_loss: 0.1336 - val_Dice: 0.7700\n",
            "Epoch 18/70\n",
            "24/24 [==============================] - 5s 191ms/step - loss: 0.0999 - Dice: 0.7692 - val_loss: 0.1414 - val_Dice: 0.7634\n",
            "Epoch 19/70\n",
            "24/24 [==============================] - 5s 189ms/step - loss: 0.1025 - Dice: 0.7793 - val_loss: 0.1331 - val_Dice: 0.7794\n",
            "Epoch 20/70\n",
            "24/24 [==============================] - 5s 189ms/step - loss: 0.0867 - Dice: 0.8032 - val_loss: 0.1207 - val_Dice: 0.7930\n",
            "Epoch 21/70\n",
            "24/24 [==============================] - 5s 189ms/step - loss: 0.0860 - Dice: 0.7966 - val_loss: 0.1899 - val_Dice: 0.6994\n",
            "Epoch 22/70\n",
            "24/24 [==============================] - 5s 188ms/step - loss: 0.0885 - Dice: 0.7998 - val_loss: 0.1303 - val_Dice: 0.7825\n",
            "Epoch 23/70\n",
            "24/24 [==============================] - 5s 188ms/step - loss: 0.0774 - Dice: 0.8269 - val_loss: 0.1168 - val_Dice: 0.8107\n",
            "Epoch 24/70\n",
            "24/24 [==============================] - 5s 188ms/step - loss: 0.0770 - Dice: 0.8241 - val_loss: 0.1145 - val_Dice: 0.8101\n",
            "Epoch 25/70\n",
            "24/24 [==============================] - 5s 188ms/step - loss: 0.0638 - Dice: 0.8441 - val_loss: 0.1448 - val_Dice: 0.7786\n",
            "Epoch 26/70\n",
            "24/24 [==============================] - 5s 188ms/step - loss: 0.0739 - Dice: 0.8213 - val_loss: 0.1460 - val_Dice: 0.7809\n",
            "Epoch 27/70\n",
            "24/24 [==============================] - 5s 189ms/step - loss: 0.0693 - Dice: 0.8264 - val_loss: 0.1095 - val_Dice: 0.8207\n",
            "Epoch 28/70\n",
            "24/24 [==============================] - 5s 189ms/step - loss: 0.0614 - Dice: 0.8555 - val_loss: 0.1404 - val_Dice: 0.7919\n",
            "Epoch 29/70\n",
            "24/24 [==============================] - 5s 196ms/step - loss: 0.0628 - Dice: 0.8502 - val_loss: 0.1062 - val_Dice: 0.8290\n",
            "Epoch 30/70\n",
            "24/24 [==============================] - 5s 190ms/step - loss: 0.0576 - Dice: 0.8663 - val_loss: 0.1065 - val_Dice: 0.8155\n",
            "Epoch 31/70\n",
            "24/24 [==============================] - 5s 190ms/step - loss: 0.0551 - Dice: 0.8670 - val_loss: 0.1257 - val_Dice: 0.8209\n",
            "Epoch 32/70\n",
            "24/24 [==============================] - 5s 190ms/step - loss: 0.0492 - Dice: 0.8815 - val_loss: 0.1021 - val_Dice: 0.8403\n",
            "Epoch 33/70\n",
            "24/24 [==============================] - 5s 190ms/step - loss: 0.0458 - Dice: 0.8936 - val_loss: 0.1139 - val_Dice: 0.8306\n",
            "Epoch 34/70\n",
            "24/24 [==============================] - 5s 191ms/step - loss: 0.0469 - Dice: 0.8868 - val_loss: 0.1129 - val_Dice: 0.8321\n",
            "Epoch 35/70\n",
            "24/24 [==============================] - 5s 190ms/step - loss: 0.0409 - Dice: 0.8984 - val_loss: 0.1433 - val_Dice: 0.7985\n",
            "Epoch 36/70\n",
            "24/24 [==============================] - 5s 190ms/step - loss: 0.0409 - Dice: 0.8960 - val_loss: 0.1433 - val_Dice: 0.8150\n",
            "Epoch 37/70\n",
            "24/24 [==============================] - 5s 190ms/step - loss: 0.0376 - Dice: 0.9060 - val_loss: 0.0995 - val_Dice: 0.8313\n",
            "Epoch 38/70\n",
            "24/24 [==============================] - 5s 190ms/step - loss: 0.0402 - Dice: 0.9029 - val_loss: 0.1330 - val_Dice: 0.8142\n",
            "Epoch 39/70\n",
            "24/24 [==============================] - 5s 190ms/step - loss: 0.0368 - Dice: 0.9032 - val_loss: 0.1124 - val_Dice: 0.8364\n",
            "Epoch 40/70\n",
            "24/24 [==============================] - 5s 190ms/step - loss: 0.0352 - Dice: 0.9149 - val_loss: 0.1442 - val_Dice: 0.8239\n",
            "Epoch 41/70\n",
            "24/24 [==============================] - 5s 189ms/step - loss: 0.0366 - Dice: 0.9054 - val_loss: 0.1095 - val_Dice: 0.8489\n",
            "Epoch 42/70\n",
            "24/24 [==============================] - 5s 189ms/step - loss: 0.0324 - Dice: 0.9234 - val_loss: 0.1245 - val_Dice: 0.8196\n",
            "Epoch 43/70\n",
            "24/24 [==============================] - 5s 190ms/step - loss: 0.0356 - Dice: 0.9175 - val_loss: 0.1268 - val_Dice: 0.8399\n",
            "Epoch 44/70\n",
            "24/24 [==============================] - 5s 189ms/step - loss: 0.0296 - Dice: 0.9249 - val_loss: 0.1364 - val_Dice: 0.8330\n",
            "Epoch 45/70\n",
            "24/24 [==============================] - 5s 189ms/step - loss: 0.0303 - Dice: 0.9238 - val_loss: 0.1596 - val_Dice: 0.8162\n",
            "Epoch 46/70\n",
            "24/24 [==============================] - 5s 190ms/step - loss: 0.0316 - Dice: 0.9249 - val_loss: 0.1430 - val_Dice: 0.8401\n",
            "Epoch 47/70\n",
            "24/24 [==============================] - 5s 190ms/step - loss: 0.0275 - Dice: 0.9314 - val_loss: 0.1368 - val_Dice: 0.8357\n",
            "Epoch 48/70\n",
            "24/24 [==============================] - 5s 189ms/step - loss: 0.0261 - Dice: 0.9363 - val_loss: 0.1250 - val_Dice: 0.8392\n",
            "Epoch 49/70\n",
            "24/24 [==============================] - 5s 189ms/step - loss: 0.0255 - Dice: 0.9366 - val_loss: 0.1363 - val_Dice: 0.8404\n",
            "Epoch 50/70\n",
            "24/24 [==============================] - 5s 189ms/step - loss: 0.0269 - Dice: 0.9354 - val_loss: 0.1526 - val_Dice: 0.8252\n",
            "Epoch 51/70\n",
            "24/24 [==============================] - 5s 190ms/step - loss: 0.0225 - Dice: 0.9445 - val_loss: 0.1355 - val_Dice: 0.8414\n",
            "Epoch 52/70\n",
            "24/24 [==============================] - 5s 190ms/step - loss: 0.0229 - Dice: 0.9452 - val_loss: 0.1540 - val_Dice: 0.8329\n",
            "Epoch 53/70\n",
            "24/24 [==============================] - 5s 190ms/step - loss: 0.0233 - Dice: 0.9431 - val_loss: 0.1592 - val_Dice: 0.8361\n",
            "Epoch 54/70\n",
            "24/24 [==============================] - 5s 190ms/step - loss: 0.0214 - Dice: 0.9462 - val_loss: 0.1504 - val_Dice: 0.8315\n",
            "Epoch 55/70\n",
            "24/24 [==============================] - 5s 189ms/step - loss: 0.0221 - Dice: 0.9476 - val_loss: 0.1545 - val_Dice: 0.8378\n",
            "Epoch 56/70\n",
            "24/24 [==============================] - 5s 190ms/step - loss: 0.0212 - Dice: 0.9456 - val_loss: 0.1521 - val_Dice: 0.8391\n",
            "Epoch 57/70\n",
            "24/24 [==============================] - 5s 190ms/step - loss: 0.0210 - Dice: 0.9488 - val_loss: 0.1495 - val_Dice: 0.8377\n",
            "Epoch 58/70\n",
            "24/24 [==============================] - 5s 190ms/step - loss: 0.0219 - Dice: 0.9495 - val_loss: 0.1383 - val_Dice: 0.8500\n",
            "Epoch 59/70\n",
            "24/24 [==============================] - 5s 190ms/step - loss: 0.0202 - Dice: 0.9503 - val_loss: 0.1639 - val_Dice: 0.8330\n",
            "Epoch 60/70\n",
            "24/24 [==============================] - 5s 190ms/step - loss: 0.0201 - Dice: 0.9527 - val_loss: 0.1514 - val_Dice: 0.8451\n",
            "Epoch 61/70\n",
            "24/24 [==============================] - 5s 189ms/step - loss: 0.0198 - Dice: 0.9485 - val_loss: 0.1365 - val_Dice: 0.8406\n",
            "Epoch 62/70\n",
            "24/24 [==============================] - 5s 190ms/step - loss: 0.0213 - Dice: 0.9503 - val_loss: 0.1433 - val_Dice: 0.8457\n",
            "Epoch 63/70\n",
            "24/24 [==============================] - 5s 190ms/step - loss: 0.0203 - Dice: 0.9538 - val_loss: 0.1677 - val_Dice: 0.8398\n",
            "Epoch 64/70\n",
            "24/24 [==============================] - 5s 190ms/step - loss: 0.0176 - Dice: 0.9549 - val_loss: 0.1555 - val_Dice: 0.8434\n",
            "Epoch 65/70\n",
            "24/24 [==============================] - 5s 189ms/step - loss: 0.0182 - Dice: 0.9579 - val_loss: 0.1676 - val_Dice: 0.8406\n",
            "Epoch 66/70\n",
            "24/24 [==============================] - 5s 190ms/step - loss: 0.0178 - Dice: 0.9552 - val_loss: 0.1561 - val_Dice: 0.8432\n",
            "Epoch 67/70\n",
            "24/24 [==============================] - 5s 189ms/step - loss: 0.0169 - Dice: 0.9595 - val_loss: 0.1719 - val_Dice: 0.8382\n",
            "Epoch 68/70\n",
            "24/24 [==============================] - 5s 189ms/step - loss: 0.0166 - Dice: 0.9610 - val_loss: 0.1806 - val_Dice: 0.8468\n",
            "Epoch 69/70\n",
            "24/24 [==============================] - 5s 189ms/step - loss: 0.0153 - Dice: 0.9617 - val_loss: 0.1903 - val_Dice: 0.8391\n",
            "Epoch 70/70\n",
            "24/24 [==============================] - 5s 195ms/step - loss: 0.0168 - Dice: 0.9609 - val_loss: 0.1698 - val_Dice: 0.8367\n"
          ],
          "name": "stdout"
        }
      ]
    },
    {
      "cell_type": "code",
      "metadata": {
        "id": "77alWyEURNWv"
      },
      "source": [
        "loss = results.history['loss']\n",
        "val_loss = results.history['val_Dice']\n",
        "\n",
        "epochs = range(70)\n",
        "\n",
        "plt.figure()\n",
        "plt.plot(epochs, loss, 'r', label='Training loss Cross entropy')\n",
        "plt.plot(epochs, val_loss, 'bo', label='Validation Dice Metric')\n",
        "plt.title('Training and Validation Loss')\n",
        "plt.xlabel('Epoch')\n",
        "plt.ylabel('Loss Value')\n",
        "plt.ylim([0, 1])\n",
        "plt.legend()\n",
        "plt.show()"
      ],
      "execution_count": null,
      "outputs": []
    },
    {
      "cell_type": "code",
      "metadata": {
        "id": "m759RpTUXvlA"
      },
      "source": [
        "def display_mask(i):\n",
        "    \"\"\"Quick utility to display a model's prediction.\"\"\"\n",
        "    mask = np.argmax(val_preds[i], axis=-1)\n",
        "    mask = np.expand_dims(mask, axis=-1)\n",
        "    img = PIL.ImageOps.autocontrast(keras.preprocessing.image.array_to_img(mask))\n",
        "    display(img)\n",
        "\n",
        "pr = model.predict(test_image[:7])"
      ],
      "execution_count": null,
      "outputs": []
    },
    {
      "cell_type": "code",
      "metadata": {
        "id": "6TEFnQPlXvnp"
      },
      "source": [
        "mask1 = np.argmax(pr[2], axis=-1)\n",
        "plt.imshow(mask1)\n"
      ],
      "execution_count": null,
      "outputs": []
    },
    {
      "cell_type": "code",
      "metadata": {
        "id": "NghUE-MYeDwM"
      },
      "source": [
        "plt.imshow(test_seg_f[2])\n"
      ],
      "execution_count": null,
      "outputs": []
    }
  ]
}